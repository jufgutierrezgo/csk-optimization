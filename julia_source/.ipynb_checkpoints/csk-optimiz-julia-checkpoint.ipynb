{
 "cells": [
  {
   "cell_type": "markdown",
   "metadata": {},
   "source": [
    "# CSK constellation optimization\n",
    "\n",
    "* $\\alpha \\in \\mathbb{R}^{N\\times 3}$ is the set of input points, N vectors of length 3 (r,g,b)\n",
    "* $H \\in \\mathbb{R}^{3\\times 3}$ is the transformation matrix\n",
    "\n",
    "\n",
    "The problem to solve is:\n",
    "$$\n",
    "\\begin{aligned}\n",
    "\\max \\min_{\\alpha} \\quad & ||\\alpha H_{i,:} - \\alpha H_{j,:}||_{2}^{2}, i=1...N, j=1...N, i\\ne j\\\\\n",
    "\\textrm{s.t.} \\quad & \\sum_{j=1}^{3}\\alpha_{i,j} \\le 1, i=1...N\\\\\n",
    "  &\\alpha >= 0    \\\\\n",
    "\\end{aligned}\n",
    "$$\n",
    "\n",
    "\n",
    "This $\\max \\min$ problem can be rewritten as:\n",
    "\n",
    "$$\n",
    "\\begin{aligned}\n",
    "\\max_{\\alpha} \\quad & Z\\\\ \n",
    "\\textrm{s.t.} \\quad & \\sum_{j=1}^{3}\\alpha_{i,j} \\le 1, i=1...N\\\\\n",
    "  &\\alpha >= 0    \\\\\n",
    "  & Z \\le ||\\alpha H_{1,:} - \\alpha H_{2,:}||_{2}^{2}\\\\\n",
    "  & Z \\le ||\\alpha H_{1,:} - \\alpha H_{3,:}||_{2}^{2}\\\\\n",
    "  & \\vdots\n",
    "\\end{aligned}\n",
    "$$"
   ]
  },
  {
   "cell_type": "markdown",
   "metadata": {},
   "source": [
    "---\n",
    "Install and import required packages"
   ]
  },
  {
   "cell_type": "code",
   "execution_count": 1,
   "metadata": {
    "collapsed": true
   },
   "outputs": [],
   "source": [
    "using Pkg\n",
    "Pkg.add(\"JuMP\")        # to express optimization problems\n",
    "Pkg.add(\"Ipopt\")       # solver\n",
    "Pkg.add(\"PlotlyJS\")    # for plotting\n",
    "Pkg.add(\"DataFrames\")\n"
   ]
  },
  {
   "cell_type": "markdown",
   "metadata": {},
   "source": [
    "Check packages versions (for reference)"
   ]
  },
  {
   "cell_type": "code",
   "execution_count": 2,
   "metadata": {
    "collapsed": true
   },
   "outputs": [],
   "source": [
    "\n",
    "Pkg.status()"
   ]
  },
  {
   "cell_type": "code",
   "execution_count": 3,
   "metadata": {
    "collapsed": true
   },
   "outputs": [],
   "source": [
    "using JuMP\n",
    "using Ipopt\n",
    "using PlotlyJS\n",
    "using DataFrames"
   ]
  },
  {
   "cell_type": "markdown",
   "metadata": {},
   "source": [
    "\n",
    "---\n",
    "## Implementation\n",
    "Number of points in the constellation"
   ]
  },
  {
   "cell_type": "code",
   "execution_count": 4,
   "metadata": {
    "collapsed": true
   },
   "outputs": [],
   "source": [
    "N = 4"
   ]
  },
  {
   "cell_type": "markdown",
   "metadata": {},
   "source": [
    "Define an empty model and assign the solver.\n",
    "\n",
    "**TODO: experiment with different NLP [solvers](https://jump.dev/JuMP.jl/stable/installation/#Supported-solvers)**"
   ]
  },
  {
   "cell_type": "code",
   "execution_count": 5,
   "metadata": {
    "collapsed": true
   },
   "outputs": [],
   "source": [
    "\n",
    "model = Model(Ipopt.Optimizer)"
   ]
  },
  {
   "cell_type": "markdown",
   "metadata": {},
   "source": [
    "Define the variable $\\alpha$. It is very convenient that it can be defined as a $N\\times 3$ matrix."
   ]
  },
  {
   "cell_type": "code",
   "execution_count": 6,
   "metadata": {
    "collapsed": true
   },
   "outputs": [],
   "source": [
    "@variable(model, ɑ[1:N, 1:3]  >= 0.0)\n"
   ]
  },
  {
   "cell_type": "code",
   "execution_count": 7,
   "metadata": {
    "collapsed": true
   },
   "outputs": [],
   "source": [
    "@constraint(model, sum(ɑ, dims=2) .- 1 .== 0)\n"
   ]
  },
  {
   "cell_type": "markdown",
   "metadata": {},
   "source": [
    "**TODO: try with different $H$ matrices**"
   ]
  },
  {
   "cell_type": "code",
   "execution_count": 8,
   "metadata": {
    "collapsed": true
   },
   "outputs": [],
   "source": [
    "# H = 55.3e-3*[1 0.042  0.030; 0.194  0.665  0.277;0.009 0.084 0.421]\n",
    "H = [1 0 0; 0 1 0;0 0 1]\n"
   ]
  },
  {
   "cell_type": "markdown",
   "metadata": {},
   "source": [
    "**TODO: Explore with different norms. Using the Euclidean norm results in  a solver error.**"
   ]
  },
  {
   "cell_type": "code",
   "execution_count": 9,
   "metadata": {
    "collapsed": true
   },
   "outputs": [],
   "source": [
    "manhattan(x,y) = sum((abs(x[i]-y[i]) for i in 1:3))\n",
    "euclid(x,y) = sqrt(sum((x[i]-y[i])^2 for i in 1:3))\n",
    "# euclid(x,y) = sum((x[i]-y[i])^2 for i in 1:3)\n",
    "norm = manhattan # for the time-being only the Manhattan norm is working\n",
    "# norm = euclid\n"
   ]
  },
  {
   "cell_type": "code",
   "execution_count": 10,
   "metadata": {
    "collapsed": true
   },
   "outputs": [],
   "source": [
    "ɑH = ɑ*H  # define output constellation\n",
    "\n",
    "# calculate pairwise distances\n",
    "dist_ = [norm(ɑH[i,:], ɑH[j,:]) for i in 1:N for j in 1:N if i != j] #comprehensions\n",
    "Nd = size(dist_)[1]\n",
    "@expression(model, dist[i=1:Nd], dist_[i])\n",
    "\n"
   ]
  },
  {
   "cell_type": "markdown",
   "metadata": {},
   "source": [
    "There are two different ways (at least) to formulate the optimization problem\n",
    "* Directly formulating the $\\max \\min$ problem\n",
    "* Rewriting it as a $\\max$ problem with a slack variable and additional constraints\n",
    "\n",
    "Only the latter one is working\n",
    "\n",
    "**TODO: investigate why**"
   ]
  },
  {
   "cell_type": "code",
   "execution_count": 11,
   "metadata": {
    "collapsed": true
   },
   "outputs": [],
   "source": [
    "approx = true\n",
    "if approx\n",
    "\t# uses the rewriting of the maxmin\n",
    "\t@variable(model, Z >= 0)\n",
    "\t@constraint(model, Z .<= dist_)\n",
    "\t@objective(model, Max, Z)\n",
    "else\n",
    "\t# this approch is currently not working. TODO: investigate\n",
    "\tf(args...) = min(args...)\n",
    "\t@objective(model, Max, f(dist...))\n",
    "end"
   ]
  },
  {
   "cell_type": "code",
   "execution_count": 12,
   "metadata": {
    "collapsed": true
   },
   "outputs": [],
   "source": [
    "optimize!(model)"
   ]
  },
  {
   "cell_type": "code",
   "execution_count": 13,
   "metadata": {
    "collapsed": true
   },
   "outputs": [],
   "source": [
    "solution_summary(model)"
   ]
  },
  {
   "cell_type": "markdown",
   "metadata": {},
   "source": [
    "## Get the results"
   ]
  },
  {
   "cell_type": "code",
   "execution_count": 21,
   "metadata": {
    "collapsed": true
   },
   "outputs": [],
   "source": [
    "input = value.(ɑ)\n",
    "output = input * H"
   ]
  },
  {
   "cell_type": "markdown",
   "metadata": {},
   "source": [
    "## Plot results\n",
    "\n",
    "Plot input constellation"
   ]
  },
  {
   "cell_type": "code",
   "execution_count": 27,
   "metadata": {},
   "outputs": [],
   "source": [
    "df_i = DataFrame(input, :auto)\n",
    "plot(df_i, x=:x1, y=:x2, z=:x3, type=\"scatter3d\", mode=\"markers\")\n"
   ]
  },
  {
   "cell_type": "markdown",
   "metadata": {},
   "source": [
    "plot output constellation"
   ]
  },
  {
   "cell_type": "code",
   "execution_count": 26,
   "metadata": {},
   "outputs": [],
   "source": [
    "df_out = DataFrame(output, :auto)\n",
    "plot(df_out, x=:x1, y=:x2, z=:x3, type=\"scatter3d\", mode=\"markers\")"
   ]
  },
  {
   "cell_type": "markdown",
   "metadata": {},
   "source": [
    "Verify Euclidean distance for input and output points:"
   ]
  },
  {
   "cell_type": "code",
   "execution_count": 24,
   "metadata": {
    "collapsed": true
   },
   "outputs": [],
   "source": [
    "euclid_norm  = [euclid(output[i,:], output[j,:]) for i in 1:N for j in 1:N if i != j];\n",
    "min(euclid_norm...)"
   ]
  },
  {
   "cell_type": "code",
   "execution_count": 18,
   "metadata": {
    "collapsed": true
   },
   "outputs": [],
   "source": [
    "plot(euclid_norm)"
   ]
  },
  {
   "cell_type": "code",
   "execution_count": 19,
   "metadata": {
    "collapsed": true
   },
   "outputs": [],
   "source": [
    "plot(DataFrame([euclid_norm], :auto), x=:x1, kind=\"histogram\")"
   ]
  },
  {
   "cell_type": "code",
   "execution_count": 20,
   "metadata": {
    "collapsed": true
   },
   "outputs": [],
   "source": [
    "euclid_norm  = [euclid(input[i,:], input[j,:]) for i in 1:N for j in 1:N if i != j];\n",
    "min(euclid_norm...)"
   ]
  }
 ],
 "metadata": {
  "@webio": {
   "lastCommId": null,
   "lastKernelId": null
  },
  "kernelspec": {
   "display_name": "Julia 1.9.3",
   "language": "julia",
   "name": "julia-1.9"
  },
  "language_info": {
   "file_extension": ".jl",
   "mimetype": "application/julia",
   "name": "julia",
   "version": "1.9.3"
  }
 },
 "nbformat": 4,
 "nbformat_minor": 4
}
