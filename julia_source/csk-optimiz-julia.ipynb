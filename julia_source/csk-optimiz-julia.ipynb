{
 "cells": [
  {
   "cell_type": "markdown",
   "metadata": {},
   "source": [
    "# CSK constellation optimization\n",
    "\n",
    "* $\\alpha \\in \\mathbb{R}^{N\\times 3}$ is the set of input points, N vectors of length 3 (r,g,b)\n",
    "* $H \\in \\mathbb{R}^{3\\times 3}$ is the transformation matrix\n",
    "\n",
    "\n",
    "The problem to solve is:\n",
    "$$\n",
    "\\begin{aligned}\n",
    "\\max \\min_{\\alpha} \\quad & ||\\alpha H_{i,:} - \\alpha H_{j,:}||_{2}^{2}, i=1...N, j=1...N, i\\ne j\\\\\n",
    "\\textrm{s.t.} \\quad & \\sum_{j=1}^{3}\\alpha_{i,j} \\le 1, i=1...N\\\\\n",
    "  &\\alpha >= 0    \\\\\n",
    "\\end{aligned}\n",
    "$$\n",
    "\n",
    "\n",
    "This $\\max \\min$ problem can be rewritten as:\n",
    "\n",
    "$$\n",
    "\\begin{aligned}\n",
    "\\max_{\\alpha} \\quad & Z\\\\ \n",
    "\\textrm{s.t.} \\quad & \\sum_{j=1}^{3}\\alpha_{i,j} \\le 1, i=1...N\\\\\n",
    "  &\\alpha >= 0    \\\\\n",
    "  & Z \\le ||\\alpha H_{1,:} - \\alpha H_{2,:}||_{2}^{2}\\\\\n",
    "  & Z \\le ||\\alpha H_{1,:} - \\alpha H_{3,:}||_{2}^{2}\\\\\n",
    "  & \\vdots\n",
    "\\end{aligned}\n",
    "$$"
   ]
  },
  {
   "cell_type": "markdown",
   "metadata": {},
   "source": [
    "---\n",
    "Install and import required packages"
   ]
  },
  {
   "cell_type": "code",
   "execution_count": 1,
   "metadata": {},
   "outputs": [
    {
     "name": "stderr",
     "output_type": "stream",
     "text": [
      "\u001b[32m\u001b[1m   Resolving\u001b[22m\u001b[39m package versions...\n",
      "\u001b[32m\u001b[1m  No Changes\u001b[22m\u001b[39m to `~/.julia/environments/v1.9/Project.toml`\n",
      "\u001b[32m\u001b[1m  No Changes\u001b[22m\u001b[39m to `~/.julia/environments/v1.9/Manifest.toml`\n",
      "\u001b[32m\u001b[1m   Resolving\u001b[22m\u001b[39m package versions...\n",
      "\u001b[32m\u001b[1m  No Changes\u001b[22m\u001b[39m to `~/.julia/environments/v1.9/Project.toml`\n",
      "\u001b[32m\u001b[1m  No Changes\u001b[22m\u001b[39m to `~/.julia/environments/v1.9/Manifest.toml`\n",
      "\u001b[32m\u001b[1m   Resolving\u001b[22m\u001b[39m package versions...\n",
      "\u001b[32m\u001b[1m  No Changes\u001b[22m\u001b[39m to `~/.julia/environments/v1.9/Project.toml`\n",
      "\u001b[32m\u001b[1m  No Changes\u001b[22m\u001b[39m to `~/.julia/environments/v1.9/Manifest.toml`\n",
      "\u001b[32m\u001b[1m   Resolving\u001b[22m\u001b[39m package versions...\n",
      "\u001b[32m\u001b[1m  No Changes\u001b[22m\u001b[39m to `~/.julia/environments/v1.9/Project.toml`\n",
      "\u001b[32m\u001b[1m  No Changes\u001b[22m\u001b[39m to `~/.julia/environments/v1.9/Manifest.toml`\n"
     ]
    },
    {
     "name": "stdout",
     "output_type": "stream",
     "text": [
      "\u001b[32m\u001b[1mStatus\u001b[22m\u001b[39m `~/.julia/environments/v1.9/Project.toml`\n",
      "  \u001b[90m[a93c6f00] \u001b[39mDataFrames v1.6.1\n",
      "  \u001b[90m[7073ff75] \u001b[39mIJulia v1.24.2\n",
      "  \u001b[90m[b6b21f68] \u001b[39mIpopt v1.4.2\n",
      "  \u001b[90m[4076af6c] \u001b[39mJuMP v1.15.1\n",
      "  \u001b[90m[f0f68f2c] \u001b[39mPlotlyJS v0.18.10\n",
      "  \u001b[90m[0f1e0344] \u001b[39mWebIO v0.8.21\n"
     ]
    },
    {
     "data": {
      "application/vnd.webio.node+json": {
       "children": [],
       "instanceArgs": {
        "namespace": "html",
        "tag": "div"
       },
       "nodeType": "DOM",
       "props": {},
       "type": "node"
      },
      "text/html": [
       "<div style=\"padding: 1em; background-color: #f8d6da; border: 1px solid #f5c6cb; font-weight: bold;\">\n",
       "<p>The WebIO Jupyter extension was not detected. See the\n",
       "<a href=\"https://juliagizmos.github.io/WebIO.jl/latest/providers/ijulia/\" target=\"_blank\">\n",
       "    WebIO Jupyter integration documentation\n",
       "</a>\n",
       "for more information.\n",
       "</div>\n"
      ],
      "text/plain": [
       "WebIO._IJuliaInit()"
      ]
     },
     "metadata": {},
     "output_type": "display_data"
    }
   ],
   "source": [
    "using Pkg\n",
    "Pkg.add(\"JuMP\")        # to express optimization problems\n",
    "Pkg.add(\"Ipopt\")       # solver\n",
    "Pkg.add(\"PlotlyJS\")    # for plotting\n",
    "Pkg.add(\"DataFrames\")\n",
    "\n",
    "Pkg.status()\n",
    "\n",
    "using JuMP\n",
    "using Ipopt\n",
    "using PlotlyJS\n",
    "using DataFrames"
   ]
  },
  {
   "cell_type": "markdown",
   "metadata": {},
   "source": [
    "\n",
    "---\n",
    "## Implementation\n",
    "Number of points in the constellation"
   ]
  },
  {
   "cell_type": "code",
   "execution_count": 7,
   "metadata": {},
   "outputs": [
    {
     "name": "stdout",
     "output_type": "stream",
     "text": [
      "[-0.8660254037844386, 0.5, -0.28867513459481287]\n",
      "[-0.8660254037844386, -0.5, 0.28867513459481287]\n",
      "[0.0, -1.0, -0.28867513459481287]\n"
     ]
    },
    {
     "data": {
      "text/plain": [
       "4-element Vector{ConstraintRef{Model, MathOptInterface.ConstraintIndex{MathOptInterface.ScalarAffineFunction{Float64}, MathOptInterface.LessThan{Float64}}, ScalarShape}}:\n",
       " constraint3 : -ɑ[1,2] ≤ 0.28867513459481287\n",
       " constraint3 : -ɑ[2,2] ≤ 0.28867513459481287\n",
       " constraint3 : -ɑ[3,2] ≤ 0.28867513459481287\n",
       " constraint3 : -ɑ[4,2] ≤ 0.28867513459481287"
      ]
     },
     "execution_count": 7,
     "metadata": {},
     "output_type": "execute_result"
    }
   ],
   "source": [
    "N = 4\n",
    "M = 2\n",
    "\n",
    "# Define an empty model and assign the solver.\n",
    "# **TODO: experiment with different NLP [solvers](https://jump.dev/JuMP.jl/stable/installation/#Supported-solvers)**\n",
    "model = Model(Ipopt.Optimizer)\n",
    "\n",
    "# Define the variable $\\alpha$. It is very convenient that it can be defined as a $N\\times 3$ matrix.\n",
    "if M == 3\n",
    "    @variable(model, ɑ[1:N, 1:M]  >= 0.0)\n",
    "elseif M == 2\n",
    "    @variable(model, ɑ[1:N, 1:M])\n",
    "end\n",
    "\n",
    "# Defining constraints\n",
    "function line_equation(x1, y1, x2, y2)\n",
    "    A = y2 - y1\n",
    "    B = x1 - x2\n",
    "    C = x2 * y1 - x1 * y2\n",
    "    \n",
    "    # Output the equation in the form Ax + By + C = 0\n",
    "    # println(\"The general equation of the line is: $A*x + $B*y + $C = 0\")\n",
    "    return [A;B;C]\n",
    "end\n",
    "\n",
    "if M == 3\n",
    "    @constraint(model, sum(ɑ, dims=2) .- 1 .== 0)\n",
    "elseif M == 2\n",
    "    vertex = [0 sqrt(3)/3; -1/2 -sqrt(3)/6; 1/2 -sqrt(3)/6]\n",
    "    coeffs_1 = line_equation(vertex[1,1], vertex[1,2], vertex[2,1], vertex[2,2])\n",
    "    coeffs_2 = line_equation(vertex[1,1], vertex[1,2], vertex[3,1], vertex[3,2])\n",
    "    coeffs_3 = line_equation(vertex[2,1], vertex[2,2], vertex[3,1], vertex[3,2])\n",
    "    \n",
    "    println(coeffs_1)\n",
    "    println(coeffs_2)\n",
    "    println(coeffs_3)\n",
    "    \n",
    "    @constraint(model, constraint1, ɑ * coeffs_1[1:2] .+ coeffs_1[3] .>= 0)\n",
    "    @constraint(model, constraint2, ɑ * coeffs_2[1:2] .+ coeffs_2[3] .>= 0)\n",
    "    @constraint(model, constraint3, ɑ * coeffs_3[1:2] .+ coeffs_3[3] .<= 0)\n",
    "end"
   ]
  },
  {
   "cell_type": "markdown",
   "metadata": {},
   "source": [
    "**TODO: Explore with different norms. Using the Euclidean norm results in  a solver error.**"
   ]
  },
  {
   "cell_type": "code",
   "execution_count": 8,
   "metadata": {},
   "outputs": [
    {
     "data": {
      "text/latex": [
       "$ \\textsf{min}\\left({\\textsf{min}\\left({\\textsf{min}\\left({\\textsf{min}\\left({\\textsf{min}\\left({\\textsf{min}\\left({\\textsf{min}\\left({\\textsf{min}\\left({\\textsf{min}\\left({\\textsf{min}\\left({\\textsf{min}\\left({{\\textsf{abs}\\left({ɑ[1,1] - ɑ[2,1]}\\right)} + {\\textsf{abs}\\left({ɑ[1,2] - ɑ[2,2]}\\right)}}, {{\\textsf{abs}\\left({ɑ[1,1] - ɑ[3,1]}\\right)} + {\\textsf{abs}\\left({ɑ[1,2] - ɑ[3,2]}\\right)}}\\right)}, {{\\textsf{abs}\\left({ɑ[1,1] - ɑ[4,1]}\\right)} + {\\textsf{abs}\\left({ɑ[1,2] - ɑ[4,2]}\\right)}}\\right)}, {{\\textsf{abs}\\left({ɑ[2,1] - ɑ[1,1]}\\right)} + {\\textsf{abs}\\left({ɑ[2,2] - ɑ[1,2]}\\right)}}\\right)}, {{\\textsf{abs}\\left({ɑ[2,1] - ɑ[3,1]}\\right)} + {\\textsf{abs}\\left({ɑ[2,2] - ɑ[3,2]}\\right)}}\\right)}, {{\\textsf{abs}\\left({ɑ[2,1] - ɑ[4,1]}\\right)} + {\\textsf{abs}\\left({ɑ[2,2] - ɑ[4,2]}\\right)}}\\right)}, {{\\textsf{abs}\\left({ɑ[3,1] - ɑ[1,1]}\\right)} + {\\textsf{abs}\\left({ɑ[3,2] - ɑ[1,2]}\\right)}}\\right)}, {{\\textsf{abs}\\left({ɑ[3,1] - ɑ[2,1]}\\right)} + {\\textsf{abs}\\left({ɑ[3,2] - ɑ[2,2]}\\right)}}\\right)}, {{\\textsf{abs}\\left({ɑ[3,1] - ɑ[4,1]}\\right)} + {\\textsf{abs}\\left({ɑ[3,2] - ɑ[4,2]}\\right)}}\\right)}, {{\\textsf{abs}\\left({ɑ[4,1] - ɑ[1,1]}\\right)} + {\\textsf{abs}\\left({ɑ[4,2] - ɑ[1,2]}\\right)}}\\right)}, {{\\textsf{abs}\\left({ɑ[4,1] - ɑ[2,1]}\\right)} + {\\textsf{abs}\\left({ɑ[4,2] - ɑ[2,2]}\\right)}}\\right)}, {{\\textsf{abs}\\left({ɑ[4,1] - ɑ[3,1]}\\right)} + {\\textsf{abs}\\left({ɑ[4,2] - ɑ[3,2]}\\right)}}\\right) $"
      ],
      "text/plain": [
       "min(min(min(min(min(min(min(min(min(min(min(abs(ɑ[1,1] - ɑ[2,1]) + abs(ɑ[1,2] - ɑ[2,2]), abs(ɑ[1,1] - ɑ[3,1]) + abs(ɑ[1,2] - ɑ[3,2])), abs(ɑ[1,1] - ɑ[4,1]) + abs(ɑ[1,2] - ɑ[4,2])), abs(ɑ[2,1] - ɑ[1,1]) + abs(ɑ[2,2] - ɑ[1,2])), abs(ɑ[2,1] - ɑ[3,1]) + abs(ɑ[2,2] - ɑ[3,2])), abs(ɑ[2,1] - ɑ[4,1]) + abs(ɑ[2,2] - ɑ[4,2])), abs(ɑ[3,1] - ɑ[1,1]) + abs(ɑ[3,2] - ɑ[1,2])), abs(ɑ[3,1] - ɑ[2,1]) + abs(ɑ[3,2] - ɑ[2,2])), abs(ɑ[3,1] - ɑ[4,1]) + abs(ɑ[3,2] - ɑ[4,2])), abs(ɑ[4,1] - ɑ[1,1]) + abs(ɑ[4,2] - ɑ[1,2])), abs(ɑ[4,1] - ɑ[2,1]) + abs(ɑ[4,2] - ɑ[2,2])), abs(ɑ[4,1] - ɑ[3,1]) + abs(ɑ[4,2] - ɑ[3,2]))"
      ]
     },
     "execution_count": 8,
     "metadata": {},
     "output_type": "execute_result"
    }
   ],
   "source": [
    "# Defining the transformation matrix of the channel\n",
    "# **TODO: try with different $H$ matrices**\n",
    "H = 55.3e-3*[1 0.042  0.030; 0.194  0.665  0.277;0.009 0.084 0.421]\n",
    "\n",
    "# Defining the distance for the objective functions\n",
    "manhattan(x,y) = sum((abs(x[i]-y[i]) for i in 1:M))\n",
    "euclid(x,y) = sqrt(sum((x[i]-y[i])^2 for i in 1:M))\n",
    "# norm = euclid # for the time-being only the Manhattan norm is working\n",
    "norm = manhattan # for the time-being only the Manhattan norm is working\n",
    "\n",
    "# Defining the variable with the transformation of the channel\n",
    "\n",
    "# ɑH = ɑ*H  # define output constellation\n",
    "ɑH = ɑ  # define output constellation\n",
    "\n",
    "# calculate pairwise distances\n",
    "dist_ = [norm(ɑH[i,:], ɑH[j,:]) for i in 1:N for j in 1:N if i != j]\n",
    "# min_dist_ = minimum(dist_)\n",
    "Nd = size(dist_)[1]\n",
    "# @expression(model, dist[i=1:Nd], dist_[i])\n",
    "@expression(model, min_dist, minimum(dist_)) "
   ]
  },
  {
   "cell_type": "markdown",
   "metadata": {},
   "source": [
    "There are two different ways (at least) to formulate the optimization problem\n",
    "* Directly formulating the $\\max \\min$ problem\n",
    "* Rewriting it as a $\\max$ problem with a slack variable and additional constraints\n",
    "\n",
    "Only the latter one is working\n",
    "\n",
    "**TODO: investigate why**"
   ]
  },
  {
   "cell_type": "code",
   "execution_count": 9,
   "metadata": {},
   "outputs": [
    {
     "data": {
      "text/latex": [
       "$ \\textsf{min}\\left({\\textsf{min}\\left({\\textsf{min}\\left({\\textsf{min}\\left({\\textsf{min}\\left({\\textsf{min}\\left({\\textsf{min}\\left({\\textsf{min}\\left({\\textsf{min}\\left({\\textsf{min}\\left({\\textsf{min}\\left({{\\textsf{abs}\\left({ɑ[1,1] - ɑ[2,1]}\\right)} + {\\textsf{abs}\\left({ɑ[1,2] - ɑ[2,2]}\\right)}}, {{\\textsf{abs}\\left({ɑ[1,1] - ɑ[3,1]}\\right)} + {\\textsf{abs}\\left({ɑ[1,2] - ɑ[3,2]}\\right)}}\\right)}, {{\\textsf{abs}\\left({ɑ[1,1] - ɑ[4,1]}\\right)} + {\\textsf{abs}\\left({ɑ[1,2] - ɑ[4,2]}\\right)}}\\right)}, {{\\textsf{abs}\\left({ɑ[2,1] - ɑ[1,1]}\\right)} + {\\textsf{abs}\\left({ɑ[2,2] - ɑ[1,2]}\\right)}}\\right)}, {{\\textsf{abs}\\left({ɑ[2,1] - ɑ[3,1]}\\right)} + {\\textsf{abs}\\left({ɑ[2,2] - ɑ[3,2]}\\right)}}\\right)}, {{\\textsf{abs}\\left({ɑ[2,1] - ɑ[4,1]}\\right)} + {\\textsf{abs}\\left({ɑ[2,2] - ɑ[4,2]}\\right)}}\\right)}, {{\\textsf{abs}\\left({ɑ[3,1] - ɑ[1,1]}\\right)} + {\\textsf{abs}\\left({ɑ[3,2] - ɑ[1,2]}\\right)}}\\right)}, {{\\textsf{abs}\\left({ɑ[3,1] - ɑ[2,1]}\\right)} + {\\textsf{abs}\\left({ɑ[3,2] - ɑ[2,2]}\\right)}}\\right)}, {{\\textsf{abs}\\left({ɑ[3,1] - ɑ[4,1]}\\right)} + {\\textsf{abs}\\left({ɑ[3,2] - ɑ[4,2]}\\right)}}\\right)}, {{\\textsf{abs}\\left({ɑ[4,1] - ɑ[1,1]}\\right)} + {\\textsf{abs}\\left({ɑ[4,2] - ɑ[1,2]}\\right)}}\\right)}, {{\\textsf{abs}\\left({ɑ[4,1] - ɑ[2,1]}\\right)} + {\\textsf{abs}\\left({ɑ[4,2] - ɑ[2,2]}\\right)}}\\right)}, {{\\textsf{abs}\\left({ɑ[4,1] - ɑ[3,1]}\\right)} + {\\textsf{abs}\\left({ɑ[4,2] - ɑ[3,2]}\\right)}}\\right) $"
      ],
      "text/plain": [
       "min(min(min(min(min(min(min(min(min(min(min(abs(ɑ[1,1] - ɑ[2,1]) + abs(ɑ[1,2] - ɑ[2,2]), abs(ɑ[1,1] - ɑ[3,1]) + abs(ɑ[1,2] - ɑ[3,2])), abs(ɑ[1,1] - ɑ[4,1]) + abs(ɑ[1,2] - ɑ[4,2])), abs(ɑ[2,1] - ɑ[1,1]) + abs(ɑ[2,2] - ɑ[1,2])), abs(ɑ[2,1] - ɑ[3,1]) + abs(ɑ[2,2] - ɑ[3,2])), abs(ɑ[2,1] - ɑ[4,1]) + abs(ɑ[2,2] - ɑ[4,2])), abs(ɑ[3,1] - ɑ[1,1]) + abs(ɑ[3,2] - ɑ[1,2])), abs(ɑ[3,1] - ɑ[2,1]) + abs(ɑ[3,2] - ɑ[2,2])), abs(ɑ[3,1] - ɑ[4,1]) + abs(ɑ[3,2] - ɑ[4,2])), abs(ɑ[4,1] - ɑ[1,1]) + abs(ɑ[4,2] - ɑ[1,2])), abs(ɑ[4,1] - ɑ[2,1]) + abs(ɑ[4,2] - ɑ[2,2])), abs(ɑ[4,1] - ɑ[3,1]) + abs(ɑ[4,2] - ɑ[3,2]))"
      ]
     },
     "execution_count": 9,
     "metadata": {},
     "output_type": "execute_result"
    }
   ],
   "source": [
    "approx = true\n",
    "if M == 3\n",
    "\tif approx\n",
    "\t\t# uses the rewriting of the maxmin\n",
    "\t\t@variable(model, Z >= 0)\n",
    "\t\t@constraint(model, Z .<= dist)\n",
    "\t\t@objective(model, Max, Z)\n",
    "\telse\n",
    "\t\t# this approch is currently not working. TODO: investigate\n",
    "\t\tf(args...) = min(args...)\n",
    "\t\t@objective(model, Max, f(dist...))\n",
    "\tend\n",
    "\t\n",
    "elseif M ==2\n",
    "\t@objective(model, Max, min_dist)\n",
    "end"
   ]
  },
  {
   "cell_type": "code",
   "execution_count": 5,
   "metadata": {},
   "outputs": [
    {
     "name": "stdout",
     "output_type": "stream",
     "text": [
      "\n",
      "******************************************************************************\n",
      "This program contains Ipopt, a library for large-scale nonlinear optimization.\n",
      " Ipopt is released as open source code under the Eclipse Public License (EPL).\n",
      "         For more information visit https://github.com/coin-or/Ipopt\n",
      "******************************************************************************\n",
      "\n",
      "This is Ipopt version 3.14.13, running with linear solver MUMPS 5.6.1.\n",
      "\n",
      "Number of nonzeros in equality constraint Jacobian...:        0\n",
      "Number of nonzeros in inequality constraint Jacobian.:       80\n",
      "Number of nonzeros in Lagrangian Hessian.............:      528\n",
      "\n",
      "Total number of variables............................:       32\n",
      "                     variables with only lower bounds:        0\n",
      "                variables with lower and upper bounds:        0\n",
      "                     variables with only upper bounds:        0\n",
      "Total number of equality constraints.................:        0\n",
      "Total number of inequality constraints...............:       48\n",
      "        inequality constraints with only lower bounds:       32\n",
      "   inequality constraints with lower and upper bounds:        0\n",
      "        inequality constraints with only upper bounds:       16\n",
      "\n",
      "iter    objective    inf_pr   inf_du lg(mu)  ||d||  lg(rg) alpha_du alpha_pr  ls\n",
      "   0  0.0000000e+00 2.89e-01 1.09e+00  -1.0 0.00e+00    -  0.00e+00 0.00e+00   0\n",
      "   1  0.0000000e+00 2.82e-01 7.31e+01  -1.0 1.78e-01   4.0 1.00e+00 5.56e-02h  1\n",
      "   2  0.0000000e+00 2.63e-01 1.21e+03  -1.0 2.43e-01   3.5 1.00e+00 6.65e-02h  1\n",
      "   3  0.0000000e+00 0.00e+00 2.54e+02  -1.0 2.28e-01   3.0 1.00e+00 1.00e+00f  1\n",
      "   4  0.0000000e+00 0.00e+00 5.36e+00  -1.0 3.15e-03   2.6 9.88e-01 1.00e+00f  1\n",
      "   5  0.0000000e+00 0.00e+00 1.93e+01  -1.0 1.95e-02   3.0 1.00e+00 1.00e+00f  1\n",
      "   6  0.0000000e+00 0.00e+00 1.63e+00  -1.0 3.29e-03   2.5 1.00e+00 1.00e+00f  1\n",
      "   7  0.0000000e+00 0.00e+00 7.18e+00  -1.0 5.16e-02   2.0 1.00e+00 1.00e+00f  1\n",
      "   8  1.0532744e-05 0.00e+00 1.92e+00  -1.0 4.71e-03   2.5 1.00e+00 1.00e+00f  1\n",
      "   9  1.0577011e-05 0.00e+00 2.05e+00  -1.0 2.14e-03   2.9 1.00e+00 1.00e+00f  1\n",
      "iter    objective    inf_pr   inf_du lg(mu)  ||d||  lg(rg) alpha_du alpha_pr  ls\n",
      "  10  2.5240564e-05 0.00e+00 1.93e+00  -1.0 6.83e-04   3.3 1.00e+00 1.00e+00f  1\n",
      "  11  2.4517481e-05 0.00e+00 1.90e+00  -1.0 2.74e-03   2.8 1.00e+00 1.00e+00f  1\n",
      "  12  4.1429589e-04 0.00e+00 2.23e+00  -1.0 9.04e-04   3.3 1.00e+00 1.00e+00f  1\n",
      "  13  1.5660395e-04 0.00e+00 3.18e+00  -1.0 2.79e-03   2.8 1.00e+00 1.00e+00f  1\n",
      "  14  4.2672687e-04 0.00e+00 1.86e+00  -1.0 8.22e-04   3.2 1.00e+00 1.00e+00f  1\n",
      "  15  4.4391330e-04 0.00e+00 2.11e+00  -1.0 3.73e-03   2.7 1.00e+00 1.00e+00f  1\n",
      "  16  2.0135786e-04 0.00e+00 2.24e+00  -1.0 9.03e-04   3.2 1.00e+00 1.00e+00f  1\n",
      "  17  2.6725359e-04 0.00e+00 3.46e+00  -1.0 4.03e-03   2.7 1.00e+00 1.00e+00f  1\n",
      "  18  6.6628873e-04 0.00e+00 1.79e+00  -1.0 1.02e-03   3.1 1.00e+00 1.00e+00f  1\n",
      "  19  1.5625720e-04 0.00e+00 2.02e+00  -1.0 3.65e-03   2.6 1.00e+00 1.00e+00f  1\n",
      "iter    objective    inf_pr   inf_du lg(mu)  ||d||  lg(rg) alpha_du alpha_pr  ls\n",
      "  20  5.7039309e-05 0.00e+00 2.26e+00  -1.0 1.12e-03   3.1 1.00e+00 1.00e+00f  1\n",
      "  21  7.4306546e-04 0.00e+00 1.48e+01  -1.0 3.40e-02   2.6 1.00e+00 1.00e+00f  1\n",
      "  22  1.3946237e-04 0.00e+00 1.71e+00  -1.0 1.25e-03   3.0 1.00e+00 1.00e+00f  1\n",
      "  23  5.7547168e-04 0.00e+00 1.69e+00  -1.0 4.25e-04   3.4 1.00e+00 1.00e+00f  1\n",
      "  24  8.1000733e-04 0.00e+00 1.69e+00  -1.0 1.37e-03   3.0 1.00e+00 1.00e+00f  1\n",
      "  25  8.9081692e-04 0.00e+00 2.10e+00  -1.0 4.76e-04   3.4 1.00e+00 1.00e+00f  1\n",
      "  26  1.4789484e-04 0.00e+00 1.68e+00  -1.0 1.69e-03   2.9 1.00e+00 1.00e+00f  1\n",
      "  27  7.4800868e-04 0.00e+00 1.67e+00  -1.0 5.35e-04   3.3 1.00e+00 1.00e+00f  1\n",
      "  28  1.6729210e-04 0.00e+00 1.67e+00  -1.0 2.19e-03   2.9 1.00e+00 1.00e+00f  1\n",
      "  29  1.0332183e-03 0.00e+00 2.62e+00  -1.0 2.58e+00   2.4 2.23e-02 1.40e-03f  5\n",
      "iter    objective    inf_pr   inf_du lg(mu)  ||d||  lg(rg) alpha_du alpha_pr  ls\n",
      "  30  1.3049387e-03 0.00e+00 2.02e+00  -1.0 2.51e-03   2.8 1.00e+00 1.00e+00f  1\n",
      "  31  1.3264246e-03 0.00e+00 8.66e+00  -1.0 3.53e-02   2.3 1.00e+00 1.00e+00f  1\n",
      "  32  8.6643416e-04 0.00e+00 2.47e+00  -1.0 2.56e-03   2.8 1.00e+00 1.00e+00f  1\n",
      "  33  8.8832919e-04 0.00e+00 1.60e+00  -1.0 7.31e-04   3.2 1.00e+00 1.00e+00f  1\n",
      "  34  1.0961510e-03 0.00e+00 1.97e+00  -1.0 3.62e-03   2.7 1.00e+00 1.00e+00f  1\n",
      "  35  1.6546545e-03 0.00e+00 1.66e+00  -1.0 7.90e-04   3.1 1.00e+00 1.00e+00f  1\n",
      "  36  1.8602582e-03 0.00e+00 1.59e+00  -1.0 2.66e-03   2.7 1.00e+00 1.00e+00f  1\n",
      "  37  2.0626471e-03 0.00e+00 1.58e+00  -1.0 9.55e-04   3.1 1.00e+00 1.00e+00f  1\n",
      "  38  2.5154820e-03 0.00e+00 3.85e+00  -1.0 8.80e-03   2.6 1.00e+00 1.00e+00f  1\n",
      "  39  2.5609445e-03 0.00e+00 1.54e+00  -1.0 1.07e-03   3.0 1.00e+00 1.00e+00f  1\n",
      "iter    objective    inf_pr   inf_du lg(mu)  ||d||  lg(rg) alpha_du alpha_pr  ls\n",
      "  40  1.6715976e-03 0.00e+00 1.72e+00  -1.0 4.25e-03   2.6 1.00e+00 1.00e+00f  1\n",
      "  41  2.6297217e-03 0.00e+00 1.55e+00  -1.0 1.48e-03   3.0 1.00e+00 1.00e+00f  1\n",
      "  42  2.9178885e-03 0.00e+00 1.55e+00  -1.0 4.00e-04   3.4 1.00e+00 1.00e+00f  1\n",
      "  43  3.3613992e-03 0.00e+00 1.54e+00  -1.0 1.66e-03   2.9 1.00e+00 1.00e+00f  1\n",
      "  44  3.3556138e-03 0.00e+00 1.51e+00  -1.0 4.51e-04   3.4 1.00e+00 1.00e+00f  1\n",
      "  45  2.4587358e-03 0.00e+00 1.65e+00  -1.0 1.91e-03   2.9 1.00e+00 1.00e+00f  1\n",
      "  46  3.4036783e-03 0.00e+00 1.21e+00  -1.0 6.06e-04   3.3 1.00e+00 1.00e+00f  1\n",
      "  47  3.6196046e-03 0.00e+00 1.65e+00  -1.0 2.39e-03   2.8 1.00e+00 1.00e+00f  1\n",
      "  48  3.7533461e-03 0.00e+00 3.21e+00  -1.0 1.22e-02   2.3 1.00e+00 1.00e+00f  1\n",
      "  49  4.1808459e-03 0.00e+00 1.61e+00  -1.0 2.63e-03   2.8 1.00e+00 1.00e+00f  1\n",
      "iter    objective    inf_pr   inf_du lg(mu)  ||d||  lg(rg) alpha_du alpha_pr  ls\n",
      "  50  4.1946849e-03 0.00e+00 1.52e+00  -1.0 6.45e-04   3.2 1.00e+00 1.00e+00f  1\n",
      "  51  2.7912817e-03 0.00e+00 2.10e+00  -1.0 3.51e-03   2.7 1.00e+00 1.00e+00f  1\n",
      "  52  4.1951929e-03 0.00e+00 1.25e+00  -1.0 8.88e-04   3.1 1.00e+00 1.00e+00f  1\n",
      "  53  3.6117908e-03 0.00e+00 2.20e+00  -1.0 4.01e-03   2.7 1.00e+00 1.00e+00f  1\n",
      "  54  4.2848721e-03 0.00e+00 1.50e+00  -1.0 9.83e-04   3.1 1.00e+00 1.00e+00f  1\n",
      "  55  2.9791001e-03 0.00e+00 2.83e+00  -1.0 6.80e-03   2.6 1.00e+00 1.00e+00f  1\n",
      "  56  4.8654253e-03 0.00e+00 1.25e+00  -1.0 1.13e-03   3.0 1.00e+00 1.00e+00f  1\n",
      "  57  1.8925274e-03 0.00e+00 3.52e+00  -1.0 6.85e-03   2.6 1.00e+00 1.00e+00f  1\n",
      "  58  4.0664129e-03 0.00e+00 1.01e+00  -1.0 1.04e-03   3.0 1.00e+00 1.00e+00f  1\n",
      "  59  5.4372717e-03 0.00e+00 3.02e+00  -1.0 7.83e-03   2.5 1.00e+00 1.00e+00f  1\n",
      "iter    objective    inf_pr   inf_du lg(mu)  ||d||  lg(rg) alpha_du alpha_pr  ls\n",
      "  60  5.5994835e-03 0.00e+00 2.47e+00  -1.0 1.34e-03   2.9 1.00e+00 1.00e+00f  1\n",
      "  61  2.6449243e-03 0.00e+00 2.91e+00  -1.0 8.49e-03   2.5 1.00e+00 1.00e+00f  1\n",
      "  62  5.5173531e-03 0.00e+00 1.54e+00  -1.0 1.61e-03   2.9 1.00e+00 1.00e+00f  1\n",
      "  63  5.9977153e-03 0.00e+00 1.45e+01  -1.0 4.96e-02   2.4 1.00e+00 1.00e+00f  1\n",
      "  64  6.0456354e-03 0.00e+00 2.55e+00  -1.0 2.04e-03   2.8 1.00e+00 1.00e+00f  1\n",
      "  65  6.3484310e-03 0.00e+00 4.27e+00  -1.0 1.62e-02   2.4 1.00e+00 1.00e+00f  1\n",
      "  66  3.8082580e-03 0.00e+00 2.64e+00  -1.0 2.46e-03   2.8 1.00e+00 1.00e+00f  1\n",
      "  67  4.9320114e-03 0.00e+00 8.71e-01  -1.0 5.37e-04   3.2 1.00e+00 1.00e+00f  1\n",
      "  68  6.4633870e-03 0.00e+00 1.09e+00  -1.7 1.74e-03   2.7 1.00e+00 1.00e+00f  1\n",
      "  69  5.6261142e-03 0.00e+00 2.03e+00  -1.7 1.00e-02   2.3 1.00e+00 5.00e-01f  2\n",
      "iter    objective    inf_pr   inf_du lg(mu)  ||d||  lg(rg) alpha_du alpha_pr  ls\n",
      "  70  5.8772144e-03 0.00e+00 1.09e+00  -1.7 1.44e-03   2.7 1.00e+00 1.00e+00f  1\n",
      "  71  7.8435788e-03 0.00e+00 2.90e+00  -1.7 1.62e-02   2.2 1.00e+00 1.00e+00f  1\n",
      "  72  7.8384291e-03 0.00e+00 3.11e+00  -1.7 6.57e-03   2.6 1.00e+00 1.00e+00f  1\n",
      "  73  9.2410493e-03 0.00e+00 1.92e+00  -1.7 7.40e-04   3.1 1.00e+00 1.00e+00f  1\n",
      "  74  9.3036718e-03 0.00e+00 8.05e-01  -1.7 5.43e-03   2.6 1.00e+00 6.25e-02f  5\n",
      "  75  9.0317067e-03 0.00e+00 1.96e+00  -1.7 8.71e-04   3.0 1.00e+00 1.00e+00f  1\n",
      "  76  9.5160059e-03 0.00e+00 1.09e+00  -1.7 9.03e-03   2.5 1.00e+00 1.25e-01f  4\n",
      "  77  9.5310873e-03 0.00e+00 1.09e+00  -1.7 9.50e-04   3.0 1.00e+00 1.00e+00f  1\n",
      "  78  9.7668640e-03 0.00e+00 1.08e+00  -1.7 2.58e-03   2.5 1.00e+00 1.00e+00f  1\n",
      "  79  9.9653469e-03 0.00e+00 1.07e+00  -1.7 9.81e-04   2.9 1.00e+00 1.00e+00f  1\n",
      "iter    objective    inf_pr   inf_du lg(mu)  ||d||  lg(rg) alpha_du alpha_pr  ls\n",
      "  80  1.0728347e-02 0.00e+00 1.08e+00  -1.7 3.39e-04   3.3 1.00e+00 1.00e+00f  1\n",
      "  81  1.0816530e-02 0.00e+00 1.08e+00  -1.7 1.44e-03   2.9 1.00e+00 1.25e-01f  4\n",
      "  82  1.0691362e-02 0.00e+00 1.82e+00  -1.7 3.96e-04   3.3 1.00e+00 1.00e+00f  1\n",
      "  83  1.0641523e-02 0.00e+00 1.15e+00  -1.7 1.77e-03   2.8 1.00e+00 5.00e-01f  2\n",
      "  84  1.0704734e-02 0.00e+00 1.52e+00  -1.7 4.57e-04   3.2 1.00e+00 5.00e-01f  2\n",
      "  85  1.0755431e-02 0.00e+00 7.90e-01  -1.7 2.74e-03   2.8 1.00e+00 1.25e-01f  4\n",
      "  86  1.0893392e-02 0.00e+00 1.70e+00  -1.7 5.29e-04   3.2 1.00e+00 1.00e+00f  1\n",
      "  87  1.0703962e-02 0.00e+00 3.10e+00  -1.7 3.73e-03   2.7 1.00e+00 1.00e+00f  1\n",
      "  88  1.1200643e-02 0.00e+00 1.08e+00  -1.7 6.10e-04   3.1 1.00e+00 1.00e+00f  1\n",
      "  89  1.0520837e-02 0.00e+00 4.68e+00  -1.7 7.40e-03   2.7 1.00e+00 1.00e+00f  1\n",
      "iter    objective    inf_pr   inf_du lg(mu)  ||d||  lg(rg) alpha_du alpha_pr  ls\n",
      "  90  1.1263658e-02 0.00e+00 1.07e+00  -1.7 5.83e-04   3.1 1.00e+00 1.00e+00f  1\n",
      "  91  1.1395845e-02 0.00e+00 1.66e+00  -1.7 8.15e-03   2.6 1.00e+00 1.56e-02f  7\n",
      "  92  1.1375560e-02 0.00e+00 1.11e+00  -1.7 7.66e-04   3.0 1.00e+00 2.50e-01f  3\n",
      "  93  1.1540352e-02 0.00e+00 9.88e-01  -1.7 2.27e-02   2.6 1.00e+00 7.81e-03f  8\n",
      "  94  1.1588006e-02 0.00e+00 1.23e+00  -1.7 9.12e-04   3.0 1.00e+00 2.50e-01f  3\n",
      "  95  1.1566737e-02 0.00e+00 1.77e+00  -1.7 2.83e-04   3.4 1.00e+00 1.00e+00f  1\n",
      "  96  1.1549404e-02 0.00e+00 1.30e+00  -1.7 1.05e-03   2.9 1.00e+00 2.50e-01f  3\n",
      "  97  1.1658903e-02 0.00e+00 1.64e+00  -1.7 3.21e-04   3.4 1.00e+00 1.00e+00f  1\n",
      "  98  1.1735028e-02 0.00e+00 1.65e+00  -1.7 1.09e-03   2.9 1.00e+00 2.50e-01f  3\n",
      "  99  1.1841713e-02 0.00e+00 1.54e+00  -1.7 9.98e-03   2.4 1.00e+00 3.12e-02f  6\n",
      "iter    objective    inf_pr   inf_du lg(mu)  ||d||  lg(rg) alpha_du alpha_pr  ls\n",
      " 100  1.1836117e-02 0.00e+00 1.07e+00  -1.7 1.50e-03   2.8 1.00e+00 6.25e-02f  5\n",
      " 101  1.1811348e-02 0.00e+00 1.41e+00  -1.7 4.26e-04   3.2 1.00e+00 5.00e-01f  2\n",
      " 102  1.1918744e-02 0.00e+00 1.06e+00  -1.7 1.82e-03   2.8 1.00e+00 1.25e-01f  4\n",
      " 103  1.1796360e-02 0.00e+00 1.69e+00  -1.7 4.84e-04   3.2 1.00e+00 1.00e+00f  1\n",
      " 104  1.1885416e-02 0.00e+00 1.07e+00  -1.7 2.26e-03   2.7 1.00e+00 6.25e-02f  5\n",
      " 105  1.1802592e-02 0.00e+00 1.43e+00  -1.7 5.71e-04   3.1 1.00e+00 5.00e-01f  2\n",
      " 106  1.1639081e-02 0.00e+00 1.04e+00  -1.7 2.89e-03   2.7 1.00e+00 2.50e-01f  3\n",
      " 107  1.1951121e-02 0.00e+00 1.08e+00  -1.7 6.65e-04   3.1 1.00e+00 1.00e+00f  1\n",
      " 108  1.1960438e-02 0.00e+00 1.20e+00  -1.7 4.54e-03   2.6 1.00e+00 1.25e-01f  4\n",
      " 109  1.1728401e-02 0.00e+00 1.79e+00  -1.7 6.57e-04   3.0 1.00e+00 1.00e+00f  1\n",
      "iter    objective    inf_pr   inf_du lg(mu)  ||d||  lg(rg) alpha_du alpha_pr  ls\n",
      " 110  1.1476060e-02 0.00e+00 1.34e+00  -1.7 3.24e-03   2.6 1.00e+00 5.00e-01f  2\n",
      " 111  1.2077051e-02 0.00e+00 1.69e+00  -1.7 7.61e-04   3.0 1.00e+00 1.00e+00f  1\n",
      " 112  1.2083140e-02 0.00e+00 1.09e+00  -1.7 8.92e-03   2.5 1.00e+00 6.25e-02f  5\n",
      " 113  1.2143255e-02 0.00e+00 1.08e+00  -1.7 1.01e-03   2.9 1.00e+00 1.00e+00f  1\n",
      " 114  1.2110624e-02 0.00e+00 1.62e+00  -1.7 3.13e-04   3.4 1.00e+00 1.00e+00f  1\n",
      " 115  1.2549769e-02 0.00e+00 2.15e+00  -1.7 1.36e-03   2.9 1.00e+00 1.00e+00f  1\n",
      " 116  1.2418903e-02 0.00e+00 1.79e+00  -1.7 3.54e-04   3.3 1.00e+00 1.00e+00f  1\n",
      " 117  1.2424691e-02 0.00e+00 1.59e+00  -1.7 1.45e-03   2.8 1.00e+00 5.00e-01f  2\n",
      " 118  1.2486944e-02 0.00e+00 1.07e+00  -1.7 4.07e-04   3.3 1.00e+00 1.00e+00f  1\n",
      " 119  1.2407816e-02 0.00e+00 1.73e+00  -1.7 2.06e-03   2.8 1.00e+00 5.00e-01f  2\n",
      "iter    objective    inf_pr   inf_du lg(mu)  ||d||  lg(rg) alpha_du alpha_pr  ls\n",
      " 120  1.2855636e-02 0.00e+00 1.81e+00  -1.7 4.56e-04   3.2 1.00e+00 1.00e+00f  1\n",
      " 121  1.2751750e-02 0.00e+00 7.47e-01  -1.7 2.42e-03   2.7 1.00e+00 2.50e-01f  3\n",
      " 122  1.2882107e-02 0.00e+00 1.08e+00  -1.7 5.24e-04   3.2 1.00e+00 1.00e+00f  1\n",
      " 123  1.3533654e-02 0.00e+00 1.64e+00  -1.7 3.93e-03   2.7 1.00e+00 2.50e-01f  3\n",
      " 124  1.3340479e-02 0.00e+00 1.68e+00  -1.7 5.85e-04   3.1 1.00e+00 1.00e+00f  1\n",
      " 125  1.3351837e-02 0.00e+00 1.17e+00  -1.7 3.78e-03   2.6 1.00e+00 1.25e-01f  4\n",
      " 126  1.3550762e-02 0.00e+00 1.08e+00  -1.7 7.38e-04   3.1 1.00e+00 1.00e+00f  1\n",
      " 127  1.3622124e-02 0.00e+00 1.71e+00  -1.7 3.41e-03   2.6 1.00e+00 2.50e-01f  3\n",
      " 128  1.3635252e-02 0.00e+00 1.51e+00  -1.7 8.06e-04   3.0 1.00e+00 2.50e-01f  3\n",
      " 129  1.3668637e-02 0.00e+00 1.34e+00  -1.7 1.07e-02   2.5 1.00e+00 3.12e-02f  6\n",
      "iter    objective    inf_pr   inf_du lg(mu)  ||d||  lg(rg) alpha_du alpha_pr  ls\n",
      " 130  1.3334281e-02 0.00e+00 1.93e+00  -1.7 9.44e-04   3.0 1.00e+00 1.00e+00f  1\n",
      " 131  1.3775613e-02 0.00e+00 1.78e+00  -1.7 3.88e-02   2.5 1.00e+00 3.12e-02f  6\n",
      " 132  1.3956699e-02 0.00e+00 7.14e-01  -1.7 1.24e-03   2.9 1.00e+00 2.50e-01f  3\n",
      " 133  1.4014944e-02 0.00e+00 1.44e+00  -1.7 1.28e-01   2.4 8.77e-01 3.20e-03f  9\n",
      " 134  1.4024219e-02 0.00e+00 1.26e+00  -1.7 1.52e-03   2.9 1.00e+00 5.00e-01f  2\n",
      " 135  1.4106615e-02 0.00e+00 1.37e+00  -1.7 1.21e-02   2.4 1.00e+00 6.25e-02f  5\n",
      " 136  1.3920019e-02 0.00e+00 1.98e+00  -1.7 1.60e-03   2.8 1.00e+00 1.00e+00f  1\n",
      " 137  1.4073899e-02 0.00e+00 1.08e+00  -1.7 4.46e-04   3.2 1.00e+00 1.00e+00f  1\n",
      " 138  1.4245734e-02 0.00e+00 1.31e+00  -1.7 2.12e-03   2.8 1.00e+00 1.00e+00f  1\n",
      " 139  1.4838510e-02 0.00e+00 1.76e+00  -1.7 4.87e-04   3.2 1.00e+00 1.00e+00f  1\n",
      "iter    objective    inf_pr   inf_du lg(mu)  ||d||  lg(rg) alpha_du alpha_pr  ls\n",
      " 140  1.4855380e-02 0.00e+00 1.57e+00  -1.7 2.77e-03   2.7 1.00e+00 1.00e+00f  1\n",
      " 141  1.4870041e-02 0.00e+00 1.64e+00  -1.7 5.19e-04   3.1 1.00e+00 1.00e+00f  1\n",
      " 142  1.4875799e-02 0.00e+00 1.08e+00  -1.7 3.16e-03   2.7 1.00e+00 3.12e-02f  6\n",
      " 143  1.4904828e-02 0.00e+00 1.65e+00  -1.7 3.71e-01   2.2 2.63e-01 9.38e-04f  9\n",
      " 144  1.4884500e-02 0.00e+00 2.05e+00  -1.7 1.18e-02   2.6 1.00e+00 6.25e-02f  5\n",
      " 145  1.4900843e-02 0.00e+00 1.07e+00  -1.7 7.42e-04   3.0 1.00e+00 1.00e+00f  1\n",
      " 146  1.4998891e-02 0.00e+00 1.11e+00  -1.7 2.34e-02   2.5 1.00e+00 3.91e-03f  9\n",
      " 147  1.5018010e-02 0.00e+00 1.04e+00  -1.7 8.94e-04   3.0 1.00e+00 1.25e-01f  4\n",
      " 148  1.4922551e-02 0.00e+00 1.76e+00  -1.7 2.82e-04   3.4 1.00e+00 1.00e+00f  1\n",
      " 149  1.5046549e-02 0.00e+00 1.05e+00  -1.7 1.05e-03   2.9 1.00e+00 5.00e-01f  2\n",
      "iter    objective    inf_pr   inf_du lg(mu)  ||d||  lg(rg) alpha_du alpha_pr  ls\n",
      " 150  1.5250285e-02 0.00e+00 1.78e+00  -1.7 3.22e-04   3.3 1.00e+00 1.00e+00f  1\n",
      " 151  1.5021862e-02 0.00e+00 1.08e+00  -1.7 1.28e-03   2.9 1.00e+00 5.00e-01f  2\n",
      " 152  1.5482735e-02 0.00e+00 1.08e+00  -1.7 3.69e-04   3.3 1.00e+00 1.00e+00f  1\n",
      " 153  1.5414378e-02 0.00e+00 1.50e+00  -1.7 1.23e-03   2.8 1.00e+00 5.00e-01f  2\n",
      " 154  1.5441366e-02 0.00e+00 9.15e-01  -1.7 1.53e-01   2.3 1.00e+00 7.81e-03f  8\n",
      " 155  1.5842527e-02 0.00e+00 1.08e+00  -1.7 1.45e-03   2.8 1.00e+00 1.00e+00f  1\n",
      " 156  1.5827952e-02 0.00e+00 1.65e+00  -1.7 4.66e-04   3.2 1.00e+00 1.00e+00f  1\n",
      " 157  1.5840834e-02 0.00e+00 1.07e+00  -1.7 2.39e-03   2.7 1.00e+00 3.12e-02f  6\n",
      " 158  1.5850950e-02 0.00e+00 1.85e+00  -1.7 5.54e-04   3.1 1.00e+00 1.00e+00f  1\n",
      " 159  1.5836517e-02 0.00e+00 1.14e+00  -1.7 4.20e-03   2.7 1.00e+00 3.12e-02f  6\n",
      "iter    objective    inf_pr   inf_du lg(mu)  ||d||  lg(rg) alpha_du alpha_pr  ls\n",
      " 160  1.5801332e-02 0.00e+00 1.40e+00  -1.7 6.35e-04   3.1 1.00e+00 5.00e-01f  2\n",
      " 161  1.5910299e-02 0.00e+00 1.44e+00  -1.7 6.72e-03   2.6 1.00e+00 6.25e-02f  5\n",
      " 162  1.5929016e-02 0.00e+00 1.07e+00  -1.7 7.93e-04   3.0 1.00e+00 1.00e+00f  1\n",
      " 163  1.6018776e-02 0.00e+00 1.22e+00  -1.7 5.51e-03   2.6 1.00e+00 1.25e-01f  4\n",
      " 164  1.5771378e-02 0.00e+00 1.98e+00  -1.7 9.19e-04   3.0 1.00e+00 1.00e+00f  1\n",
      " 165  1.5923681e-02 0.00e+00 1.21e+00  -1.7 1.16e-02   2.5 1.00e+00 3.12e-02f  6\n",
      " 166  1.5558918e-02 0.00e+00 1.76e+00  -1.7 9.52e-04   2.9 1.00e+00 1.00e+00f  1\n",
      " 167  1.5767594e-02 0.00e+00 1.43e+00  -1.7 4.77e-02   2.5 1.00e+00 3.12e-02f  6\n",
      " 168  1.6187468e-02 0.00e+00 1.12e+00  -1.7 1.33e-03   2.9 1.00e+00 1.00e+00f  1\n",
      " 169  1.6506048e-02 0.00e+00 1.25e+00  -1.7 1.72e-02   2.4 1.00e+00 6.25e-02f  5\n",
      "iter    objective    inf_pr   inf_du lg(mu)  ||d||  lg(rg) alpha_du alpha_pr  ls\n",
      " 170  1.6493922e-02 0.00e+00 1.11e+00  -1.7 1.23e-03   2.8 1.00e+00 3.12e-02f  6\n",
      " 171  1.6449094e-02 0.00e+00 1.21e+00  -1.7 3.78e-03   2.4 1.00e+00 3.12e-02f  6\n",
      " 172  1.6302093e-02 0.00e+00 1.38e+00  -1.7 1.47e-03   2.8 1.00e+00 2.50e-01f  3\n",
      " 173  1.6310097e-02 0.00e+00 1.08e+00  -1.7 4.14e-04   3.2 1.00e+00 1.00e+00f  1\n",
      " 174  1.6046103e-02 0.00e+00 1.43e+00  -1.7 1.26e-03   2.7 1.00e+00 5.00e-01f  2\n",
      " 175  1.6494724e-02 0.00e+00 1.63e+00  -1.7 4.76e-04   3.2 1.00e+00 1.00e+00f  1\n",
      " 176  1.6513102e-02 0.00e+00 2.11e+00  -1.7 2.83e-03   2.7 1.00e+00 5.00e-01f  2\n",
      " 177  1.6775264e-02 0.00e+00 1.70e+00  -1.7 6.26e-04   3.1 1.00e+00 1.00e+00f  1\n",
      " 178  1.6871317e-02 0.00e+00 1.79e+00  -1.7 2.67e-03   2.6 1.00e+00 1.25e-01f  4\n",
      " 179  1.6936723e-02 0.00e+00 1.46e+00  -1.7 6.31e-04   3.1 1.00e+00 5.00e-01f  2\n",
      "iter    objective    inf_pr   inf_du lg(mu)  ||d||  lg(rg) alpha_du alpha_pr  ls\n",
      " 180  1.7078602e-02 0.00e+00 9.88e-01  -1.7 1.91e-03   2.6 1.00e+00 2.50e-01f  3\n",
      " 181  1.7030025e-02 0.00e+00 1.47e+00  -1.7 7.30e-04   3.0 1.00e+00 2.50e-01f  3\n",
      " 182  1.7170396e-02 0.00e+00 9.02e-01  -1.7 4.59e-03   2.5 1.00e+00 6.25e-02f  5\n",
      " 183  1.7261442e-02 0.00e+00 1.52e+00  -1.7 8.48e-04   3.0 1.00e+00 5.00e-01f  2\n",
      " 184  1.7340798e-02 0.00e+00 1.07e+00  -1.7 6.59e-03   2.5 1.00e+00 6.25e-02f  5\n",
      " 185  1.7409910e-02 0.00e+00 1.09e+00  -1.7 1.24e-03   2.9 1.00e+00 1.00e+00f  1\n",
      " 186  1.7420594e-02 0.00e+00 1.08e+00  -1.7 3.03e-03   2.4 1.00e+00 6.25e-02f  5\n",
      " 187  1.7481485e-02 0.00e+00 1.08e+00  -1.7 1.11e-03   2.9 1.00e+00 5.00e-01f  2\n",
      " 188  1.7499139e-02 0.00e+00 1.49e+00  -1.7 3.03e-02   2.4 1.00e+00 3.91e-03f  9\n",
      " 189  1.7587505e-02 0.00e+00 1.17e+00  -1.7 1.37e-03   2.8 1.00e+00 1.25e-01f  4\n",
      "iter    objective    inf_pr   inf_du lg(mu)  ||d||  lg(rg) alpha_du alpha_pr  ls\n",
      " 190  1.7486940e-02 0.00e+00 1.43e+00  -1.7 3.98e-04   3.2 1.00e+00 5.00e-01f  2\n",
      " 191  1.7309603e-02 0.00e+00 1.22e+00  -1.7 1.20e-03   2.8 1.00e+00 5.00e-01f  2\n",
      " 192  1.7081038e-02 0.00e+00 1.75e+00  -1.7 4.55e-04   3.2 1.00e+00 1.00e+00f  1\n",
      " 193  1.7148554e-02 0.00e+00 1.26e+00  -1.7 2.00e-03   2.7 1.00e+00 5.00e-01f  2\n",
      " 194  1.7305049e-02 0.00e+00 1.08e+00  -1.7 5.22e-04   3.1 1.00e+00 1.00e+00f  1\n",
      " 195  1.7585835e-02 0.00e+00 1.61e+00  -1.7 2.25e-03   2.7 1.00e+00 5.00e-01f  2\n",
      " 196  1.7586871e-02 0.00e+00 1.66e+00  -1.7 5.98e-04   3.1 1.00e+00 1.00e+00f  1\n",
      " 197  1.7732617e-02 0.00e+00 1.08e+00  -1.7 4.32e-03   2.6 1.00e+00 6.25e-02f  5\n",
      " 198  1.7648695e-02 0.00e+00 1.97e+00  -1.7 8.38e-04   3.0 1.00e+00 1.00e+00f  1\n",
      " 199  1.7722375e-02 0.00e+00 1.08e+00  -1.7 2.92e-03   2.5 1.00e+00 5.00e-01f  2\n",
      "iter    objective    inf_pr   inf_du lg(mu)  ||d||  lg(rg) alpha_du alpha_pr  ls\n",
      " 200  1.7696243e-02 0.00e+00 1.39e+00  -1.7 9.30e-04   3.0 1.00e+00 5.00e-01f  2\n",
      " 201  1.7746250e-02 0.00e+00 1.08e+00  -1.7 1.13e-02   2.5 1.00e+00 6.25e-02f  5\n",
      " 202  1.7741458e-02 0.00e+00 1.07e+00  -1.7 9.41e-04   2.9 1.00e+00 3.12e-02f  6\n",
      " 203  1.7703627e-02 0.00e+00 1.06e+00  -1.7 2.87e-03   2.4 1.00e+00 3.12e-02f  6\n",
      " 204  1.7606337e-02 0.00e+00 1.27e+00  -1.7 1.11e-03   2.9 1.00e+00 2.50e-01f  3\n",
      " 205  1.7298891e-02 0.00e+00 1.09e+00  -1.7 3.38e-03   2.4 1.00e+00 2.50e-01f  3\n",
      " 206  1.6979277e-02 0.00e+00 1.95e+00  -1.7 1.31e-03   2.8 1.00e+00 1.00e+00f  1\n",
      " 207  1.7619320e-02 0.00e+00 1.38e+00  -1.7 1.75e-01   2.3 1.00e+00 7.81e-03f  8\n",
      " 208  1.7847313e-02 0.00e+00 1.97e+00  -1.7 1.46e-03   2.8 1.00e+00 1.00e+00f  1\n",
      " 209  1.7896855e-02 0.00e+00 1.07e+00  -1.7 4.84e-04   3.2 1.00e+00 1.00e+00f  1\n",
      "iter    objective    inf_pr   inf_du lg(mu)  ||d||  lg(rg) alpha_du alpha_pr  ls\n",
      " 210  1.7957915e-02 0.00e+00 1.17e+00  -1.7 3.14e-03   2.7 1.00e+00 1.25e-01f  4\n",
      " 211  1.8121221e-02 0.00e+00 1.08e+00  -1.7 5.81e-04   3.1 1.00e+00 1.00e+00f  1\n",
      " 212  1.7882564e-02 0.00e+00 1.41e+00  -1.7 1.51e-03   2.7 1.00e+00 5.00e-01f  2\n",
      " 213  1.8163303e-02 0.00e+00 1.78e+00  -1.7 5.74e-04   3.1 1.00e+00 1.00e+00f  1\n",
      " 214  1.8169562e-02 0.00e+00 1.50e+00  -1.7 2.90e-03   2.6 1.00e+00 2.50e-01f  3\n",
      " 215  1.8402469e-02 0.00e+00 1.82e+00  -1.7 7.93e-04   3.0 1.00e+00 1.00e+00f  1\n",
      " 216  1.8427192e-02 0.00e+00 1.90e+00  -1.7 5.80e-02   2.6 1.00e+00 1.56e-02f  7\n",
      " 217  1.8340006e-02 0.00e+00 1.86e+00  -1.7 7.67e-04   3.0 1.00e+00 1.00e+00f  1\n",
      " 218  1.7324854e-02 0.00e+00 1.83e+00  -1.7 2.34e-03   2.5 1.00e+00 1.00e+00f  1\n",
      " 219  1.7908959e-02 0.00e+00 1.85e+00  -1.7 8.94e-04   2.9 1.00e+00 1.00e+00f  1\n",
      "iter    objective    inf_pr   inf_du lg(mu)  ||d||  lg(rg) alpha_du alpha_pr  ls\n",
      " 220  1.8408874e-02 0.00e+00 6.76e-01  -1.7 7.66e-03   2.5 1.00e+00 1.25e-01f  4\n",
      " 221  1.8837487e-02 0.00e+00 1.79e+00  -1.7 1.05e-03   2.9 1.00e+00 1.00e+00f  1\n",
      " 222  1.8836088e-02 0.00e+00 1.07e+00  -1.7 3.58e-04   3.3 1.00e+00 1.00e+00f  1\n",
      " 223  1.8855810e-02 0.00e+00 1.14e+00  -1.7 1.45e-03   2.8 1.00e+00 6.25e-02f  5\n",
      " 224  1.8814377e-02 0.00e+00 1.28e+00  -1.7 4.07e-04   3.3 1.00e+00 5.00e-01f  2\n",
      " 225  1.8768957e-02 0.00e+00 1.11e+00  -1.7 1.77e-03   2.8 1.00e+00 2.50e-01f  3\n",
      " 226  1.9154913e-02 0.00e+00 1.08e+00  -1.7 4.68e-04   3.2 1.00e+00 1.00e+00f  1\n",
      " 227  1.9202819e-02 0.00e+00 1.08e+00  -1.7 1.55e-03   2.7 1.00e+00 2.50e-01f  3\n",
      " 228  1.9189815e-02 0.00e+00 1.07e+00  -1.7 1.03e-02   2.3 1.00e+00 5.00e-01f  2\n",
      " 229  1.9199252e-02 0.00e+00 1.16e+00  -1.7 3.97e-03   2.7 1.00e+00 1.25e-01f  4\n",
      "iter    objective    inf_pr   inf_du lg(mu)  ||d||  lg(rg) alpha_du alpha_pr  ls\n",
      " 230  1.9195085e-02 0.00e+00 1.09e+00  -1.7 5.44e-04   3.1 1.00e+00 6.25e-02f  5\n",
      " 231  1.9186493e-02 0.00e+00 1.10e+00  -1.7 2.41e-03   2.6 1.00e+00 3.12e-02f  6\n",
      " 232  1.9190889e-02 0.00e+00 1.24e+00  -1.7 6.27e-04   3.1 1.00e+00 2.50e-01f  3\n",
      " 233  1.9085593e-02 0.00e+00 1.06e+00  -1.7 3.01e-03   2.6 1.00e+00 1.25e-01f  4\n",
      " 234  1.9251505e-02 0.00e+00 1.81e+00  -1.7 7.26e-04   3.0 1.00e+00 1.00e+00f  1\n",
      " 235  1.9202411e-02 0.00e+00 1.22e+00  -1.7 3.87e-03   2.5 1.00e+00 1.25e-01f  4\n",
      " 236  1.9112561e-02 0.00e+00 2.10e+00  -1.7 1.07e-03   3.0 1.00e+00 1.00e+00f  1\n",
      " 237  1.9305951e-02 0.00e+00 1.07e+00  -1.7 5.19e-03   2.5 1.00e+00 1.25e-01f  4\n",
      " 238  1.9363561e-02 0.00e+00 1.08e+00  -1.7 1.14e-03   2.9 1.00e+00 2.50e-01f  3\n",
      " 239  1.9467369e-02 0.00e+00 1.25e+00  -1.7 4.88e-03   2.4 1.00e+00 1.25e-01f  4\n",
      "iter    objective    inf_pr   inf_du lg(mu)  ||d||  lg(rg) alpha_du alpha_pr  ls\n",
      " 240  1.9478891e-02 0.00e+00 1.45e+00  -1.7 1.16e-03   2.9 1.00e+00 2.50e-01f  3\n",
      " 241  1.9544772e-02 0.00e+00 1.67e+00  -1.7 3.88e-04   3.3 1.00e+00 1.00e+00f  1\n",
      " 242  1.9613108e-02 0.00e+00 1.44e+00  -1.7 1.66e-03   2.8 1.00e+00 1.25e-01f  4\n",
      " 243  1.9662793e-02 0.00e+00 1.64e+00  -1.7 3.98e-04   3.2 1.00e+00 1.00e+00f  1\n",
      " 244  1.9663355e-02 0.00e+00 1.07e+00  -1.7 2.57e-03   2.8 1.00e+00 4.88e-04f 12\n",
      " 245  1.9663487e-02 0.00e+00 1.64e+00  -1.7 5.25e-04   3.2 1.00e+00 3.91e-03f  9\n",
      " 246  1.9663939e-02 0.00e+00 1.06e+00  -1.7 3.52e-03   2.7 1.00e+00 9.77e-04f 11\n",
      " 247  1.9660174e-02 0.00e+00 1.63e+00  -1.7 6.12e-04   3.1 1.00e+00 1.56e-02f  7\n",
      " 248  1.9659890e-02 0.00e+00 1.05e+00  -1.7 5.30e-03   2.6 1.00e+00 3.91e-03f  9\n",
      " 249  1.9657864e-02 0.00e+00 1.57e+00  -1.7 7.18e-04   3.1 1.00e+00 6.25e-02f  5\n",
      "iter    objective    inf_pr   inf_du lg(mu)  ||d||  lg(rg) alpha_du alpha_pr  ls\n",
      " 250  1.9669269e-02 0.00e+00 9.98e-01  -1.7 9.80e-03   2.6 1.00e+00 7.81e-03f  8\n",
      " 251  1.9724989e-02 0.00e+00 1.59e+00  -1.7 8.50e-04   3.0 1.00e+00 1.25e-01f  4\n",
      " 252  1.9727846e-02 0.00e+00 1.40e+00  -1.7 4.16e-03   2.5 1.00e+00 1.25e-01f  4\n",
      " 253  1.9781134e-02 0.00e+00 9.73e-01  -1.7 9.97e-04   3.0 1.00e+00 1.25e-01f  4\n",
      " 254  1.9680797e-02 0.00e+00 1.77e+00  -1.7 2.84e-04   3.4 1.00e+00 1.00e+00f  1\n",
      " 255  1.9708766e-02 0.00e+00 1.11e+00  -1.7 1.20e-03   2.9 1.00e+00 5.00e-01f  2\n",
      " 256  1.9811588e-02 0.00e+00 1.07e+00  -1.7 3.25e-04   3.3 1.00e+00 1.00e+00f  1\n",
      " 257  1.9742000e-02 0.00e+00 1.89e+00  -1.7 1.05e-03   2.9 1.00e+00 1.00e+00f  1\n",
      " 258  1.9743707e-02 0.00e+00 1.12e+00  -1.7 1.83e-02   2.4 1.00e+00 7.81e-03f  8\n",
      " 259  1.9700484e-02 0.00e+00 1.65e+00  -1.7 1.31e-03   2.8 1.00e+00 2.50e-01f  3\n",
      "iter    objective    inf_pr   inf_du lg(mu)  ||d||  lg(rg) alpha_du alpha_pr  ls\n",
      " 260  1.9815915e-02 0.00e+00 1.31e+00  -1.7 2.06e-01   2.3 1.00e+00 1.95e-03f 10\n",
      " 261  1.9822562e-02 0.00e+00 1.35e+00  -1.7 1.40e-03   2.8 1.00e+00 5.00e-01f  2\n",
      " 262  1.9890453e-02 0.00e+00 1.07e+00  -1.7 4.85e-04   3.2 1.00e+00 1.00e+00f  1\n",
      " 263  1.9968909e-02 0.00e+00 1.17e+00  -1.7 3.15e-03   2.7 1.00e+00 1.25e-01f  4\n",
      " 264  1.9902204e-02 0.00e+00 1.88e+00  -1.7 5.81e-04   3.1 1.00e+00 1.00e+00f  1\n",
      " 265  1.9982016e-02 0.00e+00 1.08e+00  -1.7 5.01e-03   2.7 1.00e+00 1.56e-02f  7\n",
      " 266  2.0013759e-02 0.00e+00 1.07e+00  -1.7 6.47e-04   3.1 1.00e+00 1.25e-01f  4\n",
      " 267  2.0020627e-02 0.00e+00 1.03e+00  -1.7 3.89e-03   2.6 1.00e+00 3.12e-02f  6\n",
      " 268  2.0058714e-02 0.00e+00 1.10e+00  -1.7 7.53e-04   3.0 1.00e+00 2.50e-01f  3\n",
      " 269  2.0099021e-02 0.00e+00 1.16e+00  -1.7 3.87e-03   2.6 1.00e+00 1.25e-01f  4\n",
      "iter    objective    inf_pr   inf_du lg(mu)  ||d||  lg(rg) alpha_du alpha_pr  ls\n",
      " 270  1.9934593e-02 0.00e+00 1.38e+00  -1.7 8.49e-04   3.0 1.00e+00 5.00e-01f  2\n",
      " 271  2.0109005e-02 0.00e+00 1.28e+00  -1.7 1.49e-02   2.5 1.00e+00 3.12e-02f  6\n",
      " 272  2.0181706e-02 0.00e+00 1.60e+00  -1.7 1.15e-03   2.9 1.00e+00 5.00e-01f  2\n",
      " 273  2.0209158e-02 0.00e+00 1.66e+00  -1.7 7.72e-03   2.5 1.00e+00 6.25e-02f  5\n",
      " 274  1.9867307e-02 0.00e+00 1.94e+00  -1.7 1.28e-03   2.9 1.00e+00 1.00e+00f  1\n",
      " 275  2.0188713e-02 0.00e+00 1.65e+00  -1.7 3.46e-04   3.3 1.00e+00 1.00e+00f  1\n",
      " 276  2.0192843e-02 0.00e+00 8.39e-01  -1.7 1.64e-03   2.8 1.00e+00 2.50e-01f  3\n",
      " 277  2.0393243e-02 0.00e+00 1.08e+00  -1.7 3.96e-04   3.3 1.00e+00 1.00e+00f  1\n",
      " 278  2.0351334e-02 0.00e+00 1.61e+00  -1.7 1.10e-03   2.8 1.00e+00 2.50e-01f  3\n",
      " 279  2.0546195e-02 0.00e+00 1.07e+00  -1.7 4.16e-04   3.2 1.00e+00 1.00e+00f  1\n",
      "iter    objective    inf_pr   inf_du lg(mu)  ||d||  lg(rg) alpha_du alpha_pr  ls\n",
      " 280  2.0417039e-02 0.00e+00 1.57e+00  -1.7 1.64e-03   2.7 1.00e+00 2.50e-01f  3\n",
      " 281  2.0575547e-02 0.00e+00 1.08e+00  -1.7 4.75e-04   3.2 1.00e+00 1.00e+00f  1\n",
      " 282  2.0577315e-02 0.00e+00 1.07e+00  -1.7 1.45e-03   2.7 1.00e+00 1.25e-01f  4\n",
      " 283  2.0586211e-02 0.00e+00 1.39e+00  -1.7 6.31e-04   3.1 1.00e+00 5.00e-01f  2\n",
      " 284  2.0588572e-02 0.00e+00 1.20e+00  -1.7 2.73e-03   2.6 1.00e+00 1.25e-01f  4\n",
      " 285  2.0598348e-02 0.00e+00 1.42e+00  -1.7 8.59e-03   2.2 1.00e+00 6.25e-02f  5\n",
      " 286  2.0699950e-02 0.00e+00 1.01e+00  -1.7 3.02e-03   2.6 1.00e+00 1.25e-01f  4\n",
      " 287  2.0664169e-02 0.00e+00 1.26e+00  -1.7 7.27e-04   3.0 1.00e+00 1.25e-01f  4\n",
      " 288  2.0738127e-02 0.00e+00 9.26e-01  -1.7 4.76e-03   2.5 1.00e+00 3.12e-02f  6\n",
      " 289  2.0749405e-02 0.00e+00 1.06e+00  -1.7 8.45e-04   3.0 1.00e+00 2.50e-01f  3\n",
      "iter    objective    inf_pr   inf_du lg(mu)  ||d||  lg(rg) alpha_du alpha_pr  ls\n",
      " 290  2.0766209e-02 0.00e+00 1.24e+00  -1.7 2.94e-04   3.4 1.00e+00 2.50e-01f  3\n",
      " 291  2.0753950e-02 0.00e+00 9.20e-01  -1.7 1.11e-03   2.9 1.00e+00 1.25e-01f  4\n",
      " 292  2.0689121e-02 0.00e+00 1.78e+00  -1.7 3.36e-04   3.3 1.00e+00 1.00e+00f  1\n",
      " 293  2.0737075e-02 0.00e+00 1.08e+00  -1.7 1.33e-03   2.9 1.00e+00 5.00e-01f  2\n",
      " 294  2.0791467e-02 0.00e+00 1.08e+00  -1.7 3.86e-04   3.3 1.00e+00 1.00e+00f  1\n",
      " 295  2.0803505e-02 0.00e+00 1.15e+00  -1.7 1.39e-03   2.8 1.00e+00 2.50e-01f  3\n",
      " 296  2.0832876e-02 0.00e+00 1.41e+00  -1.7 4.56e-04   3.2 1.00e+00 2.50e-01f  3\n",
      " 297  2.0830910e-02 0.00e+00 1.24e+00  -1.7 1.65e-03   2.8 1.00e+00 1.25e-01f  4\n",
      " 298  2.0781173e-02 0.00e+00 1.21e+00  -1.7 4.87e-04   3.2 1.00e+00 5.00e-01f  2\n",
      " 299  2.0780824e-02 0.00e+00 1.08e+00  -1.7 3.80e-03   2.7 1.00e+00 1.25e-01f  4\n",
      "iter    objective    inf_pr   inf_du lg(mu)  ||d||  lg(rg) alpha_du alpha_pr  ls\n",
      " 300  2.0908361e-02 0.00e+00 1.68e+00  -1.7 5.59e-04   3.1 1.00e+00 1.00e+00f  1\n",
      " 301  2.0911175e-02 0.00e+00 1.07e+00  -1.7 3.45e-03   2.6 1.00e+00 1.25e-01f  4\n",
      " 302  2.0918978e-02 0.00e+00 1.10e+00  -1.7 7.05e-04   3.1 1.00e+00 3.12e-02f  6\n",
      " 303  2.0910790e-02 0.00e+00 1.04e+00  -1.7 2.80e-03   2.6 1.00e+00 1.56e-02f  7\n",
      " 304  2.0895443e-02 0.00e+00 1.20e+00  -1.7 8.40e-04   3.0 1.00e+00 1.25e-01f  4\n",
      " 305  2.0888243e-02 0.00e+00 1.01e+00  -1.7 3.57e-03   2.5 1.00e+00 6.25e-02f  5\n",
      " 306  2.0816235e-02 0.00e+00 1.59e+00  -1.7 1.01e-03   3.0 1.00e+00 5.00e-01f  2\n",
      " 307  2.0818143e-02 0.00e+00 1.17e+00  -1.7 4.71e-03   2.5 1.00e+00 3.12e-02f  6\n",
      " 308  2.0910059e-02 0.00e+00 1.41e+00  -1.7 9.38e-04   2.9 1.00e+00 2.50e-01f  3\n",
      " 309  2.0874710e-02 0.00e+00 1.08e+00  -1.7 6.61e-03   2.4 1.00e+00 6.25e-02f  5\n",
      "iter    objective    inf_pr   inf_du lg(mu)  ||d||  lg(rg) alpha_du alpha_pr  ls\n",
      " 310  2.0946766e-02 0.00e+00 1.33e+00  -1.7 1.10e-03   2.9 1.00e+00 1.25e-01f  4\n",
      " 311  8.9499322e-03 0.00e+00 5.69e+00  -1.7 2.08e-02   2.4 1.00e+00 1.00e+00w  1\n",
      " 312  1.1129751e-02 0.00e+00 1.94e+00  -1.7 1.30e-03   2.8 1.00e+00 1.00e+00w  1\n",
      " 313  1.2046759e-02 0.00e+00 1.76e+00  -1.7 3.81e-04   3.2 1.00e+00 1.00e+00w  1\n",
      " 314  2.1019968e-02 0.00e+00 9.72e-01  -1.7 1.56e-03   2.8 1.00e+00 7.81e-03f  7\n",
      " 315  2.0822479e-02 0.00e+00 1.78e+00  -1.7 4.34e-04   3.2 1.00e+00 1.00e+00f  1\n",
      " 316  2.0839884e-02 0.00e+00 1.21e+00  -1.7 1.91e-03   2.7 1.00e+00 1.25e-01f  4\n",
      " 317  2.0971324e-02 0.00e+00 1.53e+00  -1.7 5.91e-03   2.2 1.00e+00 6.25e-02f  5\n",
      " 318  2.1047272e-02 0.00e+00 1.41e+00  -1.7 2.35e-03   2.7 1.00e+00 2.50e-01f  3\n",
      " 319  2.1046261e-02 0.00e+00 1.00e+00  -1.7 7.35e-03   2.2 1.00e+00 1.25e-01f  4\n",
      "iter    objective    inf_pr   inf_du lg(mu)  ||d||  lg(rg) alpha_du alpha_pr  ls\n",
      " 320  2.1042734e-02 0.00e+00 1.48e+00  -1.7 2.92e-03   2.6 1.00e+00 6.25e-02f  5\n",
      " 321  2.1055205e-02 0.00e+00 1.41e+00  -1.7 6.42e-04   3.0 1.00e+00 5.00e-01f  2\n",
      " 322  2.1070741e-02 0.00e+00 1.08e+00  -1.7 2.28e-04   3.5 1.00e+00 1.00e+00f  1\n",
      " 323  2.1050827e-02 0.00e+00 1.09e+00  -1.7 7.70e-04   3.0 1.00e+00 6.25e-02f  5\n",
      " 324  2.1082452e-02 0.00e+00 1.06e+00  -1.7 5.21e-03   2.5 1.00e+00 1.56e-02f  7\n",
      " 325  2.1085785e-02 0.00e+00 1.07e+00  -1.7 1.10e-03   2.9 1.00e+00 5.00e-01f  2\n",
      " 326  2.1098814e-02 0.00e+00 1.09e+00  -1.7 8.15e-03   2.5 1.00e+00 1.56e-02f  7\n",
      " 327  2.1089314e-02 0.00e+00 1.25e+00  -1.7 1.04e-03   2.9 1.00e+00 2.50e-01f  3\n",
      " 328  2.1111551e-02 0.00e+00 1.07e+00  -1.7 1.53e-02   2.4 1.00e+00 3.12e-02f  6\n",
      " 329  2.1127884e-02 0.00e+00 1.08e+00  -1.7 1.05e-03   2.8 1.00e+00 1.00e+00f  1\n",
      "iter    objective    inf_pr   inf_du lg(mu)  ||d||  lg(rg) alpha_du alpha_pr  ls\n",
      " 330  2.1128083e-02 0.00e+00 1.07e+00  -1.7 5.06e-02   2.4 1.00e+00 3.05e-05f 16\n",
      " 331  2.1128620e-02 0.00e+00 1.08e+00  -1.7 1.38e-03   2.8 1.00e+00 1.95e-03f 10\n",
      " 332  2.1126692e-02 0.00e+00 1.07e+00  -1.7 4.15e-04   3.2 1.00e+00 1.56e-02f  7\n",
      " 333  2.1128384e-02 0.00e+00 1.07e+00  -1.7 1.65e-03   2.7 1.00e+00 7.81e-03f  8\n",
      " 334  2.1121735e-02 0.00e+00 1.09e+00  -1.7 4.76e-04   3.2 1.00e+00 6.25e-02f  5\n",
      " 335  2.1122859e-02 0.00e+00 1.06e+00  -1.7 1.98e-03   2.7 1.00e+00 3.12e-02f  6\n",
      " 336  2.1107350e-02 0.00e+00 1.23e+00  -1.7 5.46e-04   3.1 1.00e+00 2.50e-01f  3\n",
      " 337  2.1070428e-02 0.00e+00 1.05e+00  -1.7 2.43e-03   2.6 1.00e+00 1.25e-01f  4\n",
      " 338  2.1092231e-02 0.00e+00 1.79e+00  -1.7 6.30e-04   3.1 1.00e+00 1.00e+00f  1\n",
      " 339  2.1105558e-02 0.00e+00 1.07e+00  -1.7 3.03e-03   2.6 1.00e+00 7.81e-03f  8\n",
      "iter    objective    inf_pr   inf_du lg(mu)  ||d||  lg(rg) alpha_du alpha_pr  ls\n",
      " 340  2.1119991e-02 0.00e+00 1.75e+00  -1.7 8.94e-04   3.0 1.00e+00 3.12e-02f  6\n",
      " 341  2.1140381e-02 0.00e+00 1.04e+00  -1.7 3.90e-03   2.5 1.00e+00 7.81e-03f  8\n",
      " 342  2.1158959e-02 0.00e+00 1.71e+00  -1.7 1.08e-03   3.0 1.00e+00 3.12e-02f  6\n",
      " 343  2.1176707e-02 0.00e+00 1.02e+00  -1.7 5.25e-03   2.5 1.00e+00 7.81e-03f  8\n",
      " 344  2.1158533e-02 0.00e+00 1.65e+00  -1.7 1.33e-03   2.9 1.00e+00 6.25e-02f  5\n",
      " 345  2.1222502e-02 0.00e+00 1.58e+00  -1.7 7.58e-03   2.4 1.00e+00 1.56e-02f  7\n",
      " 346  2.1188131e-02 0.00e+00 1.75e+00  -1.7 1.37e-03   2.9 1.00e+00 1.25e-01f  4\n",
      " 347  2.1240445e-02 0.00e+00 9.91e-01  -1.7 5.00e-02   2.4 1.00e+00 3.91e-03f  9\n",
      " 348  2.1304588e-02 0.00e+00 1.50e+00  -1.7 2.17e-03   2.8 1.00e+00 6.25e-02f  5\n",
      " 349  1.9935091e-03 0.00e+00 7.30e+00  -1.7 3.15e-02   2.3 1.00e+00 1.00e+00w  1\n",
      "iter    objective    inf_pr   inf_du lg(mu)  ||d||  lg(rg) alpha_du alpha_pr  ls\n",
      " 350  6.6718686e-03 0.00e+00 2.11e+00  -1.7 2.69e-02   1.8 1.00e+00 1.00e+00w  1\n",
      " 351  7.8949393e-03 0.00e+00 7.07e-01  -1.7 4.72e-04   3.2 1.00e+00 1.00e+00w  1\n",
      " 352  2.1355856e-02 0.00e+00 1.66e+00  -1.7 1.95e-03   2.7 1.00e+00 3.91e-03f  8\n",
      " 353  2.1384756e-02 0.00e+00 1.64e+00  -1.7 5.25e-04   3.1 1.00e+00 1.00e+00f  1\n",
      " 354  2.1414555e-02 0.00e+00 1.06e+00  -1.7 3.47e-03   2.6 1.00e+00 6.25e-02f  5\n",
      " 355  2.1403191e-02 0.00e+00 1.48e+00  -1.7 6.90e-04   3.1 1.00e+00 5.00e-01f  2\n",
      " 356  2.1427399e-02 0.00e+00 1.43e+00  -1.7 1.48e-02   2.6 1.00e+00 3.91e-03f  9\n",
      " 357  2.1441380e-02 0.00e+00 1.12e+00  -1.7 7.44e-04   3.0 1.00e+00 5.00e-01f  2\n",
      " 358  2.1444764e-02 0.00e+00 1.07e+00  -1.7 4.95e-02   2.5 1.00e+00 9.77e-04f 11\n",
      " 359  2.1478398e-02 0.00e+00 1.08e+00  -1.7 1.01e-03   3.0 1.00e+00 1.25e-01f  4\n",
      "iter    objective    inf_pr   inf_du lg(mu)  ||d||  lg(rg) alpha_du alpha_pr  ls\n",
      " 360  2.1481295e-02 0.00e+00 1.20e+00  -1.7 2.35e-02   2.5 1.00e+00 1.56e-02f  7\n",
      " 361  2.1437136e-02 0.00e+00 1.32e+00  -1.7 9.05e-04   2.9 1.00e+00 1.25e-01f  4\n",
      " 362  2.1484626e-02 0.00e+00 1.27e+00  -1.7 9.26e-03   2.4 1.00e+00 1.56e-02f  7\n",
      " 363  2.1488265e-02 0.00e+00 1.20e+00  -1.7 1.29e-03   2.9 1.00e+00 6.25e-02f  5\n",
      " 364  2.1206189e-02 0.00e+00 1.79e+00  -1.7 3.69e-04   3.3 1.00e+00 1.00e+00w  1\n",
      " 365  2.0121234e-02 0.00e+00 2.12e+00  -1.7 1.56e-03   2.8 1.00e+00 1.00e+00w  1\n",
      " 366  2.0331329e-02 0.00e+00 1.06e+00  -1.7 4.09e-04   3.2 1.00e+00 1.00e+00w  1\n",
      " 367  2.1453041e-02 0.00e+00 1.39e+00  -1.7 2.27e-03   2.8 1.00e+00 5.00e-01f  1\n",
      " 368  2.1342719e-02 0.00e+00 1.69e+00  -1.7 4.77e-04   3.2 1.00e+00 1.00e+00f  1\n",
      " 369  2.1465219e-02 0.00e+00 1.17e+00  -1.7 3.02e-03   2.7 1.00e+00 1.25e-01f  4\n",
      "iter    objective    inf_pr   inf_du lg(mu)  ||d||  lg(rg) alpha_du alpha_pr  ls\n",
      " 370  2.1484886e-02 0.00e+00 1.85e+00  -1.7 5.62e-04   3.1 1.00e+00 1.00e+00f  1\n",
      " 371  2.1487934e-02 0.00e+00 1.09e+00  -1.7 5.38e-03   2.7 1.00e+00 7.81e-03f  8\n",
      " 372  2.1491145e-02 0.00e+00 1.72e+00  -1.7 6.78e-04   3.1 1.00e+00 1.25e-01f  4\n",
      " 373  2.1580666e-02 0.00e+00 1.07e+00  -1.7 1.05e-02   2.6 1.00e+00 7.81e-03f  8\n",
      " 374  2.1570156e-02 0.00e+00 1.53e+00  -1.7 7.30e-04   3.0 1.00e+00 2.50e-01f  3\n",
      " 375  2.1581388e-02 0.00e+00 1.24e+00  -1.7 1.61e-02   2.6 1.00e+00 1.56e-02f  7\n",
      " 376  2.1575044e-02 0.00e+00 1.09e+00  -1.7 7.43e-04   3.0 1.00e+00 6.25e-02f  5\n",
      " 377  2.1529070e-02 0.00e+00 1.40e+00  -1.7 2.61e-04   3.4 1.00e+00 5.00e-01f  2\n",
      " 378  2.1485732e-02 0.00e+00 1.35e+00  -1.7 8.61e-04   2.9 1.00e+00 2.50e-01f  3\n",
      " 379  2.1418801e-02 0.00e+00 1.12e+00  -1.7 7.85e-03   2.5 1.00e+00 6.25e-02f  5\n",
      "iter    objective    inf_pr   inf_du lg(mu)  ||d||  lg(rg) alpha_du alpha_pr  ls\n",
      " 380  2.1462296e-02 0.00e+00 1.10e+00  -1.7 1.00e-03   2.9 1.00e+00 1.25e-01f  4\n",
      " 381  2.1287914e-02 0.00e+00 1.81e+00  -1.7 3.45e-04   3.3 1.00e+00 1.00e+00w  1\n",
      " 382  2.0781255e-02 0.00e+00 1.88e+00  -1.7 1.17e-03   2.8 1.00e+00 1.00e+00w  1\n",
      " 383  2.1083613e-02 0.00e+00 1.08e+00  -1.7 3.99e-04   3.3 1.00e+00 1.00e+00f  1\n",
      " 384  2.0837858e-02 0.00e+00 1.55e+00  -1.7 1.47e-03   2.8 1.00e+00 5.00e-01f  2\n",
      " 385  2.1397988e-02 0.00e+00 1.77e+00  -1.7 4.18e-04   3.2 1.00e+00 1.00e+00f  1\n",
      " 386  2.1114640e-02 0.00e+00 1.05e+00  -1.7 1.27e-03   2.7 1.00e+00 5.00e-01f  2\n",
      " 387  2.1482794e-02 0.00e+00 1.75e+00  -1.7 4.79e-04   3.2 1.00e+00 1.00e+00f  1\n",
      " 388  2.1489721e-02 0.00e+00 1.57e+00  -1.7 2.33e-03   2.7 1.00e+00 1.25e-01f  4\n",
      " 389  2.1528940e-02 0.00e+00 1.30e+00  -1.7 6.43e-04   3.1 1.00e+00 5.00e-01f  2\n",
      "iter    objective    inf_pr   inf_du lg(mu)  ||d||  lg(rg) alpha_du alpha_pr  ls\n",
      " 390  2.1544588e-02 0.00e+00 1.47e+00  -1.7 3.87e-03   2.6 1.00e+00 1.25e-01f  4\n",
      " 391  2.1546997e-02 0.00e+00 1.06e+00  -1.7 7.32e-04   3.1 1.00e+00 1.00e+00f  1\n",
      " 392  2.1649118e-02 0.00e+00 1.76e+00  -1.7 1.14e-02   2.6 1.00e+00 1.56e-02f  7\n",
      " 393  2.1509416e-02 0.00e+00 1.34e+00  -1.7 8.23e-04   3.0 1.00e+00 5.00e-01f  2\n",
      " 394  2.1599472e-02 0.00e+00 1.12e+00  -1.7 8.47e-02   2.5 1.00e+00 3.91e-03f  9\n",
      " 395  2.1596866e-02 0.00e+00 1.45e+00  -1.7 1.02e-03   3.0 1.00e+00 5.00e-01f  2\n",
      " 396  2.1873769e-02 0.00e+00 1.07e+00  -1.7 2.98e-04   3.4 1.00e+00 1.00e+00f  1\n",
      " 397  2.1714436e-02 0.00e+00 1.61e+00  -1.7 1.33e-03   2.9 1.00e+00 5.00e-01f  2\n",
      " 398  2.1884697e-02 0.00e+00 1.07e+00  -1.7 3.27e-04   3.3 1.00e+00 1.00e+00f  1\n",
      " 399  2.1890507e-02 0.00e+00 1.07e+00  -1.7 1.58e-03   2.9 1.00e+00 6.25e-02f  5\n",
      "iter    objective    inf_pr   inf_du lg(mu)  ||d||  lg(rg) alpha_du alpha_pr  ls\n",
      " 400  2.1913368e-02 0.00e+00 1.15e+00  -1.7 2.84e-02   2.4 1.00e+00 1.95e-03f 10\n",
      " 401  2.1934223e-02 0.00e+00 1.07e+00  -1.7 1.27e-03   2.8 1.00e+00 1.25e-01f  4\n",
      " 402  2.1942678e-02 0.00e+00 1.01e+00  -1.7 3.23e-02   2.3 1.00e+00 1.95e-03f 10\n",
      " 403  2.1959626e-02 0.00e+00 1.08e+00  -1.7 2.60e-03   2.7 1.00e+00 6.25e-02f  5\n",
      " 404  2.1961063e-02 0.00e+00 1.22e+00  -1.7 4.56e-04   3.2 1.00e+00 2.50e-01f  3\n",
      " 405  2.1944145e-02 0.00e+00 1.04e+00  -1.7 1.87e-03   2.7 1.00e+00 1.25e-01f  4\n",
      " 406  2.1991458e-02 0.00e+00 1.06e+00  -1.7 5.23e-04   3.1 1.00e+00 2.50e-01f  3\n",
      " 407  2.1996543e-02 0.00e+00 1.37e+00  -1.7 6.51e-03   2.6 1.00e+00 3.12e-02f  6\n",
      " 408  2.1886372e-02 0.00e+00 1.27e+00  -1.7 6.06e-04   3.1 1.00e+00 5.00e-01f  2\n",
      " 409  1.7906353e-02 0.00e+00 2.38e+00  -1.7 3.20e-03   2.6 1.00e+00 1.00e+00w  1\n",
      "iter    objective    inf_pr   inf_du lg(mu)  ||d||  lg(rg) alpha_du alpha_pr  ls\n",
      " 410  1.8296877e-02 0.00e+00 1.08e+00  -1.7 6.76e-04   3.0 1.00e+00 1.00e+00w  1\n",
      " 411  1.5894155e-02 0.00e+00 2.70e+00  -1.7 4.34e-03   2.5 1.00e+00 1.00e+00w  1\n",
      " 412  2.1868140e-02 0.00e+00 1.30e+00  -1.7 1.40e-02   2.1 1.00e+00 1.25e-01f  3\n",
      " 413  2.2031173e-02 0.00e+00 1.28e+00  -1.7 4.76e-03   2.5 1.00e+00 1.25e-01f  4\n",
      " 414  2.2033001e-02 0.00e+00 1.07e+00  -1.7 1.24e-03   2.9 1.00e+00 2.50e-01f  3\n",
      " 415  2.2052023e-02 0.00e+00 1.08e+00  -1.7 4.62e-02   2.4 1.00e+00 3.91e-03f  9\n",
      " 416  2.2049602e-02 0.00e+00 1.08e+00  -1.7 1.52e-03   2.9 1.00e+00 1.56e-02f  7\n",
      " 417  2.2054418e-02 0.00e+00 1.30e+00  -1.7 2.78e-02   2.4 1.00e+00 9.77e-04f 11\n",
      " 418  2.1920692e-02 0.00e+00 9.32e+00  -1.7 1.03e-01   1.9 1.00e+00 1.00e+00f  1\n",
      " 419  2.1923817e-02 0.00e+00 9.04e+00  -1.7 4.09e-04   3.2 1.00e+00 3.12e-02f  6\n",
      "iter    objective    inf_pr   inf_du lg(mu)  ||d||  lg(rg) alpha_du alpha_pr  ls\n",
      " 420  2.1926077e-02 0.00e+00 8.97e+00  -1.7 2.48e-03   2.8 1.00e+00 7.81e-03f  8\n",
      " 421  2.1939336e-02 0.00e+00 8.41e+00  -1.7 4.67e-04   3.2 1.00e+00 6.25e-02f  5\n",
      " 422  2.1962992e-02 0.00e+00 8.35e+00  -1.7 3.41e-03   2.7 1.00e+00 7.81e-03f  8\n",
      " 423  2.1969946e-02 0.00e+00 7.83e+00  -1.7 5.36e-04   3.1 1.00e+00 6.25e-02f  5\n",
      " 424  2.1991451e-02 0.00e+00 7.77e+00  -1.7 5.14e-03   2.7 1.00e+00 7.81e-03f  8\n",
      " 425  2.1982637e-02 0.00e+00 6.81e+00  -1.7 6.16e-04   3.1 1.00e+00 1.25e-01f  4\n",
      " 426  2.1974956e-02 0.00e+00 6.71e+00  -1.7 9.51e-03   2.6 1.00e+00 1.56e-02f  7\n",
      " 427  2.1931970e-02 0.00e+00 3.40e+00  -1.7 7.10e-04   3.0 1.00e+00 5.00e-01f  2\n",
      " 428  2.1974978e-02 0.00e+00 3.38e+00  -1.7 6.62e-03   2.6 1.00e+00 7.81e-03f  8\n",
      " 429  2.0817329e-02 0.00e+00 1.98e+00  -1.7 9.26e-04   3.0 1.00e+00 1.00e+00w  1\n",
      "iter    objective    inf_pr   inf_du lg(mu)  ||d||  lg(rg) alpha_du alpha_pr  ls\n",
      " 430  6.9612064e-03 0.00e+00 5.32e+00  -1.7 1.25e-02   2.5 1.00e+00 1.00e+00w  1\n",
      " 431  9.3126446e-03 0.00e+00 1.08e+00  -1.7 1.07e-03   2.9 1.00e+00 1.00e+00w  1\n",
      " 432  2.1999357e-02 0.00e+00 3.17e+00  -1.7 9.16e-03   2.5 1.00e+00 6.25e-02f  4\n",
      " 433  2.2027411e-02 0.00e+00 2.98e+00  -1.7 1.22e-03   2.9 1.00e+00 6.25e-02f  5\n",
      " 434  2.2013179e-02 0.00e+00 2.62e+00  -1.7 3.53e-04   3.3 1.00e+00 1.25e-01f  4\n",
      " 435  2.2003154e-02 0.00e+00 2.46e+00  -1.7 1.62e-03   2.8 1.00e+00 6.25e-02f  5\n",
      " 436  2.2006048e-02 0.00e+00 1.87e+00  -1.7 4.06e-04   3.3 1.00e+00 2.50e-01f  3\n",
      " 437  2.1963955e-02 0.00e+00 1.65e+00  -1.7 1.79e-03   2.8 1.00e+00 1.25e-01f  4\n",
      " 438  2.1997262e-02 0.00e+00 1.30e+00  -1.7 4.69e-04   3.2 1.00e+00 2.50e-01f  3\n",
      " 439  2.2039997e-02 0.00e+00 1.19e+00  -1.7 2.66e-03   2.7 1.00e+00 6.25e-02f  5\n",
      "iter    objective    inf_pr   inf_du lg(mu)  ||d||  lg(rg) alpha_du alpha_pr  ls\n",
      " 440  2.2087587e-02 0.00e+00 1.57e+00  -1.7 5.43e-04   3.2 1.00e+00 5.00e-01f  2\n",
      " 441  2.2095580e-02 0.00e+00 1.43e+00  -1.7 2.89e-03   2.7 1.00e+00 6.25e-02f  5\n",
      " 442  2.1589668e-02 0.00e+00 1.87e+00  -1.7 6.24e-04   3.1 1.00e+00 1.00e+00w  1\n",
      " 443  1.0912240e-02 0.00e+00 4.82e+00  -1.7 8.17e-03   2.6 1.00e+00 1.00e+00w  1\n",
      " 444  1.2945929e-02 0.00e+00 8.75e-01  -1.7 7.71e-04   3.1 1.00e+00 1.00e+00w  1\n",
      " 445  2.2013242e-02 0.00e+00 1.23e+00  -1.7 2.03e-02   2.6 1.00e+00 5.00e-01f  1\n",
      " 446  2.2033642e-02 0.00e+00 1.53e+00  -1.7 9.08e-04   3.0 1.00e+00 5.00e-01f  2\n",
      " 447  2.2030527e-02 0.00e+00 1.26e+00  -1.7 2.63e-04   3.4 1.00e+00 2.50e-01f  3\n",
      " 448  2.2053165e-02 0.00e+00 1.22e+00  -1.7 9.11e-04   3.0 1.00e+00 1.25e-01f  4\n",
      " 449  2.2084406e-02 0.00e+00 1.46e+00  -1.7 3.01e-04   3.4 1.00e+00 5.00e-01f  2\n",
      "iter    objective    inf_pr   inf_du lg(mu)  ||d||  lg(rg) alpha_du alpha_pr  ls\n",
      " 450  2.2035493e-02 0.00e+00 9.10e-01  -1.7 1.21e-03   2.9 1.00e+00 2.50e-01f  3\n",
      " 451  2.2065025e-02 0.00e+00 1.79e+00  -1.7 3.45e-04   3.3 1.00e+00 1.00e+00f  1\n",
      " 452  2.1897617e-02 0.00e+00 1.07e+00  -1.7 1.25e-03   2.9 1.00e+00 5.00e-01f  2\n",
      " 453  2.2132622e-02 0.00e+00 1.75e+00  -1.7 3.80e-04   3.3 1.00e+00 1.00e+00f  1\n",
      " 454  2.2117487e-02 0.00e+00 1.50e+00  -1.7 1.39e-03   2.8 1.00e+00 5.00e-01f  2\n",
      " 455  2.2119866e-02 0.00e+00 1.16e+00  -1.7 3.32e-02   2.3 1.00e+00 1.56e-02f  7\n",
      " 456  2.2123512e-02 0.00e+00 1.07e+00  -1.7 3.01e-03   2.7 1.00e+00 7.81e-03f  8\n",
      " 457  2.2098480e-02 0.00e+00 1.16e+00  -1.7 5.09e-04   3.2 1.00e+00 1.25e-01f  4\n",
      " 458  2.2098140e-02 0.00e+00 1.03e+00  -1.7 4.49e-03   2.7 1.00e+00 3.12e-02f  6\n",
      " 459  2.2087303e-02 0.00e+00 1.49e+00  -1.7 5.95e-04   3.1 1.00e+00 5.00e-01f  2\n",
      "iter    objective    inf_pr   inf_du lg(mu)  ||d||  lg(rg) alpha_du alpha_pr  ls\n",
      " 460  2.2163475e-02 0.00e+00 1.10e+00  -1.7 8.08e-03   2.6 1.00e+00 6.25e-02f  5\n",
      " 461  2.2159987e-02 0.00e+00 1.07e+00  -1.7 7.03e-04   3.1 1.00e+00 1.25e-01f  4\n",
      " 462  2.2195087e-02 0.00e+00 9.15e-01  -1.7 8.05e-03   2.6 1.00e+00 1.56e-02f  7\n",
      " 463  2.2208714e-02 0.00e+00 1.06e+00  -1.7 8.32e-04   3.0 1.00e+00 1.00e+00f  1\n",
      " 464  2.2317578e-02 0.00e+00 1.08e+00  -1.7 2.89e-02   2.5 1.00e+00 3.91e-03f  9\n",
      " 465  2.2338486e-02 0.00e+00 1.06e+00  -1.7 9.14e-04   3.0 1.00e+00 1.00e+00f  1\n",
      " 466  2.2340943e-02 0.00e+00 1.41e+00  -1.7 2.79e-04   3.4 1.00e+00 5.00e-01f  2\n",
      " 467  2.2379749e-02 0.00e+00 1.07e+00  -1.7 1.18e-03   2.9 1.00e+00 6.25e-02f  5\n",
      " 468  2.2379087e-02 0.00e+00 1.10e+00  -1.7 3.15e-04   3.3 1.00e+00 5.00e-01f  2\n",
      " 469  2.2432135e-02 0.00e+00 1.18e+00  -1.7 1.26e-03   2.9 1.00e+00 6.25e-02f  5\n",
      "iter    objective    inf_pr   inf_du lg(mu)  ||d||  lg(rg) alpha_du alpha_pr  ls\n",
      " 470  2.2421070e-02 0.00e+00 1.23e+00  -1.7 3.70e-04   3.3 1.00e+00 2.50e-01f  3\n",
      " 471  2.2408578e-02 0.00e+00 9.85e-01  -1.7 1.57e-03   2.8 1.00e+00 1.25e-01f  4\n",
      " 472  2.2406627e-02 0.00e+00 1.12e+00  -1.7 4.26e-04   3.2 1.00e+00 1.25e-01f  4\n",
      " 473  2.2415213e-02 0.00e+00 1.19e+00  -1.7 2.22e-03   2.8 1.00e+00 3.12e-02f  6\n",
      " 474  2.2432822e-02 0.00e+00 1.17e+00  -1.7 4.93e-04   3.2 1.00e+00 5.00e-01f  2\n",
      " 475  2.2447037e-02 0.00e+00 1.01e+00  -1.7 1.76e-03   2.7 1.00e+00 1.25e-01f  4\n",
      " 476  2.1777498e-02 0.00e+00 1.86e+00  -1.7 5.72e-04   3.1 1.00e+00 1.00e+00w  1\n",
      " 477  1.8601571e-02 0.00e+00 2.60e+00  -1.7 3.18e-03   2.7 1.00e+00 1.00e+00w  1\n",
      " 478  1.9529126e-02 0.00e+00 1.06e+00  -1.7 6.64e-04   3.1 1.00e+00 1.00e+00w  1\n",
      " 479  2.2452595e-02 0.00e+00 1.20e+00  -1.7 7.14e-03   2.6 1.00e+00 1.25e-01f  3\n",
      "iter    objective    inf_pr   inf_du lg(mu)  ||d||  lg(rg) alpha_du alpha_pr  ls\n",
      " 480  2.2388523e-02 0.00e+00 1.06e+00  -1.7 7.43e-04   3.0 1.00e+00 2.50e-01f  3\n",
      " 481  2.2401408e-02 0.00e+00 1.10e+00  -1.7 1.68e-02   2.6 1.00e+00 3.91e-03f  9\n",
      " 482  2.2422748e-02 0.00e+00 1.06e+00  -1.7 9.13e-04   3.0 1.00e+00 1.25e-01f  4\n",
      " 483  2.2343433e-02 0.00e+00 1.75e+00  -1.7 2.70e-04   3.4 1.00e+00 1.00e+00f  1\n",
      " 484  2.2251921e-02 0.00e+00 1.51e+00  -1.7 1.00e-03   2.9 1.00e+00 5.00e-01f  2\n",
      " 485  2.2343010e-02 0.00e+00 1.06e+00  -1.7 3.09e-04   3.4 1.00e+00 1.00e+00f  1\n",
      " 486  2.2336862e-02 0.00e+00 1.13e+00  -1.7 1.32e-03   2.9 1.00e+00 6.25e-02f  5\n",
      " 487  2.2332691e-02 0.00e+00 1.29e+00  -1.7 3.54e-04   3.3 1.00e+00 5.00e-01f  2\n",
      " 488  2.2238709e-02 0.00e+00 1.10e+00  -1.7 1.62e-03   2.8 1.00e+00 2.50e-01f  3\n",
      " 489  2.2349776e-02 0.00e+00 1.80e+00  -1.7 4.07e-04   3.3 1.00e+00 1.00e+00f  1\n",
      "iter    objective    inf_pr   inf_du lg(mu)  ||d||  lg(rg) alpha_du alpha_pr  ls\n",
      " 490  2.2232298e-02 0.00e+00 1.35e+00  -1.7 1.80e-03   2.8 1.00e+00 2.50e-01f  3\n",
      " 491  2.2497489e-02 0.00e+00 1.07e+00  -1.7 4.48e-04   3.2 1.00e+00 1.00e+00f  1\n",
      " 492  2.2429721e-02 0.00e+00 1.32e+00  -1.7 3.41e-03   2.7 1.00e+00 1.25e-01f  4\n",
      " 493  2.2341501e-02 0.00e+00 1.77e+00  -1.7 4.68e-04   3.2 1.00e+00 1.00e+00f  1\n",
      " 494  2.2181461e-02 0.00e+00 1.25e+00  -1.7 2.18e-03   2.7 1.00e+00 5.00e-01f  2\n",
      " 495  2.2330305e-02 0.00e+00 1.75e+00  -1.7 5.37e-04   3.1 1.00e+00 1.00e+00f  1\n",
      " 496  2.2664651e-02 0.00e+00 1.06e+00  -1.7 1.09e-02   2.6 1.00e+00 6.25e-02f  5\n",
      " 497  2.2620653e-02 0.00e+00 1.18e+00  -1.7 7.42e-04   3.1 1.00e+00 2.50e-01f  3\n",
      " 498  2.2669710e-02 0.00e+00 1.07e+00  -1.7 1.04e-02   2.6 1.00e+00 3.12e-02f  6\n",
      " 499  2.2672382e-02 0.00e+00 8.25e-01  -1.7 9.10e-04   3.0 1.00e+00 3.12e-02f  6\n",
      "iter    objective    inf_pr   inf_du lg(mu)  ||d||  lg(rg) alpha_du alpha_pr  ls\n",
      " 500  2.2664142e-02 0.00e+00 1.01e+00  -1.7 3.96e-03   2.5 1.00e+00 2.50e-01f  3\n",
      " 501  2.2690105e-02 0.00e+00 1.08e+00  -1.7 1.09e-03   3.0 1.00e+00 3.12e-02f  6\n",
      " 502  2.2697347e-02 0.00e+00 1.18e+00  -1.7 3.01e-04   3.4 1.00e+00 1.25e-01f  4\n",
      " 503  2.2663733e-02 0.00e+00 1.44e+00  -1.7 1.31e-03   2.9 1.00e+00 1.25e-01f  4\n",
      " 504  2.2699700e-02 0.00e+00 1.06e+00  -1.7 3.31e-04   3.3 1.00e+00 1.00e+00f  1\n",
      " 505  2.2700958e-02 0.00e+00 1.75e+00  -1.7 1.66e-03   2.8 1.00e+00 3.12e-02f  6\n",
      " 506  2.2702560e-02 0.00e+00 1.07e+00  -1.7 3.79e-04   3.3 1.00e+00 1.00e+00f  1\n",
      " 507  2.2745340e-02 0.00e+00 1.06e+00  -1.7 2.09e-03   2.8 1.00e+00 3.12e-02f  6\n",
      " 508  2.2728382e-02 0.00e+00 1.23e+00  -1.7 4.56e-04   3.2 1.00e+00 2.50e-01f  3\n",
      " 509  2.2739412e-02 0.00e+00 1.16e+00  -1.7 2.76e-03   2.7 1.00e+00 3.12e-02f  6\n",
      "iter    objective    inf_pr   inf_du lg(mu)  ||d||  lg(rg) alpha_du alpha_pr  ls\n",
      " 510  2.2777763e-02 0.00e+00 1.07e+00  -1.7 5.18e-04   3.2 1.00e+00 2.50e-01f  3\n",
      " 511  2.2796711e-02 0.00e+00 1.14e+00  -1.7 2.50e-03   2.7 1.00e+00 3.12e-02f  6\n",
      " 512  2.2819629e-02 0.00e+00 9.97e-01  -1.7 6.20e-04   3.1 1.00e+00 1.25e-01f  4\n",
      " 513  2.2851823e-02 0.00e+00 1.08e+00  -1.7 6.65e-03   2.6 1.00e+00 1.56e-02f  7\n",
      " 514  2.2846461e-02 0.00e+00 1.18e+00  -1.7 7.27e-04   3.1 1.00e+00 1.25e-01f  4\n",
      " 515  2.2952514e-02 0.00e+00 9.76e-01  -1.7 6.30e-03   2.6 1.00e+00 1.56e-02f  7\n",
      " 516  2.2957478e-02 0.00e+00 1.08e+00  -1.7 8.60e-04   3.0 1.00e+00 3.12e-02f  6\n",
      " 517  2.2691356e-02 0.00e+00 1.76e+00  -1.7 2.50e-04   3.4 1.00e+00 1.00e+00w  1\n",
      " 518  2.1610349e-02 0.00e+00 2.04e+00  -1.7 1.03e-03   3.0 1.00e+00 1.00e+00w  1\n",
      " 519  1.5911523e-02 0.00e+00 3.17e+00  -1.7 6.76e-03   2.5 1.00e+00 1.00e+00w  1\n",
      "iter    objective    inf_pr   inf_du lg(mu)  ||d||  lg(rg) alpha_du alpha_pr  ls\n",
      " 520  2.2940752e-02 0.00e+00 1.15e+00  -1.7 1.24e-03   2.9 1.00e+00 2.50e-01f  2\n",
      " 521  2.2957030e-02 0.00e+00 1.22e+00  -1.7 3.30e-04   3.3 1.00e+00 1.25e-01f  4\n",
      " 522  2.2948897e-02 0.00e+00 1.05e+00  -1.7 1.19e-03   2.9 1.00e+00 6.25e-02f  5\n",
      " 523  2.2939576e-02 0.00e+00 1.16e+00  -1.7 3.80e-04   3.3 1.00e+00 2.50e-01f  3\n",
      " 524  2.2940804e-02 0.00e+00 1.17e+00  -1.7 1.95e-03   2.8 1.00e+00 3.12e-02f  6\n",
      " 525  2.2964993e-02 0.00e+00 1.09e+00  -1.7 4.22e-04   3.2 1.00e+00 2.50e-01f  3\n",
      " 526  2.2982073e-02 0.00e+00 1.06e+00  -1.7 2.56e-03   2.8 1.00e+00 3.12e-02f  6\n",
      " 527  2.2934422e-02 0.00e+00 1.26e+00  -1.7 4.75e-04   3.2 1.00e+00 2.50e-01f  3\n",
      " 528  2.2951830e-02 0.00e+00 1.14e+00  -1.7 2.55e-03   2.7 1.00e+00 6.25e-02f  5\n",
      " 529  2.2975098e-02 0.00e+00 1.01e+00  -1.7 5.73e-04   3.1 1.00e+00 1.25e-01f  4\n",
      "iter    objective    inf_pr   inf_du lg(mu)  ||d||  lg(rg) alpha_du alpha_pr  ls\n",
      " 530  1.9014259e-02 0.00e+00 2.38e+00  -1.7 2.97e-03   2.7 1.00e+00 1.00e+00w  1\n",
      " 531  1.9212925e-02 0.00e+00 1.07e+00  -1.7 6.69e-04   3.1 1.00e+00 1.00e+00w  1\n",
      " 532  2.0778725e-02 0.00e+00 2.13e+00  -1.7 4.77e-03   2.6 1.00e+00 1.00e+00w  1\n",
      " 533  2.2991870e-02 0.00e+00 1.03e+00  -1.7 7.85e-04   3.0 1.00e+00 3.12e-02f  5\n",
      " 534  2.2995343e-02 0.00e+00 1.18e+00  -1.7 4.84e-02   2.6 1.00e+00 2.44e-04f 13\n",
      " 535  2.2992271e-02 0.00e+00 1.03e+00  -1.7 8.26e-04   3.0 1.00e+00 3.12e-02f  6\n",
      " 536  2.2970636e-02 0.00e+00 1.31e+00  -1.7 2.76e-04   3.4 1.00e+00 2.50e-01f  3\n",
      " 537  2.3007451e-02 0.00e+00 1.03e+00  -1.7 9.62e-04   2.9 1.00e+00 1.25e-01f  4\n",
      " 538  2.3007323e-02 0.00e+00 1.02e+00  -1.7 3.05e-04   3.4 1.00e+00 7.81e-03f  8\n",
      " 539  2.3006530e-02 0.00e+00 1.03e+00  -1.7 1.35e-03   2.9 1.00e+00 3.91e-03f  9\n",
      "iter    objective    inf_pr   inf_du lg(mu)  ||d||  lg(rg) alpha_du alpha_pr  ls\n",
      " 540  2.3006952e-02 0.00e+00 1.02e+00  -1.7 3.50e-04   3.3 1.00e+00 3.12e-02f  6\n",
      " 541  2.3010957e-02 0.00e+00 9.01e-01  -1.7 1.67e-03   2.8 1.00e+00 7.81e-03f  8\n",
      " 542  2.3016359e-02 0.00e+00 1.00e+00  -1.7 4.18e-04   3.3 1.00e+00 2.50e-01f  3\n",
      " 543  2.0162556e-02 0.00e+00 2.36e+00  -1.7 2.06e-03   2.8 1.00e+00 1.00e+00w  1\n",
      " 544  2.0805199e-02 0.00e+00 9.61e-01  -1.7 4.80e-04   3.2 1.00e+00 1.00e+00w  1\n",
      " 545  1.9283691e-02 0.00e+00 2.63e+00  -1.7 2.78e-03   2.7 1.00e+00 1.00e+00w  1\n",
      " 546  2.3013945e-02 0.00e+00 1.27e+00  -1.7 5.23e-04   3.2 1.00e+00 7.81e-03f  7\n",
      " 547  2.3034694e-02 0.00e+00 1.00e+00  -1.7 4.71e-03   2.7 1.00e+00 3.91e-03f  9\n",
      " 548  2.3031739e-02 0.00e+00 1.04e+00  -1.7 6.26e-04   3.1 1.00e+00 1.56e-02f  7\n",
      " 549  2.3044211e-02 0.00e+00 9.94e-01  -1.7 6.00e-03   2.6 1.00e+00 1.95e-03f 10\n",
      "iter    objective    inf_pr   inf_du lg(mu)  ||d||  lg(rg) alpha_du alpha_pr  ls\n",
      " 550  2.3047884e-02 0.00e+00 1.09e+00  -1.7 7.33e-04   3.1 1.00e+00 1.56e-02f  7\n",
      " 551  2.3049405e-02 0.00e+00 1.05e+00  -1.7 2.05e-01   2.6 1.00e+00 1.95e-03f 10\n",
      " 552  2.3056360e-02 0.00e+00 9.94e-01  -1.7 8.79e-04   3.0 1.00e+00 1.56e-02f  7\n",
      " 553  2.3062824e-02 0.00e+00 1.24e+00  -1.7 5.14e-02   2.5 1.00e+00 1.22e-04f 14\n",
      " 554  2.3062935e-02 0.00e+00 9.99e-01  -1.7 1.10e-03   3.0 1.00e+00 7.81e-03f  8\n",
      " 555  2.3061420e-02 0.00e+00 1.22e+00  -1.7 2.92e-04   3.4 1.00e+00 6.25e-02f  5\n",
      " 556  2.1272493e-02 0.00e+00 2.05e+00  -1.7 1.34e-03   2.9 1.00e+00 1.00e+00w  1\n",
      " 557  2.1396674e-02 0.00e+00 1.07e+00  -1.7 3.35e-04   3.3 1.00e+00 1.00e+00w  1\n",
      " 558  2.0835822e-02 0.00e+00 2.27e+00  -1.7 1.65e-03   2.8 1.00e+00 1.00e+00w  1\n",
      " 559  2.3053790e-02 0.00e+00 9.88e-01  -1.7 6.13e-02   2.4 1.00e+00 3.12e-02f  5\n",
      "iter    objective    inf_pr   inf_du lg(mu)  ||d||  lg(rg) alpha_du alpha_pr  ls\n",
      " 560  2.3079611e-02 0.00e+00 1.06e+00  -1.7 1.90e-03   2.8 1.00e+00 1.56e-02f  7\n",
      " 561  2.3060767e-02 0.00e+00 1.06e+00  -1.7 4.49e-04   3.2 1.00e+00 1.25e-01f  4\n",
      " 562  2.3088216e-02 0.00e+00 1.15e+00  -1.7 2.45e-03   2.7 1.00e+00 3.12e-02f  6\n",
      " 563  2.3079256e-02 0.00e+00 1.02e+00  -1.7 4.98e-04   3.2 1.00e+00 6.25e-02f  5\n",
      " 564  2.3093672e-02 0.00e+00 1.12e+00  -1.7 3.44e-03   2.7 1.00e+00 1.56e-02f  7\n",
      " 565  2.3088028e-02 0.00e+00 1.24e+00  -1.7 5.74e-04   3.1 1.00e+00 1.25e-01f  4\n",
      " 566  2.3117198e-02 0.00e+00 1.02e+00  -1.7 3.77e-03   2.6 1.00e+00 3.12e-02f  6\n",
      " 567  2.3120124e-02 0.00e+00 1.01e+00  -1.7 6.65e-04   3.1 1.00e+00 1.56e-02f  7\n",
      " 568  2.3118930e-02 0.00e+00 1.02e+00  -1.7 9.10e-03   2.6 1.00e+00 1.95e-03f 10\n",
      " 569  2.2138396e-02 0.00e+00 1.76e+00  -1.7 7.73e-04   3.0 1.00e+00 1.00e+00w  1\n",
      "iter    objective    inf_pr   inf_du lg(mu)  ||d||  lg(rg) alpha_du alpha_pr  ls\n",
      " 570  1.8892964e-03 0.00e+00 1.30e+01  -1.7 3.13e-02   2.5 1.00e+00 1.00e+00w  1\n",
      " 571  4.4582995e-03 0.00e+00 9.11e-01  -1.7 9.81e-04   3.0 1.00e+00 1.00e+00w  1\n",
      " 572  2.3106523e-02 0.00e+00 1.05e+00  -1.7 1.74e-01   2.5 1.00e+00 6.25e-02f  4\n",
      " 573  2.3119352e-02 0.00e+00 1.06e+00  -1.7 1.19e-03   2.9 1.00e+00 3.12e-02f  6\n",
      " 574  2.3099564e-02 0.00e+00 1.17e+00  -1.7 3.20e-04   3.3 1.00e+00 2.50e-01f  3\n",
      " 575  2.3128238e-02 0.00e+00 1.17e+00  -1.7 1.45e-03   2.9 1.00e+00 3.12e-02f  6\n",
      " 576  2.3131852e-02 0.00e+00 1.06e+00  -1.7 3.02e-02   2.4 1.00e+00 4.88e-04f 12\n",
      " 577  2.3156701e-02 0.00e+00 9.81e-01  -1.7 1.53e-03   2.8 1.00e+00 3.12e-02f  6\n",
      " 578  2.3151676e-02 0.00e+00 1.18e+00  -1.7 4.39e-04   3.2 1.00e+00 3.12e-02f  6\n",
      " 579  2.3156921e-02 0.00e+00 9.62e-01  -1.7 1.69e-03   2.8 1.00e+00 1.56e-02f  7\n",
      "iter    objective    inf_pr   inf_du lg(mu)  ||d||  lg(rg) alpha_du alpha_pr  ls\n",
      " 580  2.3157544e-02 0.00e+00 1.12e+00  -1.7 5.08e-04   3.2 1.00e+00 3.12e-02f  6\n",
      " 581  2.3159507e-02 0.00e+00 1.09e+00  -1.7 3.09e-03   2.7 1.00e+00 7.81e-03f  8\n",
      " 582  2.3157160e-02 0.00e+00 1.07e+00  -1.7 5.68e-04   3.1 1.00e+00 1.00e+00f  1\n",
      " 583  2.3169360e-02 0.00e+00 1.08e+00  -1.7 3.21e-03   2.7 1.00e+00 3.91e-03f  9\n",
      " 584  2.3166397e-02 0.00e+00 1.06e+00  -1.7 6.20e-04   3.1 1.00e+00 3.12e-02f  6\n",
      " 585  2.3176379e-02 0.00e+00 1.06e+00  -1.7 4.44e-03   2.6 1.00e+00 3.91e-03f  9\n",
      " 586  2.3181424e-02 0.00e+00 1.08e+00  -1.7 7.88e-04   3.0 1.00e+00 3.12e-02f  6\n",
      " 587  2.3184580e-02 0.00e+00 1.07e+00  -1.7 6.79e-03   2.6 1.00e+00 9.77e-04f 11\n",
      " 588  2.3183087e-02 0.00e+00 1.08e+00  -1.7 8.28e-04   3.0 1.00e+00 1.56e-02f  7\n",
      " 589  2.3193884e-02 0.00e+00 1.06e+00  -1.7 1.31e-02   2.5 1.00e+00 9.77e-04f 11\n",
      "iter    objective    inf_pr   inf_du lg(mu)  ||d||  lg(rg) alpha_du alpha_pr  ls\n",
      " 590  2.3190750e-02 0.00e+00 1.05e+00  -1.7 1.10e-03   2.9 1.00e+00 1.56e-02f  7\n",
      " 591  2.3193541e-02 0.00e+00 1.12e+00  -1.7 3.10e-04   3.4 1.00e+00 6.25e-02f  5\n",
      " 592  2.3192286e-02 0.00e+00 1.07e+00  -1.7 1.23e-03   2.9 1.00e+00 3.91e-03f  9\n",
      " 593  7.0480265e-03 0.00e+00 6.42e+00  -1.7 1.98e-02   2.4 1.00e+00 1.00e+00w  1\n",
      " 594  1.1952630e-02 0.00e+00 1.17e+00  -1.7 1.73e-03   2.8 1.00e+00 1.00e+00w  1\n",
      " 595  1.3050593e-02 0.00e+00 7.17e-01  -1.7 3.97e-04   3.3 1.00e+00 1.00e+00w  1\n",
      " 596  2.3192390e-02 0.00e+00 1.11e+00  -1.7 2.24e-03   2.8 1.00e+00 4.88e-04f 11\n",
      " 597  2.3181811e-02 0.00e+00 1.11e+00  -1.7 4.59e-04   3.2 1.00e+00 6.25e-02f  5\n",
      " 598  2.3196846e-02 0.00e+00 1.01e+00  -1.7 1.92e-03   2.7 1.00e+00 1.56e-02f  7\n",
      " 599  2.3191121e-02 0.00e+00 1.04e+00  -1.7 5.47e-04   3.2 1.00e+00 3.12e-02f  6\n",
      "iter    objective    inf_pr   inf_du lg(mu)  ||d||  lg(rg) alpha_du alpha_pr  ls\n",
      " 600  2.3199817e-02 0.00e+00 1.00e+00  -1.7 3.72e-03   2.7 1.00e+00 7.81e-03f  8\n",
      " 601  2.3200766e-02 0.00e+00 1.07e+00  -1.7 6.54e-04   3.1 1.00e+00 3.91e-03f  9\n",
      " 602  2.3201199e-02 0.00e+00 1.00e+00  -1.7 7.76e-03   2.6 1.00e+00 4.88e-04f 12\n",
      " 603  2.3203401e-02 0.00e+00 1.08e+00  -1.7 7.70e-04   3.1 1.00e+00 7.81e-03f  8\n",
      " 604  2.3209454e-02 0.00e+00 9.95e-01  -1.7 2.21e-02   2.6 1.00e+00 2.44e-04f 13\n",
      " 605  2.3209323e-02 0.00e+00 1.08e+00  -1.7 9.15e-04   3.0 1.00e+00 7.81e-03f  8\n",
      " 606  2.2880434e-02 0.00e+00 1.65e+00  -1.7 2.65e-04   3.4 1.00e+00 1.00e+00w  1\n",
      " 607  2.1743943e-02 0.00e+00 1.97e+00  -1.7 1.10e-03   3.0 1.00e+00 1.00e+00w  1\n",
      " 608  2.2380152e-02 0.00e+00 1.07e+00  -1.7 2.93e-04   3.4 1.00e+00 1.00e+00w  1\n",
      " 609  2.3206924e-02 0.00e+00 9.93e-01  -1.7 1.34e-03   2.9 1.00e+00 6.25e-02f  4\n",
      "iter    objective    inf_pr   inf_du lg(mu)  ||d||  lg(rg) alpha_du alpha_pr  ls\n",
      " 610  2.3194137e-02 0.00e+00 1.12e+00  -1.7 3.44e-04   3.3 1.00e+00 1.25e-01f  4\n",
      " 611  2.3193952e-02 0.00e+00 1.13e+00  -1.7 1.53e-03   2.8 1.00e+00 3.12e-02f  6\n",
      " 612  2.3190372e-02 0.00e+00 1.17e+00  -1.7 3.99e-04   3.3 1.00e+00 6.25e-02f  5\n",
      " 613  2.3196080e-02 0.00e+00 1.08e+00  -1.7 1.50e-03   2.8 1.00e+00 3.12e-02f  6\n",
      " 614  2.3201112e-02 0.00e+00 9.74e-01  -1.7 4.61e-04   3.2 1.00e+00 3.12e-02f  6\n",
      " 615  2.3202256e-02 0.00e+00 1.07e+00  -1.7 2.86e-03   2.7 1.00e+00 7.81e-03f  8\n",
      " 616  2.3219027e-02 0.00e+00 1.01e+00  -1.7 5.35e-04   3.2 1.00e+00 6.25e-02f  5\n",
      " 617  2.3220452e-02 0.00e+00 1.20e+00  -1.7 4.11e-03   2.7 1.00e+00 7.81e-03f  8\n",
      " 618  2.3219430e-02 0.00e+00 1.04e+00  -1.7 6.03e-04   3.1 1.00e+00 3.12e-02f  6\n",
      " 619  1.4236590e-02 0.00e+00 4.05e+00  -1.7 6.33e-03   2.6 1.00e+00 1.00e+00w  1\n",
      "iter    objective    inf_pr   inf_du lg(mu)  ||d||  lg(rg) alpha_du alpha_pr  ls\n",
      " 620  1.5914033e-02 0.00e+00 7.68e-01  -1.7 6.55e-04   3.1 1.00e+00 1.00e+00w  1\n",
      " 621  1.6849267e-02 0.00e+00 1.51e+00  -1.7 3.54e-03   2.6 1.00e+00 1.00e+00w  1\n",
      " 622  2.3233993e-02 0.00e+00 1.19e+00  -1.7 8.32e-04   3.0 1.00e+00 3.91e-03f  8\n",
      " 623  2.3241598e-02 0.00e+00 1.08e+00  -1.7 1.25e-02   2.5 1.00e+00 1.95e-03f 10\n",
      " 624  2.3234053e-02 0.00e+00 1.20e+00  -1.7 9.25e-04   3.0 1.00e+00 3.12e-02f  6\n",
      " 625  2.3245952e-02 0.00e+00 1.08e+00  -1.7 6.86e-03   2.5 1.00e+00 3.91e-03f  9\n",
      " 626  2.3246502e-02 0.00e+00 9.75e-01  -1.7 1.17e-03   2.9 1.00e+00 9.77e-04f 11\n",
      " 627  2.3245686e-02 0.00e+00 1.08e+00  -1.7 3.25e-04   3.3 1.00e+00 7.81e-03f  8\n",
      " 628  2.3245473e-02 0.00e+00 9.69e-01  -1.7 1.42e-03   2.9 1.00e+00 3.91e-03f  9\n",
      " 629  2.3245389e-02 0.00e+00 1.09e+00  -1.7 3.73e-04   3.3 1.00e+00 3.12e-02f  6\n",
      "iter    objective    inf_pr   inf_du lg(mu)  ||d||  lg(rg) alpha_du alpha_pr  ls\n",
      " 630  2.3246602e-02 0.00e+00 1.15e+00  -1.7 1.77e-03   2.8 1.00e+00 7.81e-03f  8\n",
      " 631  2.3247649e-02 0.00e+00 1.64e+00  -1.7 3.84e-04   3.2 1.00e+00 1.00e+00f  1\n",
      " 632  2.3250081e-02 0.00e+00 1.06e+00  -1.7 2.53e-03   2.8 1.00e+00 1.95e-03f 10\n",
      " 633  2.3250657e-02 0.00e+00 1.63e+00  -1.7 5.06e-04   3.2 1.00e+00 1.56e-02f  7\n",
      " 634  2.3251845e-02 0.00e+00 1.05e+00  -1.7 3.49e-03   2.7 1.00e+00 3.91e-03f  9\n",
      " 635  2.3255146e-02 0.00e+00 1.59e+00  -1.7 5.90e-04   3.1 1.00e+00 1.56e-02f  7\n",
      " 636  2.3255213e-02 0.00e+00 1.06e+00  -1.7 3.00e-03   2.7 1.00e+00 3.91e-03f  9\n",
      " 637  2.3254616e-02 0.00e+00 1.04e+00  -1.7 6.63e-04   3.1 1.00e+00 3.91e-03f  9\n",
      " 638  2.3257004e-02 0.00e+00 1.05e+00  -1.7 7.37e-03   2.6 1.00e+00 4.88e-04f 12\n",
      " 639  2.3256615e-02 0.00e+00 1.05e+00  -1.7 7.78e-04   3.0 1.00e+00 7.81e-03f  8\n",
      "iter    objective    inf_pr   inf_du lg(mu)  ||d||  lg(rg) alpha_du alpha_pr  ls\n",
      " 640  2.3260588e-02 0.00e+00 1.05e+00  -1.7 1.81e-02   2.6 1.00e+00 4.88e-04f 12\n",
      " 641  2.3262483e-02 0.00e+00 1.06e+00  -1.7 9.20e-04   3.0 1.00e+00 1.56e-02f  7\n",
      " 642  2.2907731e-02 0.00e+00 1.76e+00  -1.7 2.72e-04   3.4 1.00e+00 1.00e+00w  1\n",
      " 643  2.1898144e-02 0.00e+00 1.94e+00  -1.7 1.01e-03   2.9 1.00e+00 1.00e+00w  1\n",
      " 644  2.2608544e-02 0.00e+00 1.06e+00  -1.7 3.11e-04   3.4 1.00e+00 1.00e+00w  1\n",
      " 645  2.3263576e-02 0.00e+00 1.55e+00  -1.7 1.36e-03   2.9 1.00e+00 1.56e-02f  6\n",
      " 646  2.3259301e-02 0.00e+00 1.05e+00  -1.7 3.47e-04   3.3 1.00e+00 3.12e-02f  6\n",
      " 647  2.3259671e-02 0.00e+00 1.67e+00  -1.7 1.68e-03   2.8 1.00e+00 7.81e-03f  8\n",
      " 648  2.3256902e-02 0.00e+00 1.51e+00  -1.7 4.07e-04   3.3 1.00e+00 3.12e-02f  6\n",
      " 649  2.3254842e-02 0.00e+00 1.64e+00  -1.7 1.75e-03   2.8 1.00e+00 1.56e-02f  7\n",
      "iter    objective    inf_pr   inf_du lg(mu)  ||d||  lg(rg) alpha_du alpha_pr  ls\n",
      " 650  2.3253962e-02 0.00e+00 1.51e+00  -1.7 4.68e-04   3.2 1.00e+00 1.25e-01f  4\n",
      " 651  2.3254219e-02 0.00e+00 1.04e+00  -1.7 2.17e-03   2.7 1.00e+00 9.77e-04f 11\n",
      " 652  2.3253960e-02 0.00e+00 1.50e+00  -1.7 5.48e-04   3.2 1.00e+00 7.81e-03f  8\n",
      " 653  2.3258128e-02 0.00e+00 1.04e+00  -1.7 2.75e-03   2.7 1.00e+00 1.95e-03f 10\n",
      " 654  2.3255270e-02 0.00e+00 1.49e+00  -1.7 6.39e-04   3.1 1.00e+00 1.56e-02f  7\n",
      " 655  1.8197303e-02 0.00e+00 2.57e+00  -1.7 3.64e-03   2.6 1.00e+00 1.00e+00w  1\n",
      " 656  1.8278224e-02 0.00e+00 1.07e+00  -1.7 7.49e-04   3.1 1.00e+00 1.00e+00w  1\n",
      " 657  2.0181073e-02 0.00e+00 2.68e+00  -1.7 6.51e-03   2.6 1.00e+00 1.00e+00w  1\n",
      " 658  2.3255224e-02 0.00e+00 1.04e+00  -1.7 8.84e-04   3.0 1.00e+00 3.91e-03f  8\n",
      " 659  2.3259546e-02 0.00e+00 1.02e+00  -1.7 5.91e-02   2.5 1.00e+00 6.10e-05f 15\n",
      "iter    objective    inf_pr   inf_du lg(mu)  ||d||  lg(rg) alpha_du alpha_pr  ls\n",
      " 660  2.3260136e-02 0.00e+00 1.04e+00  -1.7 1.05e-03   2.9 1.00e+00 3.91e-03f  9\n",
      " 661  2.3258352e-02 0.00e+00 1.04e+00  -1.7 2.94e-04   3.4 1.00e+00 3.12e-02f  6\n",
      " 662  2.3257136e-02 0.00e+00 1.02e+00  -1.7 1.27e-03   2.9 1.00e+00 1.56e-02f  7\n",
      " 663  2.3255876e-02 0.00e+00 1.12e+00  -1.7 3.36e-04   3.3 1.00e+00 1.25e-01f  4\n",
      " 664  2.3256797e-02 0.00e+00 1.38e+00  -1.7 1.56e-03   2.8 1.00e+00 1.95e-03f 10\n",
      " 665  2.3256392e-02 0.00e+00 1.12e+00  -1.7 3.80e-04   3.3 1.00e+00 1.56e-02f  7\n",
      " 666  2.3261562e-02 0.00e+00 1.36e+00  -1.7 1.97e-03   2.8 1.00e+00 3.91e-03f  9\n",
      " 667  2.3259537e-02 0.00e+00 1.11e+00  -1.7 4.36e-04   3.2 1.00e+00 3.12e-02f  6\n",
      " 668  1.9714473e-02 0.00e+00 2.55e+00  -1.7 2.55e-03   2.7 1.00e+00 1.00e+00w  1\n",
      " 669  1.9784361e-02 0.00e+00 1.06e+00  -1.7 5.07e-04   3.2 1.00e+00 1.00e+00w  1\n",
      "iter    objective    inf_pr   inf_du lg(mu)  ||d||  lg(rg) alpha_du alpha_pr  ls\n",
      " 670  2.0368612e-02 0.00e+00 1.81e+00  -1.7 3.35e-03   2.7 1.00e+00 1.00e+00w  1\n",
      " 671  2.3260230e-02 0.00e+00 1.33e+00  -1.7 5.78e-04   3.1 1.00e+00 7.81e-03f  7\n",
      " 672  2.3259711e-02 0.00e+00 1.47e+00  -1.7 3.58e-03   2.6 1.00e+00 9.77e-04f 11\n",
      " 673  2.3256534e-02 0.00e+00 1.34e+00  -1.7 6.52e-04   3.1 1.00e+00 1.56e-02f  7\n",
      " 674  2.3257672e-02 0.00e+00 1.46e+00  -1.7 5.10e-03   2.6 1.00e+00 3.91e-03f  9\n",
      " 675  2.3260352e-02 0.00e+00 1.34e+00  -1.7 7.54e-04   3.0 1.00e+00 3.12e-02f  6\n",
      " 676  2.3260746e-02 0.00e+00 1.09e+00  -1.7 2.54e-04   3.4 1.00e+00 1.25e-01f  4\n",
      " 677  2.3275748e-02 0.00e+00 1.45e+00  -1.7 1.04e-03   3.0 1.00e+00 3.12e-02f  6\n",
      " 678  2.3278889e-02 0.00e+00 1.20e+00  -1.7 6.91e-03   2.5 1.00e+00 1.95e-03f 10\n",
      " 679  2.3280255e-02 0.00e+00 9.65e-01  -1.7 1.25e-03   2.9 1.00e+00 1.56e-02f  7\n",
      "iter    objective    inf_pr   inf_du lg(mu)  ||d||  lg(rg) alpha_du alpha_pr  ls\n",
      " 680  2.3267395e-02 0.00e+00 1.15e+00  -1.7 3.22e-04   3.3 1.00e+00 1.25e-01f  4\n",
      " 681  2.1176437e-02 0.00e+00 2.24e+00  -1.7 1.56e-03   2.9 1.00e+00 1.00e+00w  1\n",
      " 682  2.1231867e-02 0.00e+00 1.06e+00  -1.7 3.83e-04   3.3 1.00e+00 1.00e+00w  1\n",
      " 683  2.2154213e-02 0.00e+00 1.26e+00  -1.7 1.78e-03   2.8 1.00e+00 1.00e+00w  1\n",
      " 684  2.2135558e-02 0.00e+00 1.83e+00  -1.7 4.41e-04   3.2 1.00e+00 1.00e+00f  1\n",
      " 685  2.2159399e-02 0.00e+00 1.07e+00  -1.7 1.70e-03   2.8 1.00e+00 5.00e-01f  2\n",
      " 686  2.2628888e-02 0.00e+00 1.85e+00  -1.7 5.11e-04   3.2 1.00e+00 1.00e+00f  1\n",
      " 687  2.2542324e-02 0.00e+00 7.40e-01  -1.7 2.76e-03   2.7 1.00e+00 2.50e-01f  3\n",
      " 688  2.2472276e-02 0.00e+00 1.77e+00  -1.7 5.94e-04   3.1 1.00e+00 1.00e+00f  1\n",
      " 689  2.3088502e-02 0.00e+00 7.10e-01  -1.7 5.69e-03   2.7 1.00e+00 1.25e-01f  4\n",
      "iter    objective    inf_pr   inf_du lg(mu)  ||d||  lg(rg) alpha_du alpha_pr  ls\n",
      " 690  2.3219135e-02 0.00e+00 1.07e+00  -1.7 6.95e-04   3.1 1.00e+00 5.00e-01f  2\n",
      " 691  2.3189202e-02 0.00e+00 1.18e+00  -1.7 4.06e-03   2.6 1.00e+00 1.25e-01f  4\n",
      " 692  2.3237893e-02 0.00e+00 1.08e+00  -1.7 7.92e-04   3.0 1.00e+00 1.00e+00f  1\n",
      " 693  2.3324327e-02 0.00e+00 1.90e+00  -1.7 9.74e-03   2.6 1.00e+00 3.12e-02f  6\n",
      " 694  2.3189152e-02 0.00e+00 1.44e+00  -1.7 8.79e-04   3.0 1.00e+00 5.00e-01f  2\n",
      " 695  2.3407850e-02 0.00e+00 1.07e+00  -1.7 6.05e-03   2.5 1.00e+00 6.25e-02f  5\n",
      " 696  2.3457115e-02 0.00e+00 1.34e+00  -1.7 1.18e-03   2.9 1.00e+00 2.50e-01f  3\n",
      " 697  2.3598412e-02 0.00e+00 1.07e+00  -1.7 6.12e-03   2.5 1.00e+00 6.25e-02f  5\n",
      " 698  2.3539513e-02 0.00e+00 1.47e+00  -1.7 1.44e-03   2.9 1.00e+00 2.50e-01f  3\n",
      " 699  2.3691023e-02 0.00e+00 1.07e+00  -1.7 3.60e-04   3.3 1.00e+00 1.00e+00f  1\n",
      "iter    objective    inf_pr   inf_du lg(mu)  ||d||  lg(rg) alpha_du alpha_pr  ls\n",
      " 700  2.3642676e-02 0.00e+00 1.38e+00  -1.7 1.87e-03   2.8 1.00e+00 2.50e-01f  3\n",
      " 701  2.3725923e-02 0.00e+00 1.07e+00  -1.7 4.01e-04   3.3 1.00e+00 1.00e+00f  1\n",
      " 702  2.3751913e-02 0.00e+00 1.10e+00  -1.7 1.50e-03   2.8 1.00e+00 6.25e-02f  5\n",
      " 703  2.3838653e-02 0.00e+00 1.07e+00  -1.7 8.40e-02   2.3 1.00e+00 9.77e-04f 11\n",
      " 704  2.3863189e-02 0.00e+00 1.86e+00  -1.7 3.13e-03   2.7 1.00e+00 1.00e+00f  1\n",
      " 705  2.3821324e-02 0.00e+00 1.41e+00  -1.7 4.83e-04   3.2 1.00e+00 2.50e-01f  3\n",
      " 706  2.3838023e-02 0.00e+00 1.25e+00  -1.7 2.03e-03   2.7 1.00e+00 1.25e-01f  4\n",
      " 707  2.3767329e-02 0.00e+00 1.77e+00  -1.7 5.55e-04   3.1 1.00e+00 1.00e+00f  1\n",
      " 708  2.3760494e-02 0.00e+00 1.11e+00  -1.7 2.49e-03   2.6 1.00e+00 6.25e-02f  5\n",
      " 709  2.3671054e-02 0.00e+00 1.48e+00  -1.7 7.62e-04   3.1 1.00e+00 5.00e-01f  2\n",
      " 711  2.3575221e-02 0.00e+00 1.69e+00  -1.7 9.12e-04   3.0 1.00e+00 5.00e-01f  2\n"
     ]
    },
    {
     "data": {
      "text/plain": [
       "16×2 Matrix{Float64}:\n",
       " -0.402227  0.176289\n",
       " -0.369121  0.239724\n",
       " -0.398258  0.24273\n",
       " -0.366135  0.180187\n",
       " -0.386042  0.223381\n",
       " -0.345916  0.168854\n",
       " -0.353962  0.223083\n",
       " -0.387303  0.192941\n",
       " -0.421821  0.252192\n",
       " -0.329137  0.209262\n",
       " -0.338116  0.238849\n",
       " -0.35649   0.26008\n",
       " -0.28168   0.321068\n",
       " -0.433901  0.144127\n",
       " -0.415141  0.157585\n",
       " -0.3702    0.207672"
      ]
     },
     "execution_count": 5,
     "metadata": {},
     "output_type": "execute_result"
    }
   ],
   "source": [
    "# Defining the models and getting the results\n",
    "optimize!(model)\n",
    "solution_summary(model)\n",
    "input = value.(ɑ)\n",
    "# output = input * H"
   ]
  },
  {
   "cell_type": "markdown",
   "metadata": {},
   "source": [
    "## Plot results\n",
    "\n",
    "Plot input constellation"
   ]
  },
  {
   "cell_type": "code",
   "execution_count": 6,
   "metadata": {},
   "outputs": [
    {
     "data": {
      "application/vnd.plotly.v1+json": {
       "config": {
        "editable": false,
        "responsive": true,
        "scrollZoom": true,
        "showLink": false,
        "staticPlot": false
       },
       "data": [
        {
         "mode": "markers",
         "type": "scatter",
         "x": [
          -0.40222685852874185,
          -0.369121188517868,
          -0.39825824784141356,
          -0.3661345091556131,
          -0.38604158903445335,
          -0.3459163812885245,
          -0.35396235796232206,
          -0.38730289847658794,
          -0.4218209590603857,
          -0.32913727167913365,
          -0.33811646953289354,
          -0.35648952205614637,
          -0.2816798718614537,
          -0.433900512289127,
          -0.4151406892223849,
          -0.3702003539475136
         ],
         "xaxis": "x",
         "y": [
          0.17628862563828857,
          0.2397241138980664,
          0.24273034074323993,
          0.1801866619685226,
          0.22338127754383683,
          0.1688538723610917,
          0.2230828562869405,
          0.19294052868336029,
          0.25219158135180786,
          0.2092620319897445,
          0.238849293474857,
          0.26008002748451137,
          0.32106849739044685,
          0.14412745471368027,
          0.15758542514573698,
          0.2076716587205441
         ],
         "yaxis": "y"
        }
       ],
       "frames": [],
       "layout": {
        "legend": {
         "tracegroupgap": 0
        },
        "margin": {
         "b": 50,
         "l": 50,
         "r": 50,
         "t": 60
        },
        "template": {
         "data": {
          "bar": [
           {
            "error_x": {
             "color": "#2a3f5f"
            },
            "error_y": {
             "color": "#2a3f5f"
            },
            "marker": {
             "line": {
              "color": "#E5ECF6",
              "width": 0.5
             }
            },
            "type": "bar"
           }
          ],
          "barpolar": [
           {
            "marker": {
             "line": {
              "color": "#E5ECF6",
              "width": 0.5
             }
            },
            "type": "barpolar"
           }
          ],
          "carpet": [
           {
            "aaxis": {
             "endlinecolor": "#2a3f5f",
             "gridcolor": "white",
             "linecolor": "white",
             "minorgridcolor": "white",
             "startlinecolor": "#2a3f5f"
            },
            "baxis": {
             "endlinecolor": "#2a3f5f",
             "gridcolor": "white",
             "linecolor": "white",
             "minorgridcolor": "white",
             "startlinecolor": "#2a3f5f"
            },
            "type": "carpet"
           }
          ],
          "choropleth": [
           {
            "colorbar": {
             "outlinewidth": 0,
             "ticks": ""
            },
            "type": "choropleth"
           }
          ],
          "contour": [
           {
            "colorbar": {
             "outlinewidth": 0,
             "ticks": ""
            },
            "colorscale": [
             [
              0,
              "#0d0887"
             ],
             [
              0.1111111111111111,
              "#46039f"
             ],
             [
              0.2222222222222222,
              "#7201a8"
             ],
             [
              0.3333333333333333,
              "#9c179e"
             ],
             [
              0.4444444444444444,
              "#bd3786"
             ],
             [
              0.5555555555555556,
              "#d8576b"
             ],
             [
              0.6666666666666666,
              "#ed7953"
             ],
             [
              0.7777777777777778,
              "#fb9f3a"
             ],
             [
              0.8888888888888888,
              "#fdca26"
             ],
             [
              1,
              "#f0f921"
             ]
            ],
            "type": "contour"
           }
          ],
          "contourcarpet": [
           {
            "colorbar": {
             "outlinewidth": 0,
             "ticks": ""
            },
            "type": "contourcarpet"
           }
          ],
          "heatmap": [
           {
            "colorbar": {
             "outlinewidth": 0,
             "ticks": ""
            },
            "colorscale": [
             [
              0,
              "#0d0887"
             ],
             [
              0.1111111111111111,
              "#46039f"
             ],
             [
              0.2222222222222222,
              "#7201a8"
             ],
             [
              0.3333333333333333,
              "#9c179e"
             ],
             [
              0.4444444444444444,
              "#bd3786"
             ],
             [
              0.5555555555555556,
              "#d8576b"
             ],
             [
              0.6666666666666666,
              "#ed7953"
             ],
             [
              0.7777777777777778,
              "#fb9f3a"
             ],
             [
              0.8888888888888888,
              "#fdca26"
             ],
             [
              1,
              "#f0f921"
             ]
            ],
            "type": "heatmap"
           }
          ],
          "heatmapgl": [
           {
            "colorbar": {
             "outlinewidth": 0,
             "ticks": ""
            },
            "colorscale": [
             [
              0,
              "#0d0887"
             ],
             [
              0.1111111111111111,
              "#46039f"
             ],
             [
              0.2222222222222222,
              "#7201a8"
             ],
             [
              0.3333333333333333,
              "#9c179e"
             ],
             [
              0.4444444444444444,
              "#bd3786"
             ],
             [
              0.5555555555555556,
              "#d8576b"
             ],
             [
              0.6666666666666666,
              "#ed7953"
             ],
             [
              0.7777777777777778,
              "#fb9f3a"
             ],
             [
              0.8888888888888888,
              "#fdca26"
             ],
             [
              1,
              "#f0f921"
             ]
            ],
            "type": "heatmapgl"
           }
          ],
          "histogram": [
           {
            "marker": {
             "colorbar": {
              "outlinewidth": 0,
              "ticks": ""
             }
            },
            "type": "histogram"
           }
          ],
          "histogram2d": [
           {
            "colorbar": {
             "outlinewidth": 0,
             "ticks": ""
            },
            "colorscale": [
             [
              0,
              "#0d0887"
             ],
             [
              0.1111111111111111,
              "#46039f"
             ],
             [
              0.2222222222222222,
              "#7201a8"
             ],
             [
              0.3333333333333333,
              "#9c179e"
             ],
             [
              0.4444444444444444,
              "#bd3786"
             ],
             [
              0.5555555555555556,
              "#d8576b"
             ],
             [
              0.6666666666666666,
              "#ed7953"
             ],
             [
              0.7777777777777778,
              "#fb9f3a"
             ],
             [
              0.8888888888888888,
              "#fdca26"
             ],
             [
              1,
              "#f0f921"
             ]
            ],
            "type": "histogram2d"
           }
          ],
          "histogram2dcontour": [
           {
            "colorbar": {
             "outlinewidth": 0,
             "ticks": ""
            },
            "colorscale": [
             [
              0,
              "#0d0887"
             ],
             [
              0.1111111111111111,
              "#46039f"
             ],
             [
              0.2222222222222222,
              "#7201a8"
             ],
             [
              0.3333333333333333,
              "#9c179e"
             ],
             [
              0.4444444444444444,
              "#bd3786"
             ],
             [
              0.5555555555555556,
              "#d8576b"
             ],
             [
              0.6666666666666666,
              "#ed7953"
             ],
             [
              0.7777777777777778,
              "#fb9f3a"
             ],
             [
              0.8888888888888888,
              "#fdca26"
             ],
             [
              1,
              "#f0f921"
             ]
            ],
            "type": "histogram2dcontour"
           }
          ],
          "mesh3d": [
           {
            "colorbar": {
             "outlinewidth": 0,
             "ticks": ""
            },
            "type": "mesh3d"
           }
          ],
          "parcoords": [
           {
            "line": {
             "colorbar": {
              "outlinewidth": 0,
              "ticks": ""
             }
            },
            "type": "parcoords"
           }
          ],
          "pie": [
           {
            "automargin": true,
            "type": "pie"
           }
          ],
          "scatter": [
           {
            "marker": {
             "colorbar": {
              "outlinewidth": 0,
              "ticks": ""
             }
            },
            "type": "scatter"
           }
          ],
          "scatter3d": [
           {
            "line": {
             "colorbar": {
              "outlinewidth": 0,
              "ticks": ""
             }
            },
            "marker": {
             "colorbar": {
              "outlinewidth": 0,
              "ticks": ""
             }
            },
            "type": "scatter3d"
           }
          ],
          "scattercarpet": [
           {
            "marker": {
             "colorbar": {
              "outlinewidth": 0,
              "ticks": ""
             }
            },
            "type": "scattercarpet"
           }
          ],
          "scattergeo": [
           {
            "marker": {
             "colorbar": {
              "outlinewidth": 0,
              "ticks": ""
             }
            },
            "type": "scattergeo"
           }
          ],
          "scattergl": [
           {
            "marker": {
             "colorbar": {
              "outlinewidth": 0,
              "ticks": ""
             }
            },
            "type": "scattergl"
           }
          ],
          "scattermapbox": [
           {
            "marker": {
             "colorbar": {
              "outlinewidth": 0,
              "ticks": ""
             }
            },
            "type": "scattermapbox"
           }
          ],
          "scatterpolar": [
           {
            "marker": {
             "colorbar": {
              "outlinewidth": 0,
              "ticks": ""
             }
            },
            "type": "scatterpolar"
           }
          ],
          "scatterpolargl": [
           {
            "marker": {
             "colorbar": {
              "outlinewidth": 0,
              "ticks": ""
             }
            },
            "type": "scatterpolargl"
           }
          ],
          "scatterternary": [
           {
            "marker": {
             "colorbar": {
              "outlinewidth": 0,
              "ticks": ""
             }
            },
            "type": "scatterternary"
           }
          ],
          "surface": [
           {
            "colorbar": {
             "outlinewidth": 0,
             "ticks": ""
            },
            "colorscale": [
             [
              0,
              "#0d0887"
             ],
             [
              0.1111111111111111,
              "#46039f"
             ],
             [
              0.2222222222222222,
              "#7201a8"
             ],
             [
              0.3333333333333333,
              "#9c179e"
             ],
             [
              0.4444444444444444,
              "#bd3786"
             ],
             [
              0.5555555555555556,
              "#d8576b"
             ],
             [
              0.6666666666666666,
              "#ed7953"
             ],
             [
              0.7777777777777778,
              "#fb9f3a"
             ],
             [
              0.8888888888888888,
              "#fdca26"
             ],
             [
              1,
              "#f0f921"
             ]
            ],
            "type": "surface"
           }
          ],
          "table": [
           {
            "cells": {
             "fill": {
              "color": "#EBF0F8"
             },
             "line": {
              "color": "white"
             }
            },
            "header": {
             "fill": {
              "color": "#C8D4E3"
             },
             "line": {
              "color": "white"
             }
            },
            "type": "table"
           }
          ]
         },
         "layout": {
          "annotationdefaults": {
           "arrowcolor": "#2a3f5f",
           "arrowhead": 0,
           "arrowwidth": 1
          },
          "autotypenumbers": "strict",
          "coloraxis": {
           "colorbar": {
            "outlinewidth": 0,
            "ticks": ""
           }
          },
          "colorscale": {
           "diverging": [
            [
             0,
             "#8e0152"
            ],
            [
             0.1,
             "#c51b7d"
            ],
            [
             0.2,
             "#de77ae"
            ],
            [
             0.3,
             "#f1b6da"
            ],
            [
             0.4,
             "#fde0ef"
            ],
            [
             0.5,
             "#f7f7f7"
            ],
            [
             0.6,
             "#e6f5d0"
            ],
            [
             0.7,
             "#b8e186"
            ],
            [
             0.8,
             "#7fbc41"
            ],
            [
             0.9,
             "#4d9221"
            ],
            [
             1,
             "#276419"
            ]
           ],
           "sequential": [
            [
             0,
             "#0d0887"
            ],
            [
             0.1111111111111111,
             "#46039f"
            ],
            [
             0.2222222222222222,
             "#7201a8"
            ],
            [
             0.3333333333333333,
             "#9c179e"
            ],
            [
             0.4444444444444444,
             "#bd3786"
            ],
            [
             0.5555555555555556,
             "#d8576b"
            ],
            [
             0.6666666666666666,
             "#ed7953"
            ],
            [
             0.7777777777777778,
             "#fb9f3a"
            ],
            [
             0.8888888888888888,
             "#fdca26"
            ],
            [
             1,
             "#f0f921"
            ]
           ],
           "sequentialminus": [
            [
             0,
             "#0d0887"
            ],
            [
             0.1111111111111111,
             "#46039f"
            ],
            [
             0.2222222222222222,
             "#7201a8"
            ],
            [
             0.3333333333333333,
             "#9c179e"
            ],
            [
             0.4444444444444444,
             "#bd3786"
            ],
            [
             0.5555555555555556,
             "#d8576b"
            ],
            [
             0.6666666666666666,
             "#ed7953"
            ],
            [
             0.7777777777777778,
             "#fb9f3a"
            ],
            [
             0.8888888888888888,
             "#fdca26"
            ],
            [
             1,
             "#f0f921"
            ]
           ]
          },
          "colorway": [
           "#636efa",
           "#EF553B",
           "#00cc96",
           "#ab63fa",
           "#FFA15A",
           "#19d3f3",
           "#FF6692",
           "#B6E880",
           "#FF97FF",
           "#FECB52"
          ],
          "font": {
           "color": "#2a3f5f"
          },
          "geo": {
           "bgcolor": "white",
           "lakecolor": "white",
           "landcolor": "#E5ECF6",
           "showlakes": true,
           "showland": true,
           "subunitcolor": "white"
          },
          "hoverlabel": {
           "align": "left"
          },
          "hovermode": "closest",
          "mapbox": {
           "style": "light"
          },
          "paper_bgcolor": "white",
          "plot_bgcolor": "#E5ECF6",
          "polar": {
           "angularaxis": {
            "gridcolor": "white",
            "linecolor": "white",
            "ticks": ""
           },
           "bgcolor": "#E5ECF6",
           "radialaxis": {
            "gridcolor": "white",
            "linecolor": "white",
            "ticks": ""
           }
          },
          "scene": {
           "xaxis": {
            "backgroundcolor": "#E5ECF6",
            "gridcolor": "white",
            "gridwidth": 2,
            "linecolor": "white",
            "showbackground": true,
            "ticks": "",
            "zerolinecolor": "white"
           },
           "yaxis": {
            "backgroundcolor": "#E5ECF6",
            "gridcolor": "white",
            "gridwidth": 2,
            "linecolor": "white",
            "showbackground": true,
            "ticks": "",
            "zerolinecolor": "white"
           },
           "zaxis": {
            "backgroundcolor": "#E5ECF6",
            "gridcolor": "white",
            "gridwidth": 2,
            "linecolor": "white",
            "showbackground": true,
            "ticks": "",
            "zerolinecolor": "white"
           }
          },
          "shapedefaults": {
           "line": {
            "color": "#2a3f5f"
           }
          },
          "ternary": {
           "aaxis": {
            "gridcolor": "white",
            "linecolor": "white",
            "ticks": ""
           },
           "baxis": {
            "gridcolor": "white",
            "linecolor": "white",
            "ticks": ""
           },
           "bgcolor": "#E5ECF6",
           "caxis": {
            "gridcolor": "white",
            "linecolor": "white",
            "ticks": ""
           }
          },
          "title": {
           "x": 0.05
          },
          "xaxis": {
           "automargin": true,
           "gridcolor": "white",
           "linecolor": "white",
           "ticks": "",
           "title": {
            "standoff": 15
           },
           "zerolinecolor": "white",
           "zerolinewidth": 2
          },
          "yaxis": {
           "automargin": true,
           "gridcolor": "white",
           "linecolor": "white",
           "ticks": "",
           "title": {
            "standoff": 15
           },
           "zerolinecolor": "white",
           "zerolinewidth": 2
          }
         }
        },
        "xaxis": {
         "title": {
          "text": "x1"
         }
        },
        "yaxis": {
         "title": {
          "text": "x2"
         }
        }
       }
      },
      "text/html": [
       "<div\n",
       "    class=\"webio-mountpoint\"\n",
       "    data-webio-mountpoint=\"5673512714156398103\"\n",
       ">\n",
       "    <script>\n",
       "    (function(){\n",
       "    // Some integrations (namely, IJulia/Jupyter) use an alternate render pathway than\n",
       "    // just putting the html on the page. If WebIO isn't defined, then it's pretty likely\n",
       "    // that we're in one of those situations and the integration just isn't installed\n",
       "    // correctly.\n",
       "    if (typeof window.WebIO === \"undefined\") {\n",
       "        document\n",
       "            .querySelector('[data-webio-mountpoint=\"5673512714156398103\"]')\n",
       "            .innerHTML = (\n",
       "                '<div style=\"padding: 1em; background-color: #f8d6da; border: 1px solid #f5c6cb; font-weight: bold;\">' +\n",
       "                '<p><strong>WebIO not detected.</strong></p>' +\n",
       "                '<p>Please read ' +\n",
       "                '<a href=\"https://juliagizmos.github.io/WebIO.jl/latest/troubleshooting/not-detected/\" target=\"_blank\">the troubleshooting guide</a> ' +\n",
       "                'for more information on how to resolve this issue.</p>' +\n",
       "                '<p><a href=\"https://juliagizmos.github.io/WebIO.jl/latest/troubleshooting/not-detected/\" target=\"_blank\">https://juliagizmos.github.io/WebIO.jl/latest/troubleshooting/not-detected/</a></p>' +\n",
       "                '</div>'\n",
       "            );\n",
       "        return;\n",
       "    }\n",
       "    WebIO.mount(\n",
       "        document.querySelector('[data-webio-mountpoint=\"5673512714156398103\"]'),\n",
       "        {\"props\":{},\"nodeType\":\"Scope\",\"type\":\"node\",\"instanceArgs\":{\"imports\":{\"data\":[{\"name\":\"Plotly\",\"type\":\"js\",\"url\":\"\\/assetserver\\/b18da4091b15526d0747af174dfccc96becba14c-plotly.min.js\"},{\"name\":null,\"type\":\"js\",\"url\":\"\\/assetserver\\/c2e4e2e571d722e403b8cc1a6dd46d697300c946-plotly_webio.bundle.js\"}],\"type\":\"async_block\"},\"id\":\"3585279153225496753\",\"handlers\":{\"_toImage\":[\"(function (options){return this.Plotly.toImage(this.plotElem,options).then((function (data){return WebIO.setval({\\\"name\\\":\\\"image\\\",\\\"scope\\\":\\\"3585279153225496753\\\",\\\"id\\\":\\\"2904204211231352287\\\",\\\"type\\\":\\\"observable\\\"},data)}))})\"],\"__get_gd_contents\":[\"(function (prop){prop==\\\"data\\\" ? (WebIO.setval({\\\"name\\\":\\\"__gd_contents\\\",\\\"scope\\\":\\\"3585279153225496753\\\",\\\"id\\\":\\\"12654858547059088163\\\",\\\"type\\\":\\\"observable\\\"},this.plotElem.data)) : undefined; return prop==\\\"layout\\\" ? (WebIO.setval({\\\"name\\\":\\\"__gd_contents\\\",\\\"scope\\\":\\\"3585279153225496753\\\",\\\"id\\\":\\\"12654858547059088163\\\",\\\"type\\\":\\\"observable\\\"},this.plotElem.layout)) : undefined})\"],\"_downloadImage\":[\"(function (options){return this.Plotly.downloadImage(this.plotElem,options)})\"],\"_commands\":[\"(function (args){var fn=args.shift(); var elem=this.plotElem; var Plotly=this.Plotly; args.unshift(elem); return Plotly[fn].apply(this,args)})\"]},\"systemjs_options\":null,\"mount_callbacks\":[\"function () {\\n    var handler = ((function (Plotly,PlotlyWebIO){PlotlyWebIO.init(WebIO); var gd=this.dom.querySelector(\\\"#plot-7175b4af-37b8-4491-ba54-2de228eaee79\\\"); this.plotElem=gd; this.Plotly=Plotly; (window.Blink!==undefined) ? (gd.style.width=\\\"100%\\\", gd.style.height=\\\"100vh\\\", gd.style.marginLeft=\\\"0%\\\", gd.style.marginTop=\\\"0vh\\\") : undefined; window.onresize=(function (){return Plotly.Plots.resize(gd)}); Plotly.newPlot(gd,[{\\\"mode\\\":\\\"markers\\\",\\\"xaxis\\\":\\\"x\\\",\\\"y\\\":[0.17628862563828857,0.2397241138980664,0.24273034074323993,0.1801866619685226,0.22338127754383683,0.1688538723610917,0.2230828562869405,0.19294052868336029,0.25219158135180786,0.2092620319897445,0.238849293474857,0.26008002748451137,0.32106849739044685,0.14412745471368027,0.15758542514573698,0.2076716587205441],\\\"type\\\":\\\"scatter\\\",\\\"yaxis\\\":\\\"y\\\",\\\"x\\\":[-0.40222685852874185,-0.369121188517868,-0.39825824784141356,-0.3661345091556131,-0.38604158903445335,-0.3459163812885245,-0.35396235796232206,-0.38730289847658794,-0.4218209590603857,-0.32913727167913365,-0.33811646953289354,-0.35648952205614637,-0.2816798718614537,-0.433900512289127,-0.4151406892223849,-0.3702003539475136]}],{\\\"xaxis\\\":{\\\"title\\\":{\\\"text\\\":\\\"x1\\\"}},\\\"template\\\":{\\\"layout\\\":{\\\"coloraxis\\\":{\\\"colorbar\\\":{\\\"ticks\\\":\\\"\\\",\\\"outlinewidth\\\":0}},\\\"xaxis\\\":{\\\"gridcolor\\\":\\\"white\\\",\\\"zerolinewidth\\\":2,\\\"title\\\":{\\\"standoff\\\":15},\\\"ticks\\\":\\\"\\\",\\\"zerolinecolor\\\":\\\"white\\\",\\\"automargin\\\":true,\\\"linecolor\\\":\\\"white\\\"},\\\"hovermode\\\":\\\"closest\\\",\\\"paper_bgcolor\\\":\\\"white\\\",\\\"geo\\\":{\\\"showlakes\\\":true,\\\"showland\\\":true,\\\"landcolor\\\":\\\"#E5ECF6\\\",\\\"bgcolor\\\":\\\"white\\\",\\\"subunitcolor\\\":\\\"white\\\",\\\"lakecolor\\\":\\\"white\\\"},\\\"colorscale\\\":{\\\"sequential\\\":[[0.0,\\\"#0d0887\\\"],[0.1111111111111111,\\\"#46039f\\\"],[0.2222222222222222,\\\"#7201a8\\\"],[0.3333333333333333,\\\"#9c179e\\\"],[0.4444444444444444,\\\"#bd3786\\\"],[0.5555555555555556,\\\"#d8576b\\\"],[0.6666666666666666,\\\"#ed7953\\\"],[0.7777777777777778,\\\"#fb9f3a\\\"],[0.8888888888888888,\\\"#fdca26\\\"],[1.0,\\\"#f0f921\\\"]],\\\"diverging\\\":[[0,\\\"#8e0152\\\"],[0.1,\\\"#c51b7d\\\"],[0.2,\\\"#de77ae\\\"],[0.3,\\\"#f1b6da\\\"],[0.4,\\\"#fde0ef\\\"],[0.5,\\\"#f7f7f7\\\"],[0.6,\\\"#e6f5d0\\\"],[0.7,\\\"#b8e186\\\"],[0.8,\\\"#7fbc41\\\"],[0.9,\\\"#4d9221\\\"],[1,\\\"#276419\\\"]],\\\"sequentialminus\\\":[[0.0,\\\"#0d0887\\\"],[0.1111111111111111,\\\"#46039f\\\"],[0.2222222222222222,\\\"#7201a8\\\"],[0.3333333333333333,\\\"#9c179e\\\"],[0.4444444444444444,\\\"#bd3786\\\"],[0.5555555555555556,\\\"#d8576b\\\"],[0.6666666666666666,\\\"#ed7953\\\"],[0.7777777777777778,\\\"#fb9f3a\\\"],[0.8888888888888888,\\\"#fdca26\\\"],[1.0,\\\"#f0f921\\\"]]},\\\"yaxis\\\":{\\\"gridcolor\\\":\\\"white\\\",\\\"zerolinewidth\\\":2,\\\"title\\\":{\\\"standoff\\\":15},\\\"ticks\\\":\\\"\\\",\\\"zerolinecolor\\\":\\\"white\\\",\\\"automargin\\\":true,\\\"linecolor\\\":\\\"white\\\"},\\\"shapedefaults\\\":{\\\"line\\\":{\\\"color\\\":\\\"#2a3f5f\\\"}},\\\"hoverlabel\\\":{\\\"align\\\":\\\"left\\\"},\\\"mapbox\\\":{\\\"style\\\":\\\"light\\\"},\\\"polar\\\":{\\\"angularaxis\\\":{\\\"gridcolor\\\":\\\"white\\\",\\\"ticks\\\":\\\"\\\",\\\"linecolor\\\":\\\"white\\\"},\\\"bgcolor\\\":\\\"#E5ECF6\\\",\\\"radialaxis\\\":{\\\"gridcolor\\\":\\\"white\\\",\\\"ticks\\\":\\\"\\\",\\\"linecolor\\\":\\\"white\\\"}},\\\"autotypenumbers\\\":\\\"strict\\\",\\\"font\\\":{\\\"color\\\":\\\"#2a3f5f\\\"},\\\"ternary\\\":{\\\"baxis\\\":{\\\"gridcolor\\\":\\\"white\\\",\\\"ticks\\\":\\\"\\\",\\\"linecolor\\\":\\\"white\\\"},\\\"bgcolor\\\":\\\"#E5ECF6\\\",\\\"caxis\\\":{\\\"gridcolor\\\":\\\"white\\\",\\\"ticks\\\":\\\"\\\",\\\"linecolor\\\":\\\"white\\\"},\\\"aaxis\\\":{\\\"gridcolor\\\":\\\"white\\\",\\\"ticks\\\":\\\"\\\",\\\"linecolor\\\":\\\"white\\\"}},\\\"annotationdefaults\\\":{\\\"arrowhead\\\":0,\\\"arrowwidth\\\":1,\\\"arrowcolor\\\":\\\"#2a3f5f\\\"},\\\"plot_bgcolor\\\":\\\"#E5ECF6\\\",\\\"title\\\":{\\\"x\\\":0.05},\\\"scene\\\":{\\\"xaxis\\\":{\\\"gridcolor\\\":\\\"white\\\",\\\"gridwidth\\\":2,\\\"backgroundcolor\\\":\\\"#E5ECF6\\\",\\\"ticks\\\":\\\"\\\",\\\"showbackground\\\":true,\\\"zerolinecolor\\\":\\\"white\\\",\\\"linecolor\\\":\\\"white\\\"},\\\"zaxis\\\":{\\\"gridcolor\\\":\\\"white\\\",\\\"gridwidth\\\":2,\\\"backgroundcolor\\\":\\\"#E5ECF6\\\",\\\"ticks\\\":\\\"\\\",\\\"showbackground\\\":true,\\\"zerolinecolor\\\":\\\"white\\\",\\\"linecolor\\\":\\\"white\\\"},\\\"yaxis\\\":{\\\"gridcolor\\\":\\\"white\\\",\\\"gridwidth\\\":2,\\\"backgroundcolor\\\":\\\"#E5ECF6\\\",\\\"ticks\\\":\\\"\\\",\\\"showbackground\\\":true,\\\"zerolinecolor\\\":\\\"white\\\",\\\"linecolor\\\":\\\"white\\\"}},\\\"colorway\\\":[\\\"#636efa\\\",\\\"#EF553B\\\",\\\"#00cc96\\\",\\\"#ab63fa\\\",\\\"#FFA15A\\\",\\\"#19d3f3\\\",\\\"#FF6692\\\",\\\"#B6E880\\\",\\\"#FF97FF\\\",\\\"#FECB52\\\"]},\\\"data\\\":{\\\"barpolar\\\":[{\\\"type\\\":\\\"barpolar\\\",\\\"marker\\\":{\\\"line\\\":{\\\"color\\\":\\\"#E5ECF6\\\",\\\"width\\\":0.5}}}],\\\"carpet\\\":[{\\\"aaxis\\\":{\\\"gridcolor\\\":\\\"white\\\",\\\"endlinecolor\\\":\\\"#2a3f5f\\\",\\\"minorgridcolor\\\":\\\"white\\\",\\\"startlinecolor\\\":\\\"#2a3f5f\\\",\\\"linecolor\\\":\\\"white\\\"},\\\"type\\\":\\\"carpet\\\",\\\"baxis\\\":{\\\"gridcolor\\\":\\\"white\\\",\\\"endlinecolor\\\":\\\"#2a3f5f\\\",\\\"minorgridcolor\\\":\\\"white\\\",\\\"startlinecolor\\\":\\\"#2a3f5f\\\",\\\"linecolor\\\":\\\"white\\\"}}],\\\"scatterpolar\\\":[{\\\"type\\\":\\\"scatterpolar\\\",\\\"marker\\\":{\\\"colorbar\\\":{\\\"ticks\\\":\\\"\\\",\\\"outlinewidth\\\":0}}}],\\\"parcoords\\\":[{\\\"line\\\":{\\\"colorbar\\\":{\\\"ticks\\\":\\\"\\\",\\\"outlinewidth\\\":0}},\\\"type\\\":\\\"parcoords\\\"}],\\\"scatter\\\":[{\\\"type\\\":\\\"scatter\\\",\\\"marker\\\":{\\\"colorbar\\\":{\\\"ticks\\\":\\\"\\\",\\\"outlinewidth\\\":0}}}],\\\"histogram2dcontour\\\":[{\\\"colorbar\\\":{\\\"ticks\\\":\\\"\\\",\\\"outlinewidth\\\":0},\\\"type\\\":\\\"histogram2dcontour\\\",\\\"colorscale\\\":[[0.0,\\\"#0d0887\\\"],[0.1111111111111111,\\\"#46039f\\\"],[0.2222222222222222,\\\"#7201a8\\\"],[0.3333333333333333,\\\"#9c179e\\\"],[0.4444444444444444,\\\"#bd3786\\\"],[0.5555555555555556,\\\"#d8576b\\\"],[0.6666666666666666,\\\"#ed7953\\\"],[0.7777777777777778,\\\"#fb9f3a\\\"],[0.8888888888888888,\\\"#fdca26\\\"],[1.0,\\\"#f0f921\\\"]]}],\\\"contour\\\":[{\\\"colorbar\\\":{\\\"ticks\\\":\\\"\\\",\\\"outlinewidth\\\":0},\\\"type\\\":\\\"contour\\\",\\\"colorscale\\\":[[0.0,\\\"#0d0887\\\"],[0.1111111111111111,\\\"#46039f\\\"],[0.2222222222222222,\\\"#7201a8\\\"],[0.3333333333333333,\\\"#9c179e\\\"],[0.4444444444444444,\\\"#bd3786\\\"],[0.5555555555555556,\\\"#d8576b\\\"],[0.6666666666666666,\\\"#ed7953\\\"],[0.7777777777777778,\\\"#fb9f3a\\\"],[0.8888888888888888,\\\"#fdca26\\\"],[1.0,\\\"#f0f921\\\"]]}],\\\"scattercarpet\\\":[{\\\"type\\\":\\\"scattercarpet\\\",\\\"marker\\\":{\\\"colorbar\\\":{\\\"ticks\\\":\\\"\\\",\\\"outlinewidth\\\":0}}}],\\\"mesh3d\\\":[{\\\"colorbar\\\":{\\\"ticks\\\":\\\"\\\",\\\"outlinewidth\\\":0},\\\"type\\\":\\\"mesh3d\\\"}],\\\"surface\\\":[{\\\"colorbar\\\":{\\\"ticks\\\":\\\"\\\",\\\"outlinewidth\\\":0},\\\"type\\\":\\\"surface\\\",\\\"colorscale\\\":[[0.0,\\\"#0d0887\\\"],[0.1111111111111111,\\\"#46039f\\\"],[0.2222222222222222,\\\"#7201a8\\\"],[0.3333333333333333,\\\"#9c179e\\\"],[0.4444444444444444,\\\"#bd3786\\\"],[0.5555555555555556,\\\"#d8576b\\\"],[0.6666666666666666,\\\"#ed7953\\\"],[0.7777777777777778,\\\"#fb9f3a\\\"],[0.8888888888888888,\\\"#fdca26\\\"],[1.0,\\\"#f0f921\\\"]]}],\\\"scattermapbox\\\":[{\\\"type\\\":\\\"scattermapbox\\\",\\\"marker\\\":{\\\"colorbar\\\":{\\\"ticks\\\":\\\"\\\",\\\"outlinewidth\\\":0}}}],\\\"scattergeo\\\":[{\\\"type\\\":\\\"scattergeo\\\",\\\"marker\\\":{\\\"colorbar\\\":{\\\"ticks\\\":\\\"\\\",\\\"outlinewidth\\\":0}}}],\\\"histogram\\\":[{\\\"type\\\":\\\"histogram\\\",\\\"marker\\\":{\\\"colorbar\\\":{\\\"ticks\\\":\\\"\\\",\\\"outlinewidth\\\":0}}}],\\\"pie\\\":[{\\\"type\\\":\\\"pie\\\",\\\"automargin\\\":true}],\\\"choropleth\\\":[{\\\"colorbar\\\":{\\\"ticks\\\":\\\"\\\",\\\"outlinewidth\\\":0},\\\"type\\\":\\\"choropleth\\\"}],\\\"heatmapgl\\\":[{\\\"colorbar\\\":{\\\"ticks\\\":\\\"\\\",\\\"outlinewidth\\\":0},\\\"type\\\":\\\"heatmapgl\\\",\\\"colorscale\\\":[[0.0,\\\"#0d0887\\\"],[0.1111111111111111,\\\"#46039f\\\"],[0.2222222222222222,\\\"#7201a8\\\"],[0.3333333333333333,\\\"#9c179e\\\"],[0.4444444444444444,\\\"#bd3786\\\"],[0.5555555555555556,\\\"#d8576b\\\"],[0.6666666666666666,\\\"#ed7953\\\"],[0.7777777777777778,\\\"#fb9f3a\\\"],[0.8888888888888888,\\\"#fdca26\\\"],[1.0,\\\"#f0f921\\\"]]}],\\\"bar\\\":[{\\\"type\\\":\\\"bar\\\",\\\"error_y\\\":{\\\"color\\\":\\\"#2a3f5f\\\"},\\\"error_x\\\":{\\\"color\\\":\\\"#2a3f5f\\\"},\\\"marker\\\":{\\\"line\\\":{\\\"color\\\":\\\"#E5ECF6\\\",\\\"width\\\":0.5}}}],\\\"heatmap\\\":[{\\\"colorbar\\\":{\\\"ticks\\\":\\\"\\\",\\\"outlinewidth\\\":0},\\\"type\\\":\\\"heatmap\\\",\\\"colorscale\\\":[[0.0,\\\"#0d0887\\\"],[0.1111111111111111,\\\"#46039f\\\"],[0.2222222222222222,\\\"#7201a8\\\"],[0.3333333333333333,\\\"#9c179e\\\"],[0.4444444444444444,\\\"#bd3786\\\"],[0.5555555555555556,\\\"#d8576b\\\"],[0.6666666666666666,\\\"#ed7953\\\"],[0.7777777777777778,\\\"#fb9f3a\\\"],[0.8888888888888888,\\\"#fdca26\\\"],[1.0,\\\"#f0f921\\\"]]}],\\\"contourcarpet\\\":[{\\\"colorbar\\\":{\\\"ticks\\\":\\\"\\\",\\\"outlinewidth\\\":0},\\\"type\\\":\\\"contourcarpet\\\"}],\\\"table\\\":[{\\\"type\\\":\\\"table\\\",\\\"header\\\":{\\\"line\\\":{\\\"color\\\":\\\"white\\\"},\\\"fill\\\":{\\\"color\\\":\\\"#C8D4E3\\\"}},\\\"cells\\\":{\\\"line\\\":{\\\"color\\\":\\\"white\\\"},\\\"fill\\\":{\\\"color\\\":\\\"#EBF0F8\\\"}}}],\\\"scatter3d\\\":[{\\\"line\\\":{\\\"colorbar\\\":{\\\"ticks\\\":\\\"\\\",\\\"outlinewidth\\\":0}},\\\"type\\\":\\\"scatter3d\\\",\\\"marker\\\":{\\\"colorbar\\\":{\\\"ticks\\\":\\\"\\\",\\\"outlinewidth\\\":0}}}],\\\"scattergl\\\":[{\\\"type\\\":\\\"scattergl\\\",\\\"marker\\\":{\\\"colorbar\\\":{\\\"ticks\\\":\\\"\\\",\\\"outlinewidth\\\":0}}}],\\\"histogram2d\\\":[{\\\"colorbar\\\":{\\\"ticks\\\":\\\"\\\",\\\"outlinewidth\\\":0},\\\"type\\\":\\\"histogram2d\\\",\\\"colorscale\\\":[[0.0,\\\"#0d0887\\\"],[0.1111111111111111,\\\"#46039f\\\"],[0.2222222222222222,\\\"#7201a8\\\"],[0.3333333333333333,\\\"#9c179e\\\"],[0.4444444444444444,\\\"#bd3786\\\"],[0.5555555555555556,\\\"#d8576b\\\"],[0.6666666666666666,\\\"#ed7953\\\"],[0.7777777777777778,\\\"#fb9f3a\\\"],[0.8888888888888888,\\\"#fdca26\\\"],[1.0,\\\"#f0f921\\\"]]}],\\\"scatterternary\\\":[{\\\"type\\\":\\\"scatterternary\\\",\\\"marker\\\":{\\\"colorbar\\\":{\\\"ticks\\\":\\\"\\\",\\\"outlinewidth\\\":0}}}],\\\"scatterpolargl\\\":[{\\\"type\\\":\\\"scatterpolargl\\\",\\\"marker\\\":{\\\"colorbar\\\":{\\\"ticks\\\":\\\"\\\",\\\"outlinewidth\\\":0}}}]}},\\\"legend\\\":{\\\"tracegroupgap\\\":0},\\\"margin\\\":{\\\"l\\\":50,\\\"b\\\":50,\\\"r\\\":50,\\\"t\\\":60},\\\"yaxis\\\":{\\\"title\\\":{\\\"text\\\":\\\"x2\\\"}}},{\\\"showLink\\\":false,\\\"editable\\\":false,\\\"responsive\\\":true,\\\"staticPlot\\\":false,\\\"scrollZoom\\\":true}); gd.on(\\\"plotly_hover\\\",(function (data){var filtered_data=WebIO.PlotlyCommands.filterEventData(gd,data,\\\"hover\\\"); return !(filtered_data.isnil) ? (WebIO.setval({\\\"name\\\":\\\"hover\\\",\\\"scope\\\":\\\"3585279153225496753\\\",\\\"id\\\":\\\"8323527455316607104\\\",\\\"type\\\":\\\"observable\\\"},filtered_data.out)) : undefined})); gd.on(\\\"plotly_unhover\\\",(function (){return WebIO.setval({\\\"name\\\":\\\"hover\\\",\\\"scope\\\":\\\"3585279153225496753\\\",\\\"id\\\":\\\"8323527455316607104\\\",\\\"type\\\":\\\"observable\\\"},{})})); gd.on(\\\"plotly_selected\\\",(function (data){var filtered_data=WebIO.PlotlyCommands.filterEventData(gd,data,\\\"selected\\\"); return !(filtered_data.isnil) ? (WebIO.setval({\\\"name\\\":\\\"selected\\\",\\\"scope\\\":\\\"3585279153225496753\\\",\\\"id\\\":\\\"18043071543408549630\\\",\\\"type\\\":\\\"observable\\\"},filtered_data.out)) : undefined})); gd.on(\\\"plotly_deselect\\\",(function (){return WebIO.setval({\\\"name\\\":\\\"selected\\\",\\\"scope\\\":\\\"3585279153225496753\\\",\\\"id\\\":\\\"18043071543408549630\\\",\\\"type\\\":\\\"observable\\\"},{})})); gd.on(\\\"plotly_relayout\\\",(function (data){var filtered_data=WebIO.PlotlyCommands.filterEventData(gd,data,\\\"relayout\\\"); return !(filtered_data.isnil) ? (WebIO.setval({\\\"name\\\":\\\"relayout\\\",\\\"scope\\\":\\\"3585279153225496753\\\",\\\"id\\\":\\\"9946296444163479204\\\",\\\"type\\\":\\\"observable\\\"},filtered_data.out)) : undefined})); return gd.on(\\\"plotly_click\\\",(function (data){var filtered_data=WebIO.PlotlyCommands.filterEventData(gd,data,\\\"click\\\"); return !(filtered_data.isnil) ? (WebIO.setval({\\\"name\\\":\\\"click\\\",\\\"scope\\\":\\\"3585279153225496753\\\",\\\"id\\\":\\\"236883724360929064\\\",\\\"type\\\":\\\"observable\\\"},filtered_data.out)) : undefined}))}));\\n    (WebIO.importBlock({\\\"data\\\":[{\\\"name\\\":\\\"Plotly\\\",\\\"type\\\":\\\"js\\\",\\\"url\\\":\\\"\\/assetserver\\/b18da4091b15526d0747af174dfccc96becba14c-plotly.min.js\\\"},{\\\"name\\\":null,\\\"type\\\":\\\"js\\\",\\\"url\\\":\\\"\\/assetserver\\/c2e4e2e571d722e403b8cc1a6dd46d697300c946-plotly_webio.bundle.js\\\"}],\\\"type\\\":\\\"async_block\\\"})).then((imports) => handler.apply(this, imports));\\n}\\n\"],\"observables\":{\"_toImage\":{\"sync\":false,\"id\":\"1984038292615143525\",\"value\":{}},\"hover\":{\"sync\":false,\"id\":\"8323527455316607104\",\"value\":{}},\"selected\":{\"sync\":false,\"id\":\"18043071543408549630\",\"value\":{}},\"__gd_contents\":{\"sync\":false,\"id\":\"12654858547059088163\",\"value\":{}},\"click\":{\"sync\":false,\"id\":\"236883724360929064\",\"value\":{}},\"image\":{\"sync\":true,\"id\":\"2904204211231352287\",\"value\":\"\"},\"__get_gd_contents\":{\"sync\":false,\"id\":\"4804714896860323771\",\"value\":\"\"},\"_downloadImage\":{\"sync\":false,\"id\":\"2699002317389242181\",\"value\":{}},\"relayout\":{\"sync\":false,\"id\":\"9946296444163479204\",\"value\":{}},\"_commands\":{\"sync\":false,\"id\":\"18058322703848294517\",\"value\":[]}}},\"children\":[{\"props\":{\"id\":\"plot-7175b4af-37b8-4491-ba54-2de228eaee79\"},\"nodeType\":\"DOM\",\"type\":\"node\",\"instanceArgs\":{\"namespace\":\"html\",\"tag\":\"div\"},\"children\":[]}]},\n",
       "        window,\n",
       "    );\n",
       "    })()\n",
       "    </script>\n",
       "</div>\n"
      ],
      "text/plain": [
       "data: [\n",
       "  \"scatter with fields mode, type, x, xaxis, y, and yaxis\"\n",
       "]\n",
       "\n",
       "layout: \"layout with fields legend, margin, template, xaxis, and yaxis\"\n",
       "\n"
      ]
     },
     "execution_count": 6,
     "metadata": {},
     "output_type": "execute_result"
    }
   ],
   "source": [
    "df_i = DataFrame(input, :auto)\n",
    "if M == 3\n",
    "    plot(df_i, x=:x1, y=:x2, z=:x3, type=\"scatter3d\", mode=\"markers\")\n",
    "elseif  M == 2\n",
    "    # Assuming you have a DataFrame df_i with columns x1 and x2\n",
    "    plot(df_i, x=:x1, y=:x2, type=\"scatter\", mode=\"markers\")\n",
    "end"
   ]
  },
  {
   "cell_type": "markdown",
   "metadata": {},
   "source": [
    "plot output constellation"
   ]
  },
  {
   "cell_type": "code",
   "execution_count": null,
   "metadata": {},
   "outputs": [],
   "source": [
    "df_out = DataFrame(output, :auto)\n",
    "plot(df_out, x=:x1, y=:x2, z=:x3, type=\"scatter3d\", mode=\"markers\")"
   ]
  },
  {
   "cell_type": "markdown",
   "metadata": {},
   "source": [
    "Verify Euclidean distance for input and output points:"
   ]
  },
  {
   "cell_type": "code",
   "execution_count": null,
   "metadata": {},
   "outputs": [],
   "source": [
    "# euclid_norm  = [euclid(output[i,:], output[j,:]) for i in 1:N for j in 1:N if i != j];\n",
    "euclid_norm  = [euclid(input[i,:], input[j,:]) for i in 1:N for j in 1:N if i != j];\n",
    "min(euclid_norm...)"
   ]
  },
  {
   "cell_type": "code",
   "execution_count": null,
   "metadata": {},
   "outputs": [],
   "source": [
    "plot(euclid_norm)"
   ]
  },
  {
   "cell_type": "code",
   "execution_count": null,
   "metadata": {},
   "outputs": [],
   "source": [
    "plot(DataFrame([euclid_norm], :auto), x=:x1, kind=\"histogram\")"
   ]
  },
  {
   "cell_type": "code",
   "execution_count": null,
   "metadata": {},
   "outputs": [],
   "source": [
    "euclid_norm  = [euclid(input[i,:], input[j,:]) for i in 1:N for j in 1:N if i != j];\n",
    "min(euclid_norm...)"
   ]
  }
 ],
 "metadata": {
  "kernelspec": {
   "display_name": "Julia 1.9.3",
   "language": "julia",
   "name": "julia-1.9"
  },
  "language_info": {
   "file_extension": ".jl",
   "mimetype": "application/julia",
   "name": "julia",
   "version": "1.9.3"
  },
  "orig_nbformat": 4
 },
 "nbformat": 4,
 "nbformat_minor": 2
}
