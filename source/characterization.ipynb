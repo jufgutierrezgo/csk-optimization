{
 "cells": [
  {
   "attachments": {},
   "cell_type": "markdown",
   "metadata": {},
   "source": [
    "## Characterization of an indoor environment\n",
    "\n",
    "The VLC-RM Python package was created to estimate the DC gain, the interchannel interference, and the lighting parameters of a CSK system in rectangular empty rooms. To use this package, four modules must be imported."
   ]
  },
  {
   "cell_type": "code",
   "execution_count": 8,
   "metadata": {},
   "outputs": [],
   "source": [
    "# Import Transmitter\n",
    "from vlc_rm.transmitter import Transmitter\n",
    "# Import Photodetector\n",
    "from vlc_rm.photodetector import Photodetector\n",
    "# Import Indoor Environment\n",
    "from vlc_rm.indoorenv import Indoorenv\n",
    "# Import REcursiveModel\n",
    "from vlc_rm.recursivemodel import Recursivemodel\n",
    "# Import Symbol Constants\n",
    "from vlc_rm.constants import Constants as Kt\n",
    "# Import numpy\n",
    "import numpy as np"
   ]
  },
  {
   "attachments": {},
   "cell_type": "markdown",
   "metadata": {},
   "source": [
    "### Transmitter:\n",
    "The transmitter of a system is defined from a set of parameters as follows:"
   ]
  },
  {
   "cell_type": "code",
   "execution_count": 9,
   "metadata": {},
   "outputs": [
    {
     "name": "stdout",
     "output_type": "stream",
     "text": [
      "\n",
      " List of parameters for LED transmitter: \n",
      "Name: Led1\n",
      "Position [x y z]: [2.5000e+00 2.5000e+00 3.0000e+00] \n",
      "Normal Vector [x y z]: [[0.0000e+00 0.0000e+00 -1.0000e+00]] \n",
      "Lambert Number: 1.0 \n",
      "Central Wavelengths [nm]: [6.2000e+02 5.3000e+02 4.7500e+02] \n",
      "FWHM [nm]: [2.0000e+01 4.5000e+01 2.0000e+01]\n",
      "Luminous Flux [lm]: 5000.0\n",
      "ILER [W/lm]: \n",
      " [[3.8001e-03 0.0000e+00 0.0000e+00]\n",
      " [0.0000e+00 1.9315e-03 0.0000e+00]\n",
      " [0.0000e+00 0.0000e+00 1.1960e-02]] \n",
      "Average Power per Channel Color: \n",
      " [6.3336e+00 3.2192e+00 1.9934e+01] \n",
      "Total Power emmited by the Transmitter [W]: \n",
      " 29.486793736402465 \n",
      "\n"
     ]
    }
   ],
   "source": [
    "transmitter = Transmitter(\n",
    "            \"Led1\",\n",
    "            position=[2.5, 2.5, 3],\n",
    "            normal=[0, 0, -1],\n",
    "            mlambert=1,\n",
    "            wavelengths=[620, 530, 475],\n",
    "            fwhm=[20, 45, 20],\n",
    "            modulation='ieee16',\n",
    "            luminous_flux=5000\n",
    "                    )\n",
    "print(transmitter)"
   ]
  },
  {
   "attachments": {},
   "cell_type": "markdown",
   "metadata": {},
   "source": [
    "Once the transmitter is defined, the spectral power distribution and the spatial power distribution can be plotted."
   ]
  },
  {
   "cell_type": "code",
   "execution_count": null,
   "metadata": {},
   "outputs": [],
   "source": [
    "transmitter.plot_spd_normalized()\n",
    "transmitter.plot_spd_at_1lm()\n",
    "transmitter.plot_spatial_distribution()"
   ]
  },
  {
   "attachments": {},
   "cell_type": "markdown",
   "metadata": {},
   "source": [
    "### Photodetector\n",
    "\n",
    "The second device is the photodetector. It is defined as:"
   ]
  },
  {
   "cell_type": "code",
   "execution_count": 10,
   "metadata": {},
   "outputs": [
    {
     "name": "stdout",
     "output_type": "stream",
     "text": [
      "\n",
      " List of parameters for photodetector PD1: \n",
      "Name: PD1 \n",
      "Position [x y z]: [1.5000e+00 1.5000e+00 8.5000e-01] \n",
      "Normal Vector [x y z]: [[0.0000e+00 0.0000e+00 1.0000e+00]] \n",
      "Active Area[m2]: 3.3333333249174757e-07 \n",
      "FOV: 85.0 \n",
      "Sensor: S10917-35GT\n"
     ]
    }
   ],
   "source": [
    "pd = Photodetector(\n",
    "    \"PD1\",\n",
    "    position=[1.5, 1.5, 0.85],\n",
    "    normal=[0, 0, 1],\n",
    "    area=(1e-6)/3,\n",
    "    # area=0.5e-4,\n",
    "    fov=85,\n",
    "    sensor='S10917-35GT',\n",
    "    idark=1e-12\n",
    "            )\n",
    "print(pd)"
   ]
  },
  {
   "attachments": {},
   "cell_type": "markdown",
   "metadata": {},
   "source": [
    "The sensor parameter is the reference of a commercial Hamamatsu RGB color sensor. According with  the manufacturer this sensor has three photodector with an active area 0.33e-6 [m^2] per detector, a dark current equal to 1-pA. The spectral responsivity of this device can be plotted by the following:"
   ]
  },
  {
   "cell_type": "code",
   "execution_count": 11,
   "metadata": {},
   "outputs": [
    {
     "data": {
      "image/png": "[encoded data removed]",
      "text/plain": [
       "<Figure size 432x288 with 1 Axes>"
      ]
     },
     "metadata": {
      "needs_background": "light"
     },
     "output_type": "display_data"
    }
   ],
   "source": [
    "pd.plot_responsivity()"
   ]
  },
  {
   "attachments": {},
   "cell_type": "markdown",
   "metadata": {},
   "source": [
    "### Indoor Environment\n",
    "\n",
    "The indoor space for VLC is defined by using the 'IndoorEnv' module. The 'no_reflections' parameter specifies the order of reflection to compute the  lighting parameters and the interchannel interference. With the VLC-RM package, the reflectance of each wall can be defined at the central wavelengths. The 'resolution' parameter determines the length of the small square area. THe method 'create_environment()' are used to create a grid of points and two pairwise parameters of the indoor environment."
   ]
  },
  {
   "cell_type": "code",
   "execution_count": 12,
   "metadata": {},
   "outputs": [
    {
     "name": "stdout",
     "output_type": "stream",
     "text": [
      "\n",
      " Creating parameters of indoor environment ...\n",
      "Parameters created!\n",
      "\n",
      "\n",
      " List of parameters for indoor envirionment Room: \n",
      "Name: Room\n",
      "Size [x y z] -> [m]: [5.0000e+00 5.0000e+00 3.0000e+00] \n",
      "Order reflection: 10 \n",
      "Resolution points [m]: 0.10000000149011612\n",
      "Smaller Area [m^2]: 0.01\n",
      "Number of points: 11002\n",
      "\n"
     ]
    }
   ],
   "source": [
    "room = Indoorenv(\n",
    "        \"Room\",\n",
    "        size=[5, 5, 3],\n",
    "        no_reflections=10,\n",
    "        resolution=1/10,\n",
    "        ceiling=[0.82, 0.71, 0.64],\n",
    "        west=[0.82, 0.71, 0.64],\n",
    "        north=[0.82, 0.71, 0.64],\n",
    "        east=[0.82, 0.71, 0.64],\n",
    "        south=[0.82, 0.71, 0.64],\n",
    "        floor=[0.635, 0.61, 0.58]\n",
    "            )\n",
    "room.create_environment(transmitter, pd)\n",
    "print(room)"
   ]
  },
  {
   "attachments": {},
   "cell_type": "markdown",
   "metadata": {},
   "source": [
    "### Simulation of multiple PD positions\n",
    "\n",
    "The simulation of the indoor WDM-VLC is carried out by the 'RecursiveModel' module, which is defined the following."
   ]
  },
  {
   "cell_type": "code",
   "execution_count": null,
   "metadata": {},
   "outputs": [],
   "source": [
    "channel_model = Recursivemodel(\n",
    "        \"ChannelModelA\",\n",
    "        transmitter,\n",
    "        pd,\n",
    "        room\n",
    "        )\n",
    "channel_model.simulate_channel()    \n",
    "print(channel_model)"
   ]
  },
  {
   "attachments": {},
   "cell_type": "markdown",
   "metadata": {},
   "source": [
    "To realize a simulation for multiple receiver positions, the 'create_environment()' method is used by setting a mode='modified'. The 'modified' option allows to change the position or the orientation of the transmitter and the detector without recalculating all parameters. A list with the different positions is defined and then the iterative calculation of the channel simulation is deploy."
   ]
  },
  {
   "cell_type": "code",
   "execution_count": 6,
   "metadata": {},
   "outputs": [
    {
     "name": "stdout",
     "output_type": "stream",
     "text": [
      "[0.5, 0.5, 0.85]\n",
      "[1.5, 0.5, 0.85]\n",
      "[2.5, 0.5, 0.85]\n",
      "[3.5, 0.5, 0.85]\n",
      "[4.5, 0.5, 0.85]\n",
      "[0.5, 1.5, 0.85]\n",
      "[1.5, 1.5, 0.85]\n",
      "[2.5, 1.5, 0.85]\n",
      "[3.5, 1.5, 0.85]\n",
      "[4.5, 1.5, 0.85]\n",
      "[0.5, 2.5, 0.85]\n",
      "[1.5, 2.5, 0.85]\n",
      "[2.5, 2.5, 0.85]\n",
      "[3.5, 2.5, 0.85]\n",
      "[4.5, 2.5, 0.85]\n",
      "[0.5, 3.5, 0.85]\n",
      "[1.5, 3.5, 0.85]\n",
      "[2.5, 3.5, 0.85]\n",
      "[3.5, 3.5, 0.85]\n",
      "[4.5, 3.5, 0.85]\n",
      "[0.5, 4.5, 0.85]\n",
      "[1.5, 4.5, 0.85]\n",
      "[2.5, 4.5, 0.85]\n",
      "[3.5, 4.5, 0.85]\n",
      "[4.5, 4.5, 0.85]\n"
     ]
    }
   ],
   "source": [
    "# Create x, y, z arrays\n",
    "nx = 5\n",
    "ny = 5\n",
    "x = np.linspace(0.5, 4.5, nx)\n",
    "y = np.linspace(0.5, 4.5, ny)\n",
    "\n",
    "# Create a 3D meshgrid\n",
    "X, Y = np.meshgrid(x, y)\n",
    "Z = 0.85\n",
    "\n",
    "for i in range(nx):\n",
    "    for j in range(ny):\n",
    "        # Define a photodetector position\n",
    "        pd.position =  [X[i,j], Y[i,j], Z]\n",
    "        # Compute the paramteres of the indoor enviorment\n",
    "        room.create_environment(transmitter, pd, mode='modified')\n",
    "        # Define the model\n",
    "        channel_model = Recursivemodel(\n",
    "            \"ChannelModelA\",\n",
    "            transmitter,\n",
    "            pd,\n",
    "            room\n",
    "            )\n",
    "        # Simulate indoor channel\n",
    "        channel_model.simulate_channel()    \n",
    "        # Print results of the simulation\n",
    "        print(channel_model)\n"
   ]
  }
 ],
 "metadata": {
  "kernelspec": {
   "display_name": "base",
   "language": "python",
   "name": "python3"
  },
  "language_info": {
   "codemirror_mode": {
    "name": "ipython",
    "version": 3
   },
   "file_extension": ".py",
   "mimetype": "text/x-python",
   "name": "python",
   "nbconvert_exporter": "python",
   "pygments_lexer": "ipython3",
   "version": "3.8.10"
  },
  "orig_nbformat": 4
 },
 "nbformat": 4,
 "nbformat_minor": 2
}
