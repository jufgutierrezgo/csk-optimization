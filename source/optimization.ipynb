{
 "cells": [
  {
   "cell_type": "markdown",
   "metadata": {},
   "source": [
    "# FOrmualtion and solving of the optimization problem"
   ]
  },
  {
   "cell_type": "code",
   "execution_count": 1,
   "metadata": {},
   "outputs": [
    {
     "name": "stdout",
     "output_type": "stream",
     "text": [
      "Initial Guess\n",
      "[[0.47249466 0.39827229 0.30350129]\n",
      " [0.21264238 0.35955621 0.40802687]\n",
      " [0.20783491 0.72321019 0.05482299]\n",
      " [0.2939758  0.75942976 0.16590028]]\n",
      "Optimal Coordinates:\n",
      "[[8.77965077e-01 1.22034923e-01 6.17995238e-18]\n",
      " [2.42861287e-17 4.75764670e-01 5.24235330e-01]\n",
      " [2.12545545e-01 7.27920827e-01 5.95336289e-02]\n",
      " [2.20873856e-01 6.86327812e-01 9.27983314e-02]]\n",
      "Optimal Minimum Pairwise Distance: -2.09705161866968\n"
     ]
    }
   ],
   "source": [
    "import numpy as np\n",
    "from scipy.optimize import minimize\n",
    "\n",
    "def euclidean_distance(p1, p2):\n",
    "    return np.linalg.norm(p2 - p1)\n",
    "\n",
    "def objective_mindist(coordinates):\n",
    "    distances = []\n",
    "    for i in range(N):\n",
    "        for j in range(i + 1, N):\n",
    "            distances.append(euclidean_distance(coordinates[i], coordinates[j]))\n",
    "    return -min(distances)\n",
    "\n",
    "def objective_logsum(coordinates):\n",
    "    result = np.infty\n",
    "    sum = 0 \n",
    "    for i in range(N):\n",
    "        for j in range(N):\n",
    "            if i!=j:\n",
    "                sum += np.exp(\n",
    "                    -betta * euclidean_distance(coordinates[i], coordinates[j])            \n",
    "                    )\n",
    "                \n",
    "    result = -np.log(sum)/betta\n",
    "    return -result\n",
    "\n",
    "def constraint_sum_to_one(coordinates):\n",
    "    # print(np.sum(coordinates, axis=0)/N - 1)\n",
    "    return np.sum(coordinates, axis=0)/N - 1\n",
    "\n",
    "def constraint_sum_to_one_vector(coordinates):\n",
    "    A = np.kron(np.identity(N),np.ones((1,3)))\n",
    "    return np.dot(A, coordinates)-1\n",
    "\n",
    "# Betta factor of log-sum-exponential function (Monteiro, 2014)\n",
    "betta = 1\n",
    "\n",
    "N = 4  # Number of points\n",
    "\n",
    "# Initial guess for coordinates\n",
    "# initial_guess = np.ones((N, 3)) / 3\n",
    "initial_guess = np.random.rand(N,3)\n",
    "# initial_guess = np.array(\n",
    "#    [[0.99, 0.01, 0.01], [0.01, 0.99, 0.01], [0.01, 0.01, 0.99], [1/3, 1/3, 1/3]]\n",
    "#    )\n",
    "\n",
    "# Constraints\n",
    "constraints = [\n",
    "    {'type': 'eq', 'fun': constraint_sum_to_one_vector},\n",
    "    {'type': 'ineq', 'fun': lambda x: x}\n",
    "]\n",
    "\n",
    "# Bounds for each variable (xi, yi, zi > 0)\n",
    "bounds = [(0, None), (0, None), (0, None)] * N\n",
    "\n",
    "# Solve the optimization problem\n",
    "result = minimize(\n",
    "    objective_logsum, \n",
    "    initial_guess.flatten(), \n",
    "    method='SLSQP', \n",
    "    bounds=bounds, \n",
    "    constraints=constraints\n",
    "    )\n",
    "\n",
    "# Reshape the result to get the optimal coordinates\n",
    "optimal_coordinates = result.x.reshape(N, 3)\n",
    "\n",
    "# Print the optimal coordinates and the optimal value\n",
    "print(\"Initial Guess\")\n",
    "print(initial_guess)\n",
    "print(\"Optimal Coordinates:\")\n",
    "print(optimal_coordinates)\n",
    "print(\"Optimal Minimum Pairwise Distance:\", -result.fun)\n"
   ]
  }
 ],
 "metadata": {
  "kernelspec": {
   "display_name": "base",
   "language": "python",
   "name": "python3"
  },
  "language_info": {
   "codemirror_mode": {
    "name": "ipython",
    "version": 3
   },
   "file_extension": ".py",
   "mimetype": "text/x-python",
   "name": "python",
   "nbconvert_exporter": "python",
   "pygments_lexer": "ipython3",
   "version": "3.8.10"
  },
  "orig_nbformat": 4
 },
 "nbformat": 4,
 "nbformat_minor": 2
}
