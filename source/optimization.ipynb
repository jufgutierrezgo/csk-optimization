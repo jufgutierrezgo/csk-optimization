{
 "cells": [
  {
   "cell_type": "markdown",
   "metadata": {},
   "source": [
    "# FOrmualtion and solving of the optimization problem"
   ]
  },
  {
   "cell_type": "code",
   "execution_count": 4,
   "metadata": {},
   "outputs": [
    {
     "name": "stdout",
     "output_type": "stream",
     "text": [
      "Initial Guess\n",
      "[[0.99       0.01       0.01      ]\n",
      " [0.01       0.99       0.01      ]\n",
      " [0.01       0.01       0.99      ]\n",
      " [0.33333333 0.33333333 0.33333333]]\n",
      "Optimal Coordinates:\n",
      "[[8.78011018e-01 1.21988982e-01 0.00000000e+00]\n",
      " [1.00000000e+00 0.00000000e+00 1.81061763e-17]\n",
      " [6.66666667e-03 6.66666667e-03 9.86666667e-01]\n",
      " [3.33333333e-01 3.33333333e-01 3.33333333e-01]]\n",
      "Optimal Minimum Pairwise Distance: -1.928311521242472\n"
     ]
    }
   ],
   "source": [
    "import numpy as np\n",
    "from scipy.optimize import minimize\n",
    "\n",
    "def euclidean_distance(p1, p2):\n",
    "    return np.linalg.norm(p2 - p1)\n",
    "\n",
    "def objective_mindist(coordinates):\n",
    "    distances = []\n",
    "    for i in range(N):\n",
    "        for j in range(i + 1, N):\n",
    "            distances.append(euclidean_distance(coordinates[i], coordinates[j]))\n",
    "    return -min(distances)\n",
    "\n",
    "def objective_logsum(coordinates):\n",
    "    result = np.infty\n",
    "    sum = 0 \n",
    "    for i in range(N):\n",
    "        for j in range(N):\n",
    "            if i!=j:\n",
    "                sum += np.exp(\n",
    "                    -betta * euclidean_distance(coordinates[i], coordinates[j])            \n",
    "                    )\n",
    "                \n",
    "    result = -np.log(sum)/betta\n",
    "    return -result\n",
    "\n",
    "def constraint_sum_to_one(coordinates):\n",
    "    # print(np.sum(coordinates, axis=0)/N - 1)\n",
    "    return np.sum(coordinates, axis=0)/N - 1\n",
    "\n",
    "def constraint_sum_to_one_vector(coordinates):\n",
    "    A = np.kron(np.identity(N),np.ones((1,3)))\n",
    "    return np.dot(A, coordinates)-1\n",
    "\n",
    "# Betta factor of log-sum-exponential function (Monteiro, 2014)\n",
    "betta = 1\n",
    "\n",
    "N = 4  # Number of points\n",
    "\n",
    "# Initial guess for coordinates\n",
    "# initial_guess = np.ones((N, 3)) / 3\n",
    "# initial_guess = np.random.rand(N,3)\n",
    "# initial_guess = np.array(\n",
    "#    [[0.99, 0.01, 0.01], [0.01, 0.99, 0.01], [0.01, 0.01, 0.99], [1/3, 1/3, 1/3]]\n",
    "#    )\n",
    "\n",
    "# Constraints\n",
    "constraints = [\n",
    "    {'type': 'eq', 'fun': constraint_sum_to_one_vector},\n",
    "    {'type': 'ineq', 'fun': lambda x: x}\n",
    "]\n",
    "\n",
    "# Bounds for each variable (xi, yi, zi > 0)\n",
    "bounds = [(0, None), (0, None), (0, None)] * N\n",
    "\n",
    "# Solve the optimization problem\n",
    "result = minimize(objective_logsum, initial_guess.flatten(), method='SLSQP', bounds=bounds, constraints=constraints)\n",
    "\n",
    "# Reshape the result to get the optimal coordinates\n",
    "optimal_coordinates = result.x.reshape(N, 3)\n",
    "\n",
    "# Print the optimal coordinates and the optimal value\n",
    "print(\"Initial Guess\")\n",
    "print(initial_guess)\n",
    "print(\"Optimal Coordinates:\")\n",
    "print(optimal_coordinates)\n",
    "print(\"Optimal Minimum Pairwise Distance:\", -result.fun)\n"
   ]
  }
 ],
 "metadata": {
  "kernelspec": {
   "display_name": "base",
   "language": "python",
   "name": "python3"
  },
  "language_info": {
   "codemirror_mode": {
    "name": "ipython",
    "version": 3
   },
   "file_extension": ".py",
   "mimetype": "text/x-python",
   "name": "python",
   "nbconvert_exporter": "python",
   "pygments_lexer": "ipython3",
   "version": "3.8.10"
  },
  "orig_nbformat": 4
 },
 "nbformat": 4,
 "nbformat_minor": 2
}
