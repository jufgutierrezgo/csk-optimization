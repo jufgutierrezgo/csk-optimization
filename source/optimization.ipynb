{
 "cells": [
  {
   "cell_type": "markdown",
   "metadata": {},
   "source": [
    "# FOrmualtion and solving of the optimization problem"
   ]
  },
  {
   "cell_type": "code",
   "execution_count": 23,
   "metadata": {},
   "outputs": [
    {
     "name": "stdout",
     "output_type": "stream",
     "text": [
      "Initial Guess\n",
      "[[0.03916012 0.59296454 0.9486537 ]\n",
      " [0.61871866 0.34338068 0.21444109]\n",
      " [0.15735123 0.33335182 0.15643246]\n",
      " [0.98961743 0.26109127 0.59310178]]\n",
      "Optimal Coordinates:\n",
      "[[3.33333328e-01 1.04388193e-18 6.66666672e-01]\n",
      " [1.00000000e+00 6.06344116e-19 3.20114779e-19]\n",
      " [2.74972731e-01 4.50973315e-01 2.74053954e-01]\n",
      " [6.98257825e-01 4.56732877e-11 3.01742175e-01]]\n",
      "Optimal Minimum Pairwise Distance: 0.33333332839498\n"
     ]
    }
   ],
   "source": [
    "import numpy as np\n",
    "from scipy.optimize import minimize\n",
    "\n",
    "def euclidean_distance(p1, p2):\n",
    "    return np.linalg.norm(p2 - p1)\n",
    "\n",
    "def objective(coordinates):\n",
    "    distances = []\n",
    "    for i in range(N):\n",
    "        for j in range(i + 1, N):\n",
    "            distances.append(euclidean_distance(coordinates[i], coordinates[j]))\n",
    "    return -min(distances)\n",
    "\n",
    "def constraint_sum_to_one(coordinates):\n",
    "    # print(np.sum(coordinates, axis=0)/N - 1)\n",
    "    return np.sum(coordinates, axis=0)/N - 1\n",
    "\n",
    "def constraint_sum_to_one_vector(coordinates):\n",
    "    A = np.kron(np.identity(N),np.ones((1,3)))\n",
    "    return np.dot(A, coordinates)-1\n",
    "\n",
    "N = 4  # Number of points\n",
    "\n",
    "# Initial guess for coordinates\n",
    "# initial_guess = np.ones((N, 3)) / 3\n",
    "initial_guess = np.random.rand(N,3)\n",
    "# initial_guess = np.array(\n",
    "#    [[0.99, 0.01, 0.01], [0.01, 0.99, 0.01], [0.01, 0.01, 0.99], [1/3, 1/3, 1/3]]\n",
    "#    )\n",
    "\n",
    "# Constraints\n",
    "constraints = [\n",
    "    {'type': 'eq', 'fun': constraint_sum_to_one_vector},\n",
    "    {'type': 'ineq', 'fun': lambda x: x}\n",
    "]\n",
    "\n",
    "# Bounds for each variable (xi, yi, zi > 0)\n",
    "bounds = [(0, None), (0, None), (0, None)] * N\n",
    "\n",
    "# Solve the optimization problem\n",
    "result = minimize(objective, initial_guess.flatten(), method='SLSQP', bounds=bounds, constraints=constraints)\n",
    "\n",
    "# Reshape the result to get the optimal coordinates\n",
    "optimal_coordinates = result.x.reshape(N, 3)\n",
    "\n",
    "# Print the optimal coordinates and the optimal value\n",
    "print(\"Initial Guess\")\n",
    "print(initial_guess)\n",
    "print(\"Optimal Coordinates:\")\n",
    "print(optimal_coordinates)\n",
    "print(\"Optimal Minimum Pairwise Distance:\", -result.fun)\n"
   ]
  }
 ],
 "metadata": {
  "kernelspec": {
   "display_name": "base",
   "language": "python",
   "name": "python3"
  },
  "language_info": {
   "codemirror_mode": {
    "name": "ipython",
    "version": 3
   },
   "file_extension": ".py",
   "mimetype": "text/x-python",
   "name": "python",
   "nbconvert_exporter": "python",
   "pygments_lexer": "ipython3",
   "version": "3.8.10"
  },
  "orig_nbformat": 4
 },
 "nbformat": 4,
 "nbformat_minor": 2
}
