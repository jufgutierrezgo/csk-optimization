{
 "cells": [
  {
   "cell_type": "markdown",
   "metadata": {},
   "source": [
    "# FOrmualtion and solving of the optimization problem"
   ]
  },
  {
   "cell_type": "code",
   "execution_count": 5,
   "metadata": {},
   "outputs": [
    {
     "name": "stdout",
     "output_type": "stream",
     "text": [
      "Initial Guess\n",
      "[[0.19699225 0.89547547 0.7862691 ]\n",
      " [0.11355179 0.93862371 0.36936552]\n",
      " [0.0606613  0.96539575 0.33080273]\n",
      " [0.4876223  0.12981115 0.52024951]]\n",
      "Optimal Coordinates:\n",
      "[[0.87138401 0.12861599 0.        ]\n",
      " [0.55853331 0.27461145 0.16685524]\n",
      " [0.00593475 0.81432913 0.17973612]\n",
      " [0.44172798 0.08391683 0.47435519]]\n",
      "Optimal Minimum Pairwise Distance: 0.2294763746885105\n"
     ]
    }
   ],
   "source": [
    "import numpy as np\n",
    "from scipy.optimize import minimize\n",
    "\n",
    "def euclidean_distance(p1, p2):\n",
    "    return np.linalg.norm(p2 - p1)\n",
    "\n",
    "def objective_mindist(coordinates):\n",
    "    distances = []\n",
    "    for i in range(N):\n",
    "        for j in range(i + 1, N):\n",
    "            distances.append(euclidean_distance(coordinates[i], coordinates[j]))\n",
    "    return -min(distances)\n",
    "\n",
    "def objective_logsum(coordinates):\n",
    "    result = np.infty\n",
    "    sum = 0 \n",
    "    for i in range(N):\n",
    "        for j in range(N):\n",
    "            if i!=j:\n",
    "                sum += np.exp(\n",
    "                    -betta * euclidean_distance(coordinates[i], coordinates[j])            \n",
    "                    )\n",
    "                \n",
    "    result = -np.log(sum)/betta\n",
    "    return -result\n",
    "\n",
    "def constraint_sum_to_one(coordinates):\n",
    "    # print(np.sum(coordinates, axis=0)/N - 1)\n",
    "    return np.sum(coordinates, axis=0)/N - 1\n",
    "\n",
    "def constraint_sum_to_one_vector(coordinates):\n",
    "    A = np.kron(np.identity(N),np.ones((1,3)))\n",
    "    return np.dot(A, coordinates)-1\n",
    "\n",
    "# Betta factor of log-sum-exponential function (Monteiro, 2014)\n",
    "betta = 4\n",
    "\n",
    "N = 4  # Number of points\n",
    "\n",
    "# Initial guess for coordinates\n",
    "# initial_guess = np.ones((N, 3)) / 3\n",
    "initial_guess = np.random.rand(N,3)\n",
    "# initial_guess = np.array(\n",
    "#    [[0.99, 0.01, 0.01], [0.01, 0.99, 0.01], [0.01, 0.01, 0.99], [1/3, 1/3, 1/3]]\n",
    "#    )\n",
    "\n",
    "# Constraints\n",
    "constraints = [\n",
    "    {'type': 'eq', 'fun': constraint_sum_to_one_vector},\n",
    "    {'type': 'ineq', 'fun': lambda x: x}\n",
    "]\n",
    "\n",
    "# Bounds for each variable (xi, yi, zi > 0)\n",
    "bounds = [(0, None), (0, None), (0, None)] * N\n",
    "\n",
    "# Solve the optimization problem\n",
    "result = minimize(\n",
    "    objective_logsum, \n",
    "    initial_guess.flatten(), \n",
    "    method='SLSQP', \n",
    "    bounds=bounds, \n",
    "    constraints=constraints\n",
    "    )\n",
    "\n",
    "# Reshape the result to get the optimal coordinates\n",
    "optimal_coordinates = result.x.reshape(N, 3)\n",
    "\n",
    "# Print the optimal coordinates and the optimal value\n",
    "print(\"Initial Guess\")\n",
    "print(initial_guess)\n",
    "print(\"Optimal Coordinates:\")\n",
    "print(optimal_coordinates)\n",
    "print(\"Optimal Minimum Pairwise Distance:\", result.fun)\n"
   ]
  },
  {
   "cell_type": "code",
   "execution_count": 1,
   "metadata": {},
   "outputs": [
    {
     "data": {
      "image/png": "[encoded data removed]",
      "text/plain": [
       "<Figure size 640x480 with 1 Axes>"
      ]
     },
     "metadata": {},
     "output_type": "display_data"
    }
   ],
   "source": [
    "import matplotlib.pyplot as plt\n",
    "import numpy as np\n",
    "\n",
    "# Define the equilateral triangle's vertices\n",
    "vertices = np.array([[0, 0], [1, 0], [0.5, np.sqrt(3)/2]])\n",
    "\n",
    "# Create a figure and axis\n",
    "fig, ax = plt.subplots()\n",
    "\n",
    "# Plot the equilateral triangle\n",
    "triangle = plt.Polygon(vertices, closed=True, fill=None, edgecolor='black')\n",
    "ax.add_patch(triangle)\n",
    "\n",
    "# Define the radius of the circles\n",
    "radius = 0.05  # Adjust the radius as needed\n",
    "\n",
    "# Calculate the positions of circles on the edges\n",
    "edge_centers = [(vertices[i] + vertices[(i + 1) % 3]) / 2 for i in range(3)]\n",
    "\n",
    "# Plot circles at the vertices and on the edges\n",
    "for center in np.vstack([vertices, edge_centers]):\n",
    "    circle = plt.Circle(center, radius, fill=None, edgecolor='red')\n",
    "    ax.add_patch(circle)\n",
    "\n",
    "# Set axis limits and aspect ratio\n",
    "ax.set_xlim(-0.1, 1.1)\n",
    "ax.set_ylim(-0.1, np.sqrt(3)/2 + 0.1)\n",
    "ax.set_aspect('equal', adjustable='box')\n",
    "\n",
    "# Show the plot\n",
    "# plt.axis('off')  # Turn off the axis\n",
    "plt.show()\n"
   ]
  }
 ],
 "metadata": {
  "kernelspec": {
   "display_name": "base",
   "language": "python",
   "name": "python3"
  },
  "language_info": {
   "codemirror_mode": {
    "name": "ipython",
    "version": 3
   },
   "file_extension": ".py",
   "mimetype": "text/x-python",
   "name": "python",
   "nbconvert_exporter": "python",
   "pygments_lexer": "ipython3",
   "version": "3.8.10"
  },
  "orig_nbformat": 4
 },
 "nbformat": 4,
 "nbformat_minor": 2
}
